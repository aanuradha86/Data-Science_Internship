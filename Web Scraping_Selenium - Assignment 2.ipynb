{
 "cells": [
  {
   "cell_type": "code",
   "execution_count": 2,
   "id": "5fbf3f0b",
   "metadata": {},
   "outputs": [],
   "source": [
    "import selenium\n",
    "from selenium import webdriver\n",
    "import pandas as pd\n",
    "import time\n",
    "import warnings\n",
    "warnings.filterwarnings('ignore')"
   ]
  },
  {
   "cell_type": "code",
   "execution_count": 3,
   "id": "bfd2fcbc",
   "metadata": {},
   "outputs": [],
   "source": [
    "driver = webdriver.Chrome(r'C:\\Users\\Anuradha\\Downloads\\chromedriver.exe')"
   ]
  },
  {
   "cell_type": "markdown",
   "id": "7e3e0a16",
   "metadata": {},
   "source": [
    "## Q1 Write a python program to scrape data for “Data Analyst” Job position in “Bangalore” location. You have to scrape the job-title, job-location, company_name, experience_required. You have to scrape first 10 jobs data"
   ]
  },
  {
   "cell_type": "code",
   "execution_count": 3,
   "id": "7679e3ec",
   "metadata": {},
   "outputs": [],
   "source": [
    "#Opening URL\n",
    "url = 'https://www.naukri.com'\n",
    "driver.get(url)"
   ]
  },
  {
   "cell_type": "code",
   "execution_count": 4,
   "id": "e2971202",
   "metadata": {},
   "outputs": [
    {
     "data": {
      "text/plain": [
       "<selenium.webdriver.remote.webelement.WebElement (session=\"1c5465ec946c155681e7d4fc241ed9be\", element=\"e9946538-e9f0-4e57-9f31-c972663f35b5\")>"
      ]
     },
     "execution_count": 4,
     "metadata": {},
     "output_type": "execute_result"
    }
   ],
   "source": [
    "# Search Job\n",
    "search_job = driver.find_element_by_class_name('suggestor-input')\n",
    "search_job"
   ]
  },
  {
   "cell_type": "code",
   "execution_count": 5,
   "id": "4d5df691",
   "metadata": {},
   "outputs": [],
   "source": [
    "search_job.send_keys(\"Data Analyst\")"
   ]
  },
  {
   "cell_type": "code",
   "execution_count": 6,
   "id": "13906ee9",
   "metadata": {},
   "outputs": [
    {
     "data": {
      "text/plain": [
       "<selenium.webdriver.remote.webelement.WebElement (session=\"1c5465ec946c155681e7d4fc241ed9be\", element=\"7f563ca1-1786-4ff1-a132-0bd55a7161de\")>"
      ]
     },
     "execution_count": 6,
     "metadata": {},
     "output_type": "execute_result"
    }
   ],
   "source": [
    "# Search Location\n",
    "search_locn = driver.find_element_by_xpath('/html/body/div/div[2]/div[3]/div/div/div[3]/div/div/div/input')\n",
    "search_locn"
   ]
  },
  {
   "cell_type": "code",
   "execution_count": 7,
   "id": "4dfc0f38",
   "metadata": {},
   "outputs": [],
   "source": [
    "search_locn.send_keys('Bangalore')"
   ]
  },
  {
   "cell_type": "code",
   "execution_count": 8,
   "id": "b7873a1d",
   "metadata": {},
   "outputs": [
    {
     "data": {
      "text/plain": [
       "<selenium.webdriver.remote.webelement.WebElement (session=\"1c5465ec946c155681e7d4fc241ed9be\", element=\"c1d8c6d3-41a9-4e31-8797-95c4a28d5236\")>"
      ]
     },
     "execution_count": 8,
     "metadata": {},
     "output_type": "execute_result"
    }
   ],
   "source": [
    "# Find and CLick Submit\n",
    "search_btn = driver.find_element_by_class_name('qsbSubmit')\n",
    "search_btn"
   ]
  },
  {
   "cell_type": "code",
   "execution_count": 9,
   "id": "d65245a2",
   "metadata": {},
   "outputs": [],
   "source": [
    "search_btn.click()"
   ]
  },
  {
   "cell_type": "markdown",
   "id": "555c44e4",
   "metadata": {},
   "source": [
    "### Scraping Job Titles"
   ]
  },
  {
   "cell_type": "code",
   "execution_count": 10,
   "id": "bace20e8",
   "metadata": {},
   "outputs": [
    {
     "data": {
      "text/plain": [
       "[<selenium.webdriver.remote.webelement.WebElement (session=\"1c5465ec946c155681e7d4fc241ed9be\", element=\"c2ba6fc7-f66c-4b1a-a0a4-1f8fc4610951\")>,\n",
       " <selenium.webdriver.remote.webelement.WebElement (session=\"1c5465ec946c155681e7d4fc241ed9be\", element=\"6da19512-084d-4500-8dd7-c337fc9071f1\")>,\n",
       " <selenium.webdriver.remote.webelement.WebElement (session=\"1c5465ec946c155681e7d4fc241ed9be\", element=\"d3fd8b19-baf4-415a-8866-d9befee636a5\")>,\n",
       " <selenium.webdriver.remote.webelement.WebElement (session=\"1c5465ec946c155681e7d4fc241ed9be\", element=\"271cfe33-8015-4ac1-ac4a-57a6dc73d2e0\")>,\n",
       " <selenium.webdriver.remote.webelement.WebElement (session=\"1c5465ec946c155681e7d4fc241ed9be\", element=\"e6842629-061a-4042-b244-fb9a2750cc01\")>,\n",
       " <selenium.webdriver.remote.webelement.WebElement (session=\"1c5465ec946c155681e7d4fc241ed9be\", element=\"0e217c11-d352-45b6-8819-37c3c7beb09e\")>,\n",
       " <selenium.webdriver.remote.webelement.WebElement (session=\"1c5465ec946c155681e7d4fc241ed9be\", element=\"73f554ce-8e12-4c90-aea4-37e849cb0d87\")>,\n",
       " <selenium.webdriver.remote.webelement.WebElement (session=\"1c5465ec946c155681e7d4fc241ed9be\", element=\"5f7f8b6e-d7b5-46c7-81aa-a26022b31272\")>,\n",
       " <selenium.webdriver.remote.webelement.WebElement (session=\"1c5465ec946c155681e7d4fc241ed9be\", element=\"3c195423-b090-4413-9870-6616ae78a192\")>,\n",
       " <selenium.webdriver.remote.webelement.WebElement (session=\"1c5465ec946c155681e7d4fc241ed9be\", element=\"8952c1e2-cbf9-4c71-8416-e5faed1630bf\")>,\n",
       " <selenium.webdriver.remote.webelement.WebElement (session=\"1c5465ec946c155681e7d4fc241ed9be\", element=\"a09e804b-ffa6-4da9-af8e-edce33e56efe\")>,\n",
       " <selenium.webdriver.remote.webelement.WebElement (session=\"1c5465ec946c155681e7d4fc241ed9be\", element=\"5bced785-3cbe-443f-b0c4-1cbb2f60cd56\")>,\n",
       " <selenium.webdriver.remote.webelement.WebElement (session=\"1c5465ec946c155681e7d4fc241ed9be\", element=\"92339079-8b76-41b3-bccc-9491a459c670\")>,\n",
       " <selenium.webdriver.remote.webelement.WebElement (session=\"1c5465ec946c155681e7d4fc241ed9be\", element=\"3ed90856-7933-4dbd-8f62-b6d5f8164218\")>,\n",
       " <selenium.webdriver.remote.webelement.WebElement (session=\"1c5465ec946c155681e7d4fc241ed9be\", element=\"d414059b-3857-4c0c-aacd-e41107537bf9\")>,\n",
       " <selenium.webdriver.remote.webelement.WebElement (session=\"1c5465ec946c155681e7d4fc241ed9be\", element=\"4cd90a9c-51e4-4150-b9d2-6f3e88f17a7a\")>,\n",
       " <selenium.webdriver.remote.webelement.WebElement (session=\"1c5465ec946c155681e7d4fc241ed9be\", element=\"3d21baa1-f60f-41ba-871f-9b3d9c89450b\")>,\n",
       " <selenium.webdriver.remote.webelement.WebElement (session=\"1c5465ec946c155681e7d4fc241ed9be\", element=\"8828f38d-e6a8-46e6-9a3b-5374c5dcf608\")>,\n",
       " <selenium.webdriver.remote.webelement.WebElement (session=\"1c5465ec946c155681e7d4fc241ed9be\", element=\"8d8ab096-fa94-47cd-806d-4104148990cd\")>,\n",
       " <selenium.webdriver.remote.webelement.WebElement (session=\"1c5465ec946c155681e7d4fc241ed9be\", element=\"71f10cb7-67a0-4429-ae4b-1654855e2976\")>]"
      ]
     },
     "execution_count": 10,
     "metadata": {},
     "output_type": "execute_result"
    }
   ],
   "source": [
    "title_tags = driver.find_elements_by_xpath('//a[@class=\"title fw500 ellipsis\"]')\n",
    "title_tags"
   ]
  },
  {
   "cell_type": "code",
   "execution_count": 11,
   "id": "f39d1c9e",
   "metadata": {},
   "outputs": [
    {
     "data": {
      "text/plain": [
       "20"
      ]
     },
     "execution_count": 11,
     "metadata": {},
     "output_type": "execute_result"
    }
   ],
   "source": [
    "len(title_tags)"
   ]
  },
  {
   "cell_type": "code",
   "execution_count": 12,
   "id": "2aacd172",
   "metadata": {},
   "outputs": [
    {
     "data": {
      "text/plain": [
       "20"
      ]
     },
     "execution_count": 12,
     "metadata": {},
     "output_type": "execute_result"
    }
   ],
   "source": [
    "job_titles = []\n",
    "\n",
    "for i in title_tags:\n",
    "    job_titles.append(i.text)\n",
    "    \n",
    "len(job_titles)"
   ]
  },
  {
   "cell_type": "code",
   "execution_count": 13,
   "id": "0ccc6219",
   "metadata": {},
   "outputs": [
    {
     "data": {
      "text/plain": [
       "['Senior Data Analyst - Collibra',\n",
       " 'Hiring -Data Analyst, Business Analyst, MIS Analyst -3rd Party Payroll',\n",
       " 'Pipeline/Piping Data Analyst Trainee',\n",
       " 'Data Analyst',\n",
       " 'Data Analyst',\n",
       " 'Hiring For Data Analyst (SQL & Scala) || Coforge',\n",
       " 'Hiring Data Analyst(Immediate joiner preferred) - Globallogic!',\n",
       " 'Sr. Data Analyst',\n",
       " 'Data Analyst',\n",
       " 'Senior Data Analyst II',\n",
       " 'Senior Data Analyst',\n",
       " 'DATA ANALYST, IMPACT MEASUREMENT AND MANAGEMENT',\n",
       " 'Data Analyst',\n",
       " 'Data Analyst - Platform & Security',\n",
       " 'Global Tax Automation & Operations - Data Scientist Senior Analyst',\n",
       " 'Data Analyst',\n",
       " 'Data Analyst',\n",
       " 'Business Analyst (Data Analyst role)',\n",
       " 'Senior Data Analyst',\n",
       " 'Senior Analyst Data Engineering']"
      ]
     },
     "execution_count": 13,
     "metadata": {},
     "output_type": "execute_result"
    }
   ],
   "source": [
    "job_titles"
   ]
  },
  {
   "cell_type": "markdown",
   "id": "00ae958a",
   "metadata": {},
   "source": [
    "### Scraping Job Location"
   ]
  },
  {
   "cell_type": "code",
   "execution_count": 14,
   "id": "a8ae1590",
   "metadata": {},
   "outputs": [
    {
     "data": {
      "text/plain": [
       "20"
      ]
     },
     "execution_count": 14,
     "metadata": {},
     "output_type": "execute_result"
    }
   ],
   "source": [
    "loc_tags = driver.find_elements_by_xpath('//li[@class=\"fleft grey-text br2 placeHolderLi location\"]')\n",
    "len(loc_tags)"
   ]
  },
  {
   "cell_type": "code",
   "execution_count": 15,
   "id": "6efd932a",
   "metadata": {},
   "outputs": [
    {
     "data": {
      "text/plain": [
       "20"
      ]
     },
     "execution_count": 15,
     "metadata": {},
     "output_type": "execute_result"
    }
   ],
   "source": [
    "location = []\n",
    "\n",
    "for i in loc_tags:\n",
    "    location.append(i.text)\n",
    "    \n",
    "len(location)"
   ]
  },
  {
   "cell_type": "code",
   "execution_count": 16,
   "id": "2fe72022",
   "metadata": {},
   "outputs": [
    {
     "data": {
      "text/plain": [
       "['Bangalore/Bengaluru',\n",
       " 'Bangalore/Bengaluru',\n",
       " 'Bangalore/Bengaluru',\n",
       " 'Bangalore/Bengaluru(HSR Layout +7)',\n",
       " 'Bangalore/Bengaluru',\n",
       " 'Mumbai, Bangalore/Bengaluru, Greater Noida\\n(WFH during Covid)',\n",
       " 'Hyderabad/Secunderabad, Pune, Bangalore/Bengaluru\\n(WFH during Covid)',\n",
       " 'Bangalore/Bengaluru',\n",
       " 'Bangalore/Bengaluru',\n",
       " 'Bangalore/Bengaluru',\n",
       " 'Bangalore/Bengaluru',\n",
       " 'Bangalore/Bengaluru',\n",
       " 'Bangalore/Bengaluru(Jayanagar +3)',\n",
       " 'Bangalore/Bengaluru',\n",
       " 'Bangalore/Bengaluru',\n",
       " 'Bangalore/Bengaluru',\n",
       " 'Bangalore/Bengaluru',\n",
       " 'Mumbai, Hyderabad/Secunderabad, Pune, Chennai, Bangalore/Bengaluru',\n",
       " 'Remote',\n",
       " 'Bangalore/Bengaluru']"
      ]
     },
     "execution_count": 16,
     "metadata": {},
     "output_type": "execute_result"
    }
   ],
   "source": [
    "location"
   ]
  },
  {
   "cell_type": "markdown",
   "id": "591d4655",
   "metadata": {},
   "source": [
    "### Scraping Company Names"
   ]
  },
  {
   "cell_type": "code",
   "execution_count": 17,
   "id": "e9676de2",
   "metadata": {},
   "outputs": [
    {
     "data": {
      "text/plain": [
       "20"
      ]
     },
     "execution_count": 17,
     "metadata": {},
     "output_type": "execute_result"
    }
   ],
   "source": [
    "company_tags = driver.find_elements_by_xpath('//a[@class=\"subTitle ellipsis fleft\"]')\n",
    "len(company_tags)"
   ]
  },
  {
   "cell_type": "code",
   "execution_count": 18,
   "id": "1fef6e9d",
   "metadata": {},
   "outputs": [
    {
     "data": {
      "text/plain": [
       "[<selenium.webdriver.remote.webelement.WebElement (session=\"1c5465ec946c155681e7d4fc241ed9be\", element=\"cc31d171-2dfc-4f68-be80-640031fdb220\")>,\n",
       " <selenium.webdriver.remote.webelement.WebElement (session=\"1c5465ec946c155681e7d4fc241ed9be\", element=\"24f5f3f7-038f-42da-8d1d-04f5e32cf799\")>,\n",
       " <selenium.webdriver.remote.webelement.WebElement (session=\"1c5465ec946c155681e7d4fc241ed9be\", element=\"5b169bf8-b1cc-40df-856c-acc072193827\")>,\n",
       " <selenium.webdriver.remote.webelement.WebElement (session=\"1c5465ec946c155681e7d4fc241ed9be\", element=\"2220b33d-122b-4bff-98f5-1a0d9c0bb439\")>,\n",
       " <selenium.webdriver.remote.webelement.WebElement (session=\"1c5465ec946c155681e7d4fc241ed9be\", element=\"684faca7-fbfa-4cf6-b9e3-1a5e77c31ced\")>,\n",
       " <selenium.webdriver.remote.webelement.WebElement (session=\"1c5465ec946c155681e7d4fc241ed9be\", element=\"b5075205-1cfb-4d79-b68f-3bb7ca9d1be9\")>,\n",
       " <selenium.webdriver.remote.webelement.WebElement (session=\"1c5465ec946c155681e7d4fc241ed9be\", element=\"3156a7c8-ce84-4657-8aa3-a18067ea4b48\")>,\n",
       " <selenium.webdriver.remote.webelement.WebElement (session=\"1c5465ec946c155681e7d4fc241ed9be\", element=\"c3d49820-bd0d-4893-8053-79d75c831e54\")>,\n",
       " <selenium.webdriver.remote.webelement.WebElement (session=\"1c5465ec946c155681e7d4fc241ed9be\", element=\"619644c5-7e84-4983-b39d-91900429e4d9\")>,\n",
       " <selenium.webdriver.remote.webelement.WebElement (session=\"1c5465ec946c155681e7d4fc241ed9be\", element=\"5eee1ae0-de17-4d4f-a3e9-471a54238816\")>,\n",
       " <selenium.webdriver.remote.webelement.WebElement (session=\"1c5465ec946c155681e7d4fc241ed9be\", element=\"ac23c280-ba58-4571-a9aa-d189d01c39f9\")>,\n",
       " <selenium.webdriver.remote.webelement.WebElement (session=\"1c5465ec946c155681e7d4fc241ed9be\", element=\"1d14d059-c5b0-4c8b-9060-9aac75932306\")>,\n",
       " <selenium.webdriver.remote.webelement.WebElement (session=\"1c5465ec946c155681e7d4fc241ed9be\", element=\"f6cf32a7-4dd9-4ece-8071-8ee0a19e40fb\")>,\n",
       " <selenium.webdriver.remote.webelement.WebElement (session=\"1c5465ec946c155681e7d4fc241ed9be\", element=\"9bb5c715-b0b0-4dab-a145-985d854dde46\")>,\n",
       " <selenium.webdriver.remote.webelement.WebElement (session=\"1c5465ec946c155681e7d4fc241ed9be\", element=\"6c63c399-9ab5-483e-9574-7128dea1f82e\")>,\n",
       " <selenium.webdriver.remote.webelement.WebElement (session=\"1c5465ec946c155681e7d4fc241ed9be\", element=\"939ff378-d5b6-4320-b789-bffbf2b0ebb9\")>,\n",
       " <selenium.webdriver.remote.webelement.WebElement (session=\"1c5465ec946c155681e7d4fc241ed9be\", element=\"6b179261-a03a-4f57-a5c9-973b72c20ef4\")>,\n",
       " <selenium.webdriver.remote.webelement.WebElement (session=\"1c5465ec946c155681e7d4fc241ed9be\", element=\"4aba9110-0c24-4ca7-ad45-434499d44db1\")>,\n",
       " <selenium.webdriver.remote.webelement.WebElement (session=\"1c5465ec946c155681e7d4fc241ed9be\", element=\"d52dfa6b-0f91-4f6e-a8de-62f8a21b8ba0\")>,\n",
       " <selenium.webdriver.remote.webelement.WebElement (session=\"1c5465ec946c155681e7d4fc241ed9be\", element=\"4bbc5a67-5860-461e-9a61-bb24a66cdde6\")>]"
      ]
     },
     "execution_count": 18,
     "metadata": {},
     "output_type": "execute_result"
    }
   ],
   "source": [
    "company_tags"
   ]
  },
  {
   "cell_type": "code",
   "execution_count": 19,
   "id": "2028d034",
   "metadata": {},
   "outputs": [
    {
     "data": {
      "text/plain": [
       "20"
      ]
     },
     "execution_count": 19,
     "metadata": {},
     "output_type": "execute_result"
    }
   ],
   "source": [
    "company_names = []\n",
    "\n",
    "for i in company_tags:\n",
    "    company_names.append(i.text)\n",
    "    \n",
    "len(company_names)"
   ]
  },
  {
   "cell_type": "code",
   "execution_count": 20,
   "id": "035c9d3a",
   "metadata": {},
   "outputs": [
    {
     "data": {
      "text/plain": [
       "['Shell',\n",
       " 'Flipkart',\n",
       " 'TIMS SOLUTIONS PRIVATE LIMITED',\n",
       " 'Insure Pro 2.0',\n",
       " 'BERKMEER INDIA PRIVATE LIMITED',\n",
       " 'Coforge',\n",
       " 'GlobalLogic',\n",
       " 'Born Commerce',\n",
       " 'Opkey',\n",
       " 'Flipkart',\n",
       " 'Flipkart',\n",
       " 'Upaya Social Ventures',\n",
       " 'DocsApp',\n",
       " 'Hotstar',\n",
       " 'Dell',\n",
       " 'Lifesight Technologies Pvt. Ltd.',\n",
       " 'GSK India',\n",
       " 'Xpheno',\n",
       " 'Liventus',\n",
       " 'Dell']"
      ]
     },
     "execution_count": 20,
     "metadata": {},
     "output_type": "execute_result"
    }
   ],
   "source": [
    "company_names"
   ]
  },
  {
   "cell_type": "markdown",
   "id": "9b75a3ba",
   "metadata": {},
   "source": [
    "### Extracting Experience Required"
   ]
  },
  {
   "cell_type": "code",
   "execution_count": 21,
   "id": "f3988ac1",
   "metadata": {},
   "outputs": [
    {
     "data": {
      "text/plain": [
       "20"
      ]
     },
     "execution_count": 21,
     "metadata": {},
     "output_type": "execute_result"
    }
   ],
   "source": [
    "exp_tags = driver.find_elements_by_xpath('//*[contains(@title,\"Yrs \")]')\n",
    "len(exp_tags)"
   ]
  },
  {
   "cell_type": "code",
   "execution_count": 22,
   "id": "7c4644db",
   "metadata": {},
   "outputs": [
    {
     "data": {
      "text/plain": [
       "[<selenium.webdriver.remote.webelement.WebElement (session=\"1c5465ec946c155681e7d4fc241ed9be\", element=\"874f6b3b-cad9-4a90-936e-40f7c519db53\")>,\n",
       " <selenium.webdriver.remote.webelement.WebElement (session=\"1c5465ec946c155681e7d4fc241ed9be\", element=\"fd004444-0047-44f6-9ec1-a40f2ed5d297\")>,\n",
       " <selenium.webdriver.remote.webelement.WebElement (session=\"1c5465ec946c155681e7d4fc241ed9be\", element=\"0064a95b-c64c-4211-96b6-8862499f2037\")>,\n",
       " <selenium.webdriver.remote.webelement.WebElement (session=\"1c5465ec946c155681e7d4fc241ed9be\", element=\"3b904177-2162-4a77-9989-ddb01430a858\")>,\n",
       " <selenium.webdriver.remote.webelement.WebElement (session=\"1c5465ec946c155681e7d4fc241ed9be\", element=\"cfe376cd-2a92-4cdc-95d7-20d372ab8e5d\")>,\n",
       " <selenium.webdriver.remote.webelement.WebElement (session=\"1c5465ec946c155681e7d4fc241ed9be\", element=\"2f07f05f-85ad-402c-8b64-69015e9eacc8\")>,\n",
       " <selenium.webdriver.remote.webelement.WebElement (session=\"1c5465ec946c155681e7d4fc241ed9be\", element=\"3d556f2d-5cac-4488-8b60-466ed87d52e3\")>,\n",
       " <selenium.webdriver.remote.webelement.WebElement (session=\"1c5465ec946c155681e7d4fc241ed9be\", element=\"fc85d38e-e4a5-4e9d-814d-af73a4aecf1d\")>,\n",
       " <selenium.webdriver.remote.webelement.WebElement (session=\"1c5465ec946c155681e7d4fc241ed9be\", element=\"709c7b90-5b4a-4c4a-95d4-a3de48d88aa0\")>,\n",
       " <selenium.webdriver.remote.webelement.WebElement (session=\"1c5465ec946c155681e7d4fc241ed9be\", element=\"5a6825ab-f4bd-4d11-a5d3-52e38b18f1cd\")>,\n",
       " <selenium.webdriver.remote.webelement.WebElement (session=\"1c5465ec946c155681e7d4fc241ed9be\", element=\"424cc033-5caa-40a9-ac89-2ced0b673f7b\")>,\n",
       " <selenium.webdriver.remote.webelement.WebElement (session=\"1c5465ec946c155681e7d4fc241ed9be\", element=\"6c4129ea-b70a-4666-95b1-2970c3a734a3\")>,\n",
       " <selenium.webdriver.remote.webelement.WebElement (session=\"1c5465ec946c155681e7d4fc241ed9be\", element=\"3dc12b39-466a-451f-bce3-007d3cc5228f\")>,\n",
       " <selenium.webdriver.remote.webelement.WebElement (session=\"1c5465ec946c155681e7d4fc241ed9be\", element=\"8693a884-c824-4454-a261-2a3593e92a7b\")>,\n",
       " <selenium.webdriver.remote.webelement.WebElement (session=\"1c5465ec946c155681e7d4fc241ed9be\", element=\"afbf6b23-8961-45d1-ace9-42746af21176\")>,\n",
       " <selenium.webdriver.remote.webelement.WebElement (session=\"1c5465ec946c155681e7d4fc241ed9be\", element=\"6ad7feb4-97cd-4171-a4cc-e599ec816c14\")>,\n",
       " <selenium.webdriver.remote.webelement.WebElement (session=\"1c5465ec946c155681e7d4fc241ed9be\", element=\"99c8b3dc-0485-4586-ab8f-be8f7b5e9e50\")>,\n",
       " <selenium.webdriver.remote.webelement.WebElement (session=\"1c5465ec946c155681e7d4fc241ed9be\", element=\"d4ec09c3-6d4d-4f10-8058-a954e28fe9e4\")>,\n",
       " <selenium.webdriver.remote.webelement.WebElement (session=\"1c5465ec946c155681e7d4fc241ed9be\", element=\"1ad56ca9-72e8-48b9-ad8d-b05458269a4f\")>,\n",
       " <selenium.webdriver.remote.webelement.WebElement (session=\"1c5465ec946c155681e7d4fc241ed9be\", element=\"f89f88e7-7102-4080-af26-5a125d3e629d\")>]"
      ]
     },
     "execution_count": 22,
     "metadata": {},
     "output_type": "execute_result"
    }
   ],
   "source": [
    "exp_tags = driver.find_elements_by_xpath('//li[@class=\"fleft grey-text br2 placeHolderLi experience\"]')\n",
    "exp_tags"
   ]
  },
  {
   "cell_type": "code",
   "execution_count": 23,
   "id": "d5c411a2",
   "metadata": {},
   "outputs": [
    {
     "data": {
      "text/plain": [
       "20"
      ]
     },
     "execution_count": 23,
     "metadata": {},
     "output_type": "execute_result"
    }
   ],
   "source": [
    "experience = []\n",
    "\n",
    "for i in exp_tags:\n",
    "    experience.append(i.text)\n",
    "    \n",
    "len(experience)"
   ]
  },
  {
   "cell_type": "code",
   "execution_count": 24,
   "id": "94add3e5",
   "metadata": {},
   "outputs": [
    {
     "data": {
      "text/plain": [
       "['8-12 Yrs',\n",
       " '1-6 Yrs',\n",
       " '0-4 Yrs',\n",
       " '0-2 Yrs',\n",
       " '0-2 Yrs',\n",
       " '4-8 Yrs',\n",
       " '6-9 Yrs',\n",
       " '5-10 Yrs',\n",
       " '2-5 Yrs',\n",
       " '2-4 Yrs',\n",
       " '2-3 Yrs',\n",
       " '1-3 Yrs',\n",
       " '2-6 Yrs',\n",
       " '2-6 Yrs',\n",
       " '3-5 Yrs',\n",
       " '0-2 Yrs',\n",
       " '3-8 Yrs',\n",
       " '2-5 Yrs',\n",
       " '5-8 Yrs',\n",
       " '2-5 Yrs']"
      ]
     },
     "execution_count": 24,
     "metadata": {},
     "output_type": "execute_result"
    }
   ],
   "source": [
    "experience"
   ]
  },
  {
   "cell_type": "markdown",
   "id": "f01b9a16",
   "metadata": {},
   "source": [
    "#### Rechecking len of each list"
   ]
  },
  {
   "cell_type": "code",
   "execution_count": 25,
   "id": "77ff9a97",
   "metadata": {},
   "outputs": [
    {
     "data": {
      "text/plain": [
       "(20, 20, 20, 20)"
      ]
     },
     "execution_count": 25,
     "metadata": {},
     "output_type": "execute_result"
    }
   ],
   "source": [
    "len(job_titles), len(location), len(company_names), len(experience)"
   ]
  },
  {
   "cell_type": "markdown",
   "id": "ef0aea73",
   "metadata": {},
   "source": [
    "### Creating a DataFrame of the Information Scraped"
   ]
  },
  {
   "cell_type": "code",
   "execution_count": 27,
   "id": "7483b8a9",
   "metadata": {},
   "outputs": [
    {
     "data": {
      "text/html": [
       "<div>\n",
       "<style scoped>\n",
       "    .dataframe tbody tr th:only-of-type {\n",
       "        vertical-align: middle;\n",
       "    }\n",
       "\n",
       "    .dataframe tbody tr th {\n",
       "        vertical-align: top;\n",
       "    }\n",
       "\n",
       "    .dataframe thead th {\n",
       "        text-align: right;\n",
       "    }\n",
       "</style>\n",
       "<table border=\"1\" class=\"dataframe\">\n",
       "  <thead>\n",
       "    <tr style=\"text-align: right;\">\n",
       "      <th></th>\n",
       "      <th>Job Title</th>\n",
       "      <th>Job Location</th>\n",
       "      <th>Company Name</th>\n",
       "      <th>Experience Required</th>\n",
       "    </tr>\n",
       "  </thead>\n",
       "  <tbody>\n",
       "    <tr>\n",
       "      <th>0</th>\n",
       "      <td>Senior Data Analyst - Collibra</td>\n",
       "      <td>Bangalore/Bengaluru</td>\n",
       "      <td>Shell</td>\n",
       "      <td>8-12 Yrs</td>\n",
       "    </tr>\n",
       "    <tr>\n",
       "      <th>1</th>\n",
       "      <td>Hiring -Data Analyst, Business Analyst, MIS An...</td>\n",
       "      <td>Bangalore/Bengaluru</td>\n",
       "      <td>Flipkart</td>\n",
       "      <td>1-6 Yrs</td>\n",
       "    </tr>\n",
       "    <tr>\n",
       "      <th>2</th>\n",
       "      <td>Pipeline/Piping Data Analyst Trainee</td>\n",
       "      <td>Bangalore/Bengaluru</td>\n",
       "      <td>TIMS SOLUTIONS PRIVATE LIMITED</td>\n",
       "      <td>0-4 Yrs</td>\n",
       "    </tr>\n",
       "    <tr>\n",
       "      <th>3</th>\n",
       "      <td>Data Analyst</td>\n",
       "      <td>Bangalore/Bengaluru(HSR Layout +7)</td>\n",
       "      <td>Insure Pro 2.0</td>\n",
       "      <td>0-2 Yrs</td>\n",
       "    </tr>\n",
       "    <tr>\n",
       "      <th>4</th>\n",
       "      <td>Data Analyst</td>\n",
       "      <td>Bangalore/Bengaluru</td>\n",
       "      <td>BERKMEER INDIA PRIVATE LIMITED</td>\n",
       "      <td>0-2 Yrs</td>\n",
       "    </tr>\n",
       "    <tr>\n",
       "      <th>5</th>\n",
       "      <td>Hiring For Data Analyst (SQL &amp; Scala) || Coforge</td>\n",
       "      <td>Mumbai, Bangalore/Bengaluru, Greater Noida\\n(W...</td>\n",
       "      <td>Coforge</td>\n",
       "      <td>4-8 Yrs</td>\n",
       "    </tr>\n",
       "    <tr>\n",
       "      <th>6</th>\n",
       "      <td>Hiring Data Analyst(Immediate joiner preferred...</td>\n",
       "      <td>Hyderabad/Secunderabad, Pune, Bangalore/Bengal...</td>\n",
       "      <td>GlobalLogic</td>\n",
       "      <td>6-9 Yrs</td>\n",
       "    </tr>\n",
       "    <tr>\n",
       "      <th>7</th>\n",
       "      <td>Sr. Data Analyst</td>\n",
       "      <td>Bangalore/Bengaluru</td>\n",
       "      <td>Born Commerce</td>\n",
       "      <td>5-10 Yrs</td>\n",
       "    </tr>\n",
       "    <tr>\n",
       "      <th>8</th>\n",
       "      <td>Data Analyst</td>\n",
       "      <td>Bangalore/Bengaluru</td>\n",
       "      <td>Opkey</td>\n",
       "      <td>2-5 Yrs</td>\n",
       "    </tr>\n",
       "    <tr>\n",
       "      <th>9</th>\n",
       "      <td>Senior Data Analyst II</td>\n",
       "      <td>Bangalore/Bengaluru</td>\n",
       "      <td>Flipkart</td>\n",
       "      <td>2-4 Yrs</td>\n",
       "    </tr>\n",
       "  </tbody>\n",
       "</table>\n",
       "</div>"
      ],
      "text/plain": [
       "                                           Job Title  \\\n",
       "0                     Senior Data Analyst - Collibra   \n",
       "1  Hiring -Data Analyst, Business Analyst, MIS An...   \n",
       "2               Pipeline/Piping Data Analyst Trainee   \n",
       "3                                       Data Analyst   \n",
       "4                                       Data Analyst   \n",
       "5   Hiring For Data Analyst (SQL & Scala) || Coforge   \n",
       "6  Hiring Data Analyst(Immediate joiner preferred...   \n",
       "7                                   Sr. Data Analyst   \n",
       "8                                       Data Analyst   \n",
       "9                             Senior Data Analyst II   \n",
       "\n",
       "                                        Job Location  \\\n",
       "0                                Bangalore/Bengaluru   \n",
       "1                                Bangalore/Bengaluru   \n",
       "2                                Bangalore/Bengaluru   \n",
       "3                 Bangalore/Bengaluru(HSR Layout +7)   \n",
       "4                                Bangalore/Bengaluru   \n",
       "5  Mumbai, Bangalore/Bengaluru, Greater Noida\\n(W...   \n",
       "6  Hyderabad/Secunderabad, Pune, Bangalore/Bengal...   \n",
       "7                                Bangalore/Bengaluru   \n",
       "8                                Bangalore/Bengaluru   \n",
       "9                                Bangalore/Bengaluru   \n",
       "\n",
       "                     Company Name Experience Required  \n",
       "0                           Shell            8-12 Yrs  \n",
       "1                        Flipkart             1-6 Yrs  \n",
       "2  TIMS SOLUTIONS PRIVATE LIMITED             0-4 Yrs  \n",
       "3                  Insure Pro 2.0             0-2 Yrs  \n",
       "4  BERKMEER INDIA PRIVATE LIMITED             0-2 Yrs  \n",
       "5                         Coforge             4-8 Yrs  \n",
       "6                     GlobalLogic             6-9 Yrs  \n",
       "7                   Born Commerce            5-10 Yrs  \n",
       "8                           Opkey             2-5 Yrs  \n",
       "9                        Flipkart             2-4 Yrs  "
      ]
     },
     "execution_count": 27,
     "metadata": {},
     "output_type": "execute_result"
    }
   ],
   "source": [
    "jobs = pd.DataFrame()\n",
    "jobs['Job Title'] = job_titles[:10]\n",
    "jobs['Job Location'] = location[:10]\n",
    "jobs['Company Name'] = company_names[:10]\n",
    "jobs['Experience Required'] = experience[:10]\n",
    "jobs"
   ]
  },
  {
   "cell_type": "markdown",
   "id": "8102ccad",
   "metadata": {},
   "source": [
    "### Saving the DataFrame into Excel File"
   ]
  },
  {
   "cell_type": "code",
   "execution_count": 28,
   "id": "7d9d1ac1",
   "metadata": {},
   "outputs": [],
   "source": [
    "file_name = 'Data Analyst Jobs in Bangalore.xlsx'"
   ]
  },
  {
   "cell_type": "code",
   "execution_count": 29,
   "id": "898eff29",
   "metadata": {},
   "outputs": [
    {
     "name": "stdout",
     "output_type": "stream",
     "text": [
      "DataFrame is written to Excel File successfully.\n"
     ]
    }
   ],
   "source": [
    "jobs.to_excel(file_name)\n",
    "print('DataFrame is written to Excel File successfully.')"
   ]
  },
  {
   "cell_type": "markdown",
   "id": "4465923b",
   "metadata": {},
   "source": [
    "# Q2. Write a python program to scrape data for “Data Scientist” Job position in “Bangalore” location. You have to scrape the job-title, job-location, company_name. You have to scrape first 10 jobs data."
   ]
  },
  {
   "cell_type": "code",
   "execution_count": 30,
   "id": "bf24ee05",
   "metadata": {},
   "outputs": [],
   "source": [
    "# loading chrome\n",
    "driver = webdriver.Chrome(r'C:\\Users\\Anuradha\\Downloads\\chromedriver.exe')"
   ]
  },
  {
   "cell_type": "code",
   "execution_count": 31,
   "id": "40f98a0e",
   "metadata": {},
   "outputs": [],
   "source": [
    "# opening url\n",
    "url = 'https://www.naukri.com'\n",
    "driver.get(url)"
   ]
  },
  {
   "cell_type": "code",
   "execution_count": 32,
   "id": "f5fe7b12",
   "metadata": {},
   "outputs": [
    {
     "data": {
      "text/plain": [
       "<selenium.webdriver.remote.webelement.WebElement (session=\"781724fba187b5c4881bee68bb9eaac8\", element=\"bb840ae5-3a37-480e-bc7c-cd54930d7141\")>"
      ]
     },
     "execution_count": 32,
     "metadata": {},
     "output_type": "execute_result"
    }
   ],
   "source": [
    "# searching job name\n",
    "search_job = driver.find_element_by_class_name('suggestor-input')\n",
    "search_job"
   ]
  },
  {
   "cell_type": "code",
   "execution_count": 33,
   "id": "214dec69",
   "metadata": {},
   "outputs": [],
   "source": [
    "search_job.send_keys(\"Data Scientist\")"
   ]
  },
  {
   "cell_type": "code",
   "execution_count": 34,
   "id": "78ecf51d",
   "metadata": {},
   "outputs": [
    {
     "data": {
      "text/plain": [
       "<selenium.webdriver.remote.webelement.WebElement (session=\"781724fba187b5c4881bee68bb9eaac8\", element=\"197b69bf-114c-4c89-b66b-577533d4eba2\")>"
      ]
     },
     "execution_count": 34,
     "metadata": {},
     "output_type": "execute_result"
    }
   ],
   "source": [
    "# searching location\n",
    "search_locn = driver.find_element_by_xpath('/html/body/div/div[2]/div[3]/div/div/div[3]/div/div/div/input')\n",
    "search_locn"
   ]
  },
  {
   "cell_type": "code",
   "execution_count": 35,
   "id": "d3c91702",
   "metadata": {},
   "outputs": [],
   "source": [
    "search_locn.send_keys('Bangalore')"
   ]
  },
  {
   "cell_type": "code",
   "execution_count": 36,
   "id": "a808b1da",
   "metadata": {},
   "outputs": [
    {
     "data": {
      "text/plain": [
       "<selenium.webdriver.remote.webelement.WebElement (session=\"781724fba187b5c4881bee68bb9eaac8\", element=\"6c778db4-b3db-4405-9c90-7ea5516ad2af\")>"
      ]
     },
     "execution_count": 36,
     "metadata": {},
     "output_type": "execute_result"
    }
   ],
   "source": [
    "# clicking search\n",
    "search_btn = driver.find_element_by_class_name('qsbSubmit')\n",
    "search_btn"
   ]
  },
  {
   "cell_type": "code",
   "execution_count": 37,
   "id": "346fa000",
   "metadata": {},
   "outputs": [],
   "source": [
    "search_btn.click()"
   ]
  },
  {
   "cell_type": "markdown",
   "id": "cbf8afa1",
   "metadata": {},
   "source": [
    "### Scraping Job Titles"
   ]
  },
  {
   "cell_type": "code",
   "execution_count": 38,
   "id": "c2aa988e",
   "metadata": {},
   "outputs": [
    {
     "data": {
      "text/plain": [
       "[<selenium.webdriver.remote.webelement.WebElement (session=\"781724fba187b5c4881bee68bb9eaac8\", element=\"8846552c-8efb-4130-97e8-968c53293801\")>,\n",
       " <selenium.webdriver.remote.webelement.WebElement (session=\"781724fba187b5c4881bee68bb9eaac8\", element=\"d8473088-04b2-4203-a09f-bf0f97335f9c\")>,\n",
       " <selenium.webdriver.remote.webelement.WebElement (session=\"781724fba187b5c4881bee68bb9eaac8\", element=\"506a68f5-34af-45b6-8ea6-9fbbe7e737d2\")>,\n",
       " <selenium.webdriver.remote.webelement.WebElement (session=\"781724fba187b5c4881bee68bb9eaac8\", element=\"c191e2c4-d871-49af-915f-2e01ac0d1436\")>,\n",
       " <selenium.webdriver.remote.webelement.WebElement (session=\"781724fba187b5c4881bee68bb9eaac8\", element=\"d8978ca9-d73f-486f-ba4b-c9e1b12ef249\")>,\n",
       " <selenium.webdriver.remote.webelement.WebElement (session=\"781724fba187b5c4881bee68bb9eaac8\", element=\"9e3f7f80-95f1-424c-ade2-b59d89438aaf\")>,\n",
       " <selenium.webdriver.remote.webelement.WebElement (session=\"781724fba187b5c4881bee68bb9eaac8\", element=\"3372c33a-6838-4d51-9356-c29cebc87331\")>,\n",
       " <selenium.webdriver.remote.webelement.WebElement (session=\"781724fba187b5c4881bee68bb9eaac8\", element=\"a48fed59-577e-431f-a306-b9a367d2de01\")>,\n",
       " <selenium.webdriver.remote.webelement.WebElement (session=\"781724fba187b5c4881bee68bb9eaac8\", element=\"82c079d4-1172-47ad-9f02-93902f8738b3\")>,\n",
       " <selenium.webdriver.remote.webelement.WebElement (session=\"781724fba187b5c4881bee68bb9eaac8\", element=\"b675a13f-f6d2-4f70-a9c8-6d52a20a6017\")>,\n",
       " <selenium.webdriver.remote.webelement.WebElement (session=\"781724fba187b5c4881bee68bb9eaac8\", element=\"4b305ad5-ed6e-4fb3-ad4b-13c72e248b7b\")>,\n",
       " <selenium.webdriver.remote.webelement.WebElement (session=\"781724fba187b5c4881bee68bb9eaac8\", element=\"4f92730c-ec93-4117-98e3-1376a78b10bf\")>,\n",
       " <selenium.webdriver.remote.webelement.WebElement (session=\"781724fba187b5c4881bee68bb9eaac8\", element=\"1b27f917-885a-4ce7-8b44-349d46c70b00\")>,\n",
       " <selenium.webdriver.remote.webelement.WebElement (session=\"781724fba187b5c4881bee68bb9eaac8\", element=\"de8ffad6-5ae1-4af0-957e-fa3d05de34bd\")>,\n",
       " <selenium.webdriver.remote.webelement.WebElement (session=\"781724fba187b5c4881bee68bb9eaac8\", element=\"14b55af6-47b6-4796-8e4a-0cae70e8bc8d\")>,\n",
       " <selenium.webdriver.remote.webelement.WebElement (session=\"781724fba187b5c4881bee68bb9eaac8\", element=\"b4b3e6d6-cd6e-4e6f-9eb4-16a09fd9d512\")>,\n",
       " <selenium.webdriver.remote.webelement.WebElement (session=\"781724fba187b5c4881bee68bb9eaac8\", element=\"d5a9d275-306a-4377-8e1d-3d30c9feebec\")>,\n",
       " <selenium.webdriver.remote.webelement.WebElement (session=\"781724fba187b5c4881bee68bb9eaac8\", element=\"c04ca218-0a5f-416b-83d1-84f7a3d4d017\")>,\n",
       " <selenium.webdriver.remote.webelement.WebElement (session=\"781724fba187b5c4881bee68bb9eaac8\", element=\"9815db09-d2ae-491a-8f67-63705e535ed4\")>,\n",
       " <selenium.webdriver.remote.webelement.WebElement (session=\"781724fba187b5c4881bee68bb9eaac8\", element=\"5a68ce19-2354-4d3b-ac58-3224936bc265\")>]"
      ]
     },
     "execution_count": 38,
     "metadata": {},
     "output_type": "execute_result"
    }
   ],
   "source": [
    "title_tags = driver.find_elements_by_xpath('//a[@class=\"title fw500 ellipsis\"]')\n",
    "title_tags"
   ]
  },
  {
   "cell_type": "code",
   "execution_count": 39,
   "id": "81cdef82",
   "metadata": {},
   "outputs": [
    {
     "data": {
      "text/plain": [
       "20"
      ]
     },
     "execution_count": 39,
     "metadata": {},
     "output_type": "execute_result"
    }
   ],
   "source": [
    "len(title_tags)"
   ]
  },
  {
   "cell_type": "code",
   "execution_count": 40,
   "id": "46ee2a73",
   "metadata": {},
   "outputs": [
    {
     "data": {
      "text/plain": [
       "20"
      ]
     },
     "execution_count": 40,
     "metadata": {},
     "output_type": "execute_result"
    }
   ],
   "source": [
    "job_titles = []\n",
    "\n",
    "for i in title_tags:\n",
    "    job_titles.append(i.text)\n",
    "    \n",
    "len(job_titles)"
   ]
  },
  {
   "cell_type": "code",
   "execution_count": 41,
   "id": "c03b5427",
   "metadata": {},
   "outputs": [
    {
     "data": {
      "text/plain": [
       "['Global Tax Automation & Operations - Data Scientist Senior Analyst',\n",
       " 'Data Scientist / ML Engineer',\n",
       " 'Data Scientist - Lead / Architect - Looking For Early Joiners - Wipro',\n",
       " 'Sr Data Scientist',\n",
       " 'Data Scientist / Analyst',\n",
       " 'Principal Data Scientist',\n",
       " 'Data Scientist: Artificial Intelligence',\n",
       " 'Deputy Manager - Data Scientist',\n",
       " 'Senior Data Scientist - Customer Analytics',\n",
       " 'Senior Data Scientist',\n",
       " 'Senior Data Scientist I',\n",
       " 'Senior Risk Data Scientist',\n",
       " 'Data Scientist',\n",
       " 'NLP Data Scientist',\n",
       " 'Hiring For Data Scientist - Noida/Bangalore/WFH',\n",
       " 'Data Scientist',\n",
       " 'Data Scientist and Director Data Scientist',\n",
       " 'Data Scientist | Market Analytics | Remote',\n",
       " 'Hiring For Sr. Data Scientist. Operation Research - SCM- MNC',\n",
       " 'Data Scientist: Advanced Analytics']"
      ]
     },
     "execution_count": 41,
     "metadata": {},
     "output_type": "execute_result"
    }
   ],
   "source": [
    "job_titles"
   ]
  },
  {
   "cell_type": "markdown",
   "id": "027a88c0",
   "metadata": {},
   "source": [
    "### Scraping Job Location"
   ]
  },
  {
   "cell_type": "code",
   "execution_count": 42,
   "id": "28d16993",
   "metadata": {},
   "outputs": [
    {
     "data": {
      "text/plain": [
       "20"
      ]
     },
     "execution_count": 42,
     "metadata": {},
     "output_type": "execute_result"
    }
   ],
   "source": [
    "loc_tags = driver.find_elements_by_xpath('//li[@class=\"fleft grey-text br2 placeHolderLi location\"]')\n",
    "len(loc_tags)"
   ]
  },
  {
   "cell_type": "code",
   "execution_count": 43,
   "id": "d6ba4e79",
   "metadata": {},
   "outputs": [
    {
     "data": {
      "text/plain": [
       "20"
      ]
     },
     "execution_count": 43,
     "metadata": {},
     "output_type": "execute_result"
    }
   ],
   "source": [
    "location = []\n",
    "\n",
    "for i in loc_tags:\n",
    "    location.append(i.text)\n",
    "    \n",
    "len(location)"
   ]
  },
  {
   "cell_type": "code",
   "execution_count": 44,
   "id": "47611b65",
   "metadata": {},
   "outputs": [
    {
     "data": {
      "text/plain": [
       "['Bangalore/Bengaluru',\n",
       " 'Noida, Kota, Mumbai, Chandigarh, Lucknow, Agra, Gurgaon/Gurugram, Jaipur, Bangalore/Bengaluru',\n",
       " 'Kochi/Cochin, Kolkata, Pune, Gurgaon/Gurugram, Chennai, Coimbatore, Bangalore/Bengaluru, Mumbai (All Areas), Hyderabad',\n",
       " 'Bangalore/Bengaluru\\n(WFH during Covid)',\n",
       " 'Hyderabad/Secunderabad, Bangalore/Bengaluru, Delhi / NCR',\n",
       " 'Bangalore/Bengaluru',\n",
       " 'Bangalore/Bengaluru',\n",
       " 'Bangalore/Bengaluru',\n",
       " 'Bangalore/Bengaluru',\n",
       " 'Bangalore/Bengaluru',\n",
       " 'Bangalore/Bengaluru',\n",
       " 'Bangalore/Bengaluru',\n",
       " 'Bangalore/Bengaluru(HSR Layout +2)',\n",
       " 'Bangalore/Bengaluru',\n",
       " 'Remote',\n",
       " 'Bangalore/Bengaluru',\n",
       " 'Hyderabad/Secunderabad, Gurgaon/Gurugram, Bangalore/Bengaluru, Delhi / NCR',\n",
       " 'Kolkata, Hyderabad/Secunderabad, Pune, Gurgaon/Gurugram, Chennai, Bangalore/Bengaluru, Mumbai (All Areas)',\n",
       " 'Bangalore/Bengaluru\\n(WFH during Covid)',\n",
       " 'Bangalore/Bengaluru']"
      ]
     },
     "execution_count": 44,
     "metadata": {},
     "output_type": "execute_result"
    }
   ],
   "source": [
    "location"
   ]
  },
  {
   "cell_type": "markdown",
   "id": "1e6101ee",
   "metadata": {},
   "source": [
    "### Scraping Company Names"
   ]
  },
  {
   "cell_type": "code",
   "execution_count": 45,
   "id": "9f4b788a",
   "metadata": {},
   "outputs": [
    {
     "data": {
      "text/plain": [
       "20"
      ]
     },
     "execution_count": 45,
     "metadata": {},
     "output_type": "execute_result"
    }
   ],
   "source": [
    "company_tags = driver.find_elements_by_xpath('//a[@class=\"subTitle ellipsis fleft\"]')\n",
    "len(company_tags)"
   ]
  },
  {
   "cell_type": "code",
   "execution_count": 46,
   "id": "1f865b9b",
   "metadata": {},
   "outputs": [
    {
     "data": {
      "text/plain": [
       "[<selenium.webdriver.remote.webelement.WebElement (session=\"781724fba187b5c4881bee68bb9eaac8\", element=\"d57608ec-f48d-422b-967d-616efba0b580\")>,\n",
       " <selenium.webdriver.remote.webelement.WebElement (session=\"781724fba187b5c4881bee68bb9eaac8\", element=\"2e62dcad-cc18-4f2b-9203-ca80a34ef01e\")>,\n",
       " <selenium.webdriver.remote.webelement.WebElement (session=\"781724fba187b5c4881bee68bb9eaac8\", element=\"5467de6f-7263-4ee3-8197-0ff06eedccc0\")>,\n",
       " <selenium.webdriver.remote.webelement.WebElement (session=\"781724fba187b5c4881bee68bb9eaac8\", element=\"08edcd4b-1ea7-46a4-8d50-c1c3699638cc\")>,\n",
       " <selenium.webdriver.remote.webelement.WebElement (session=\"781724fba187b5c4881bee68bb9eaac8\", element=\"888040fa-2020-480c-999d-ab35620af8f1\")>,\n",
       " <selenium.webdriver.remote.webelement.WebElement (session=\"781724fba187b5c4881bee68bb9eaac8\", element=\"4dd80792-4fc4-47bc-ade1-d187d978fff2\")>,\n",
       " <selenium.webdriver.remote.webelement.WebElement (session=\"781724fba187b5c4881bee68bb9eaac8\", element=\"883ec452-e30b-45d8-8755-43a78a0794c9\")>,\n",
       " <selenium.webdriver.remote.webelement.WebElement (session=\"781724fba187b5c4881bee68bb9eaac8\", element=\"ea4f3626-b6b7-44f4-a996-2dfa75d67ef1\")>,\n",
       " <selenium.webdriver.remote.webelement.WebElement (session=\"781724fba187b5c4881bee68bb9eaac8\", element=\"428b666d-2da3-4314-a1e3-ecc8d7c1decb\")>,\n",
       " <selenium.webdriver.remote.webelement.WebElement (session=\"781724fba187b5c4881bee68bb9eaac8\", element=\"1cda0aa3-f451-4f22-8f52-c392ff44b1d5\")>,\n",
       " <selenium.webdriver.remote.webelement.WebElement (session=\"781724fba187b5c4881bee68bb9eaac8\", element=\"2758ff98-b3c2-4669-8278-9fb47c1df9c2\")>,\n",
       " <selenium.webdriver.remote.webelement.WebElement (session=\"781724fba187b5c4881bee68bb9eaac8\", element=\"53ee689b-8e6a-4912-8cd3-cd554eb78464\")>,\n",
       " <selenium.webdriver.remote.webelement.WebElement (session=\"781724fba187b5c4881bee68bb9eaac8\", element=\"2f249cd9-2362-46d3-96b0-1bd97b0f46e5\")>,\n",
       " <selenium.webdriver.remote.webelement.WebElement (session=\"781724fba187b5c4881bee68bb9eaac8\", element=\"e140bc9d-c3dd-4272-97c9-725a51588f49\")>,\n",
       " <selenium.webdriver.remote.webelement.WebElement (session=\"781724fba187b5c4881bee68bb9eaac8\", element=\"7df77446-5fca-4607-81a2-fefbc92619eb\")>,\n",
       " <selenium.webdriver.remote.webelement.WebElement (session=\"781724fba187b5c4881bee68bb9eaac8\", element=\"c015cff1-e02e-402e-8500-c7ce0f4f9da8\")>,\n",
       " <selenium.webdriver.remote.webelement.WebElement (session=\"781724fba187b5c4881bee68bb9eaac8\", element=\"c064e4cf-6fce-42ef-ab43-03ececfd3aef\")>,\n",
       " <selenium.webdriver.remote.webelement.WebElement (session=\"781724fba187b5c4881bee68bb9eaac8\", element=\"340a9d3b-ee5f-4f9e-a76d-e1cea94a0fb4\")>,\n",
       " <selenium.webdriver.remote.webelement.WebElement (session=\"781724fba187b5c4881bee68bb9eaac8\", element=\"2afc8bfb-9237-4a8e-931a-0462b62df8a1\")>,\n",
       " <selenium.webdriver.remote.webelement.WebElement (session=\"781724fba187b5c4881bee68bb9eaac8\", element=\"6683f069-746f-4660-9134-6f07972285a0\")>]"
      ]
     },
     "execution_count": 46,
     "metadata": {},
     "output_type": "execute_result"
    }
   ],
   "source": [
    "company_tags"
   ]
  },
  {
   "cell_type": "code",
   "execution_count": 47,
   "id": "ac77d3c9",
   "metadata": {},
   "outputs": [
    {
     "data": {
      "text/plain": [
       "20"
      ]
     },
     "execution_count": 47,
     "metadata": {},
     "output_type": "execute_result"
    }
   ],
   "source": [
    "company_names = []\n",
    "\n",
    "for i in company_tags:\n",
    "    company_names.append(i.text)\n",
    "    \n",
    "len(company_names)"
   ]
  },
  {
   "cell_type": "code",
   "execution_count": 48,
   "id": "e2f215d1",
   "metadata": {},
   "outputs": [
    {
     "data": {
      "text/plain": [
       "['Dell',\n",
       " 'AVE-Promagne',\n",
       " 'Wipro',\n",
       " 'Fragma data systems pvt ltd',\n",
       " 'Talentify',\n",
       " 'Signify',\n",
       " 'IBM',\n",
       " 'HDFC LIFE INSURANCE COMPANY LIMITED',\n",
       " 'Atlassian',\n",
       " 'Ericsson Global Services',\n",
       " 'Delhivery',\n",
       " 'GSK India',\n",
       " 'Thoucentric Technology Pvt ltd',\n",
       " 'Refinitiv',\n",
       " 'Techneplus Software India Pvt Ltd',\n",
       " 'kk consulting services',\n",
       " 'OyoRooms',\n",
       " 'Vision Beyond Resources India Private Limited',\n",
       " 'PERSOLKELLY INDIA PRIVATE LIMITED',\n",
       " 'IBM']"
      ]
     },
     "execution_count": 48,
     "metadata": {},
     "output_type": "execute_result"
    }
   ],
   "source": [
    "company_names"
   ]
  },
  {
   "cell_type": "markdown",
   "id": "94827ac1",
   "metadata": {},
   "source": [
    "### Rechecking len of lists"
   ]
  },
  {
   "cell_type": "code",
   "execution_count": 50,
   "id": "f1cb3d8f",
   "metadata": {
    "scrolled": false
   },
   "outputs": [
    {
     "data": {
      "text/html": [
       "<div>\n",
       "<style scoped>\n",
       "    .dataframe tbody tr th:only-of-type {\n",
       "        vertical-align: middle;\n",
       "    }\n",
       "\n",
       "    .dataframe tbody tr th {\n",
       "        vertical-align: top;\n",
       "    }\n",
       "\n",
       "    .dataframe thead th {\n",
       "        text-align: right;\n",
       "    }\n",
       "</style>\n",
       "<table border=\"1\" class=\"dataframe\">\n",
       "  <thead>\n",
       "    <tr style=\"text-align: right;\">\n",
       "      <th></th>\n",
       "      <th>Job Title</th>\n",
       "      <th>Job Location</th>\n",
       "      <th>Company Names</th>\n",
       "    </tr>\n",
       "  </thead>\n",
       "  <tbody>\n",
       "    <tr>\n",
       "      <th>0</th>\n",
       "      <td>Global Tax Automation &amp; Operations - Data Scie...</td>\n",
       "      <td>Bangalore/Bengaluru</td>\n",
       "      <td>Dell</td>\n",
       "    </tr>\n",
       "    <tr>\n",
       "      <th>1</th>\n",
       "      <td>Data Scientist / ML Engineer</td>\n",
       "      <td>Noida, Kota, Mumbai, Chandigarh, Lucknow, Agra...</td>\n",
       "      <td>AVE-Promagne</td>\n",
       "    </tr>\n",
       "    <tr>\n",
       "      <th>2</th>\n",
       "      <td>Data Scientist - Lead / Architect - Looking Fo...</td>\n",
       "      <td>Kochi/Cochin, Kolkata, Pune, Gurgaon/Gurugram,...</td>\n",
       "      <td>Wipro</td>\n",
       "    </tr>\n",
       "    <tr>\n",
       "      <th>3</th>\n",
       "      <td>Sr Data Scientist</td>\n",
       "      <td>Bangalore/Bengaluru\\n(WFH during Covid)</td>\n",
       "      <td>Fragma data systems pvt ltd</td>\n",
       "    </tr>\n",
       "    <tr>\n",
       "      <th>4</th>\n",
       "      <td>Data Scientist / Analyst</td>\n",
       "      <td>Hyderabad/Secunderabad, Bangalore/Bengaluru, D...</td>\n",
       "      <td>Talentify</td>\n",
       "    </tr>\n",
       "    <tr>\n",
       "      <th>5</th>\n",
       "      <td>Principal Data Scientist</td>\n",
       "      <td>Bangalore/Bengaluru</td>\n",
       "      <td>Signify</td>\n",
       "    </tr>\n",
       "    <tr>\n",
       "      <th>6</th>\n",
       "      <td>Data Scientist: Artificial Intelligence</td>\n",
       "      <td>Bangalore/Bengaluru</td>\n",
       "      <td>IBM</td>\n",
       "    </tr>\n",
       "    <tr>\n",
       "      <th>7</th>\n",
       "      <td>Deputy Manager - Data Scientist</td>\n",
       "      <td>Bangalore/Bengaluru</td>\n",
       "      <td>HDFC LIFE INSURANCE COMPANY LIMITED</td>\n",
       "    </tr>\n",
       "    <tr>\n",
       "      <th>8</th>\n",
       "      <td>Senior Data Scientist - Customer Analytics</td>\n",
       "      <td>Bangalore/Bengaluru</td>\n",
       "      <td>Atlassian</td>\n",
       "    </tr>\n",
       "    <tr>\n",
       "      <th>9</th>\n",
       "      <td>Senior Data Scientist</td>\n",
       "      <td>Bangalore/Bengaluru</td>\n",
       "      <td>Ericsson Global Services</td>\n",
       "    </tr>\n",
       "  </tbody>\n",
       "</table>\n",
       "</div>"
      ],
      "text/plain": [
       "                                           Job Title  \\\n",
       "0  Global Tax Automation & Operations - Data Scie...   \n",
       "1                       Data Scientist / ML Engineer   \n",
       "2  Data Scientist - Lead / Architect - Looking Fo...   \n",
       "3                                  Sr Data Scientist   \n",
       "4                           Data Scientist / Analyst   \n",
       "5                           Principal Data Scientist   \n",
       "6            Data Scientist: Artificial Intelligence   \n",
       "7                    Deputy Manager - Data Scientist   \n",
       "8         Senior Data Scientist - Customer Analytics   \n",
       "9                              Senior Data Scientist   \n",
       "\n",
       "                                        Job Location  \\\n",
       "0                                Bangalore/Bengaluru   \n",
       "1  Noida, Kota, Mumbai, Chandigarh, Lucknow, Agra...   \n",
       "2  Kochi/Cochin, Kolkata, Pune, Gurgaon/Gurugram,...   \n",
       "3            Bangalore/Bengaluru\\n(WFH during Covid)   \n",
       "4  Hyderabad/Secunderabad, Bangalore/Bengaluru, D...   \n",
       "5                                Bangalore/Bengaluru   \n",
       "6                                Bangalore/Bengaluru   \n",
       "7                                Bangalore/Bengaluru   \n",
       "8                                Bangalore/Bengaluru   \n",
       "9                                Bangalore/Bengaluru   \n",
       "\n",
       "                         Company Names  \n",
       "0                                 Dell  \n",
       "1                         AVE-Promagne  \n",
       "2                                Wipro  \n",
       "3          Fragma data systems pvt ltd  \n",
       "4                            Talentify  \n",
       "5                              Signify  \n",
       "6                                  IBM  \n",
       "7  HDFC LIFE INSURANCE COMPANY LIMITED  \n",
       "8                            Atlassian  \n",
       "9             Ericsson Global Services  "
      ]
     },
     "execution_count": 50,
     "metadata": {},
     "output_type": "execute_result"
    }
   ],
   "source": [
    "jobs = pd.DataFrame()\n",
    "jobs['Job Title'] = job_titles[:10]\n",
    "jobs['Job Location'] = location[:10]\n",
    "jobs['Company Names'] = company_names[:10]\n",
    "jobs"
   ]
  },
  {
   "cell_type": "markdown",
   "id": "4fce5f85",
   "metadata": {},
   "source": [
    "### Saving data in Excel File"
   ]
  },
  {
   "cell_type": "code",
   "execution_count": 51,
   "id": "7e58c6be",
   "metadata": {},
   "outputs": [],
   "source": [
    "file_name = 'Data Scientist Jobs in Bangalore.xlsx'"
   ]
  },
  {
   "cell_type": "code",
   "execution_count": 52,
   "id": "c5159a08",
   "metadata": {},
   "outputs": [
    {
     "name": "stdout",
     "output_type": "stream",
     "text": [
      "DataFrame is written to Excel File successfully.\n"
     ]
    }
   ],
   "source": [
    "jobs.to_excel(file_name)\n",
    "print('DataFrame is written to Excel File successfully.')"
   ]
  },
  {
   "cell_type": "markdown",
   "id": "0e8be233",
   "metadata": {},
   "source": [
    "# Q3. In this question you have to scrape data using the filters available on the webpage as shown below:\n",
    "You have to use the location and salary filter.<br>\n",
    "You have to scrape data for “Data Scientist” designation for first 10 job results.<br>\n",
    "You have to scrape the job-title, job-location, company name, experience required. <br>\n",
    "The location filter to be used is “Delhi/NCR”. The salary filter to be used is “3-6” lakhs<br>"
   ]
  },
  {
   "cell_type": "code",
   "execution_count": 53,
   "id": "517765bc",
   "metadata": {},
   "outputs": [],
   "source": [
    "# opening chrome\n",
    "driver = webdriver.Chrome(r'C:\\Users\\Anuradha\\Downloads\\chromedriver.exe')"
   ]
  },
  {
   "cell_type": "code",
   "execution_count": 54,
   "id": "6e7b2046",
   "metadata": {},
   "outputs": [],
   "source": [
    "# opening url\n",
    "url = 'https://www.naukri.com'\n",
    "driver.get(url)"
   ]
  },
  {
   "cell_type": "code",
   "execution_count": 55,
   "id": "2392d823",
   "metadata": {},
   "outputs": [
    {
     "data": {
      "text/plain": [
       "<selenium.webdriver.remote.webelement.WebElement (session=\"f24a01dd6351a5d7c29889f1f5b40837\", element=\"a898a543-f033-4fba-b9de-90cd491f4e5e\")>"
      ]
     },
     "execution_count": 55,
     "metadata": {},
     "output_type": "execute_result"
    }
   ],
   "source": [
    "# searching job\n",
    "search_job = driver.find_element_by_class_name('suggestor-input')\n",
    "search_job"
   ]
  },
  {
   "cell_type": "code",
   "execution_count": 56,
   "id": "c2e68ac1",
   "metadata": {},
   "outputs": [],
   "source": [
    "search_job.send_keys(\"Data Scientist\")"
   ]
  },
  {
   "cell_type": "code",
   "execution_count": 57,
   "id": "d7b241c0",
   "metadata": {},
   "outputs": [
    {
     "data": {
      "text/plain": [
       "<selenium.webdriver.remote.webelement.WebElement (session=\"f24a01dd6351a5d7c29889f1f5b40837\", element=\"66ebe3a1-22a1-42e2-9369-b0883f643906\")>"
      ]
     },
     "execution_count": 57,
     "metadata": {},
     "output_type": "execute_result"
    }
   ],
   "source": [
    "# clicking search\n",
    "search_btn = driver.find_element_by_class_name('qsbSubmit')\n",
    "search_btn"
   ]
  },
  {
   "cell_type": "code",
   "execution_count": 58,
   "id": "4b32f92e",
   "metadata": {},
   "outputs": [],
   "source": [
    "search_btn.click()"
   ]
  },
  {
   "cell_type": "code",
   "execution_count": 59,
   "id": "745bbf58",
   "metadata": {},
   "outputs": [
    {
     "data": {
      "text/plain": [
       "<selenium.webdriver.remote.webelement.WebElement (session=\"f24a01dd6351a5d7c29889f1f5b40837\", element=\"995dddbd-b037-45ef-9313-1adf719ac127\")>"
      ]
     },
     "execution_count": 59,
     "metadata": {},
     "output_type": "execute_result"
    }
   ],
   "source": [
    "# applying location filter\n",
    "loc_check = driver.find_element_by_xpath(\"/html/body/div[1]/div[3]/div[2]/section[1]/div[2]/div[3]/div[2]/div[3]/label/i\")\n",
    "loc_check"
   ]
  },
  {
   "cell_type": "code",
   "execution_count": 60,
   "id": "6e865bcc",
   "metadata": {},
   "outputs": [],
   "source": [
    "loc_check.click()"
   ]
  },
  {
   "cell_type": "code",
   "execution_count": 61,
   "id": "494e32a3",
   "metadata": {},
   "outputs": [
    {
     "data": {
      "text/plain": [
       "<selenium.webdriver.remote.webelement.WebElement (session=\"f24a01dd6351a5d7c29889f1f5b40837\", element=\"6d2827e5-fe6f-4e80-9c52-c95611bfa928\")>"
      ]
     },
     "execution_count": 61,
     "metadata": {},
     "output_type": "execute_result"
    }
   ],
   "source": [
    "# applying salary filter\n",
    "salary_check = driver.find_element_by_xpath(\"/html/body/div[1]/div[3]/div[2]/section[1]/div[2]/div[4]/div[2]/div[2]/label/i\")\n",
    "salary_check"
   ]
  },
  {
   "cell_type": "code",
   "execution_count": 62,
   "id": "bf452ab0",
   "metadata": {},
   "outputs": [],
   "source": [
    "salary_check.click()"
   ]
  },
  {
   "cell_type": "markdown",
   "id": "1377ed64",
   "metadata": {},
   "source": [
    "### Scraping Job Titles"
   ]
  },
  {
   "cell_type": "code",
   "execution_count": 63,
   "id": "bcb623fd",
   "metadata": {},
   "outputs": [
    {
     "data": {
      "text/plain": [
       "[<selenium.webdriver.remote.webelement.WebElement (session=\"f24a01dd6351a5d7c29889f1f5b40837\", element=\"7886494e-23a3-46ee-9381-d48e19aec04c\")>,\n",
       " <selenium.webdriver.remote.webelement.WebElement (session=\"f24a01dd6351a5d7c29889f1f5b40837\", element=\"f606da23-0b7b-4974-ba4f-65819bfa8c2b\")>,\n",
       " <selenium.webdriver.remote.webelement.WebElement (session=\"f24a01dd6351a5d7c29889f1f5b40837\", element=\"2eda5e1d-b1de-4e38-b4c2-07c073e0320c\")>,\n",
       " <selenium.webdriver.remote.webelement.WebElement (session=\"f24a01dd6351a5d7c29889f1f5b40837\", element=\"fb561345-47d2-4223-9c2a-a88597102cd4\")>,\n",
       " <selenium.webdriver.remote.webelement.WebElement (session=\"f24a01dd6351a5d7c29889f1f5b40837\", element=\"127fe2ee-bc81-4c30-aad3-c6d819435fbe\")>,\n",
       " <selenium.webdriver.remote.webelement.WebElement (session=\"f24a01dd6351a5d7c29889f1f5b40837\", element=\"a358b1e0-880b-4863-9d9c-dadea1625e0a\")>,\n",
       " <selenium.webdriver.remote.webelement.WebElement (session=\"f24a01dd6351a5d7c29889f1f5b40837\", element=\"85c9c0e0-7de5-4fdc-9adf-692c63464701\")>,\n",
       " <selenium.webdriver.remote.webelement.WebElement (session=\"f24a01dd6351a5d7c29889f1f5b40837\", element=\"c5e54502-89b4-49f1-95c3-0b3092f9c2af\")>,\n",
       " <selenium.webdriver.remote.webelement.WebElement (session=\"f24a01dd6351a5d7c29889f1f5b40837\", element=\"5fdc09fe-2116-41a9-9cc5-3ef081bd7a65\")>,\n",
       " <selenium.webdriver.remote.webelement.WebElement (session=\"f24a01dd6351a5d7c29889f1f5b40837\", element=\"5f748a0e-69a2-463d-bee7-a6d9f8ebf628\")>,\n",
       " <selenium.webdriver.remote.webelement.WebElement (session=\"f24a01dd6351a5d7c29889f1f5b40837\", element=\"b2b3e106-1786-47ac-9902-16f1c16ee7b8\")>,\n",
       " <selenium.webdriver.remote.webelement.WebElement (session=\"f24a01dd6351a5d7c29889f1f5b40837\", element=\"51e361b7-256f-4acd-b72c-80052cf2d9a8\")>,\n",
       " <selenium.webdriver.remote.webelement.WebElement (session=\"f24a01dd6351a5d7c29889f1f5b40837\", element=\"5de9cc70-fce6-44b6-82c4-231512c00f0b\")>,\n",
       " <selenium.webdriver.remote.webelement.WebElement (session=\"f24a01dd6351a5d7c29889f1f5b40837\", element=\"7ca65817-5413-4ebe-a5a8-0f9ef2575120\")>,\n",
       " <selenium.webdriver.remote.webelement.WebElement (session=\"f24a01dd6351a5d7c29889f1f5b40837\", element=\"1da8b07a-2938-4f01-8fb3-6c59c380a1fb\")>,\n",
       " <selenium.webdriver.remote.webelement.WebElement (session=\"f24a01dd6351a5d7c29889f1f5b40837\", element=\"5e4102d3-6154-42d5-be13-29ec6a7fabe3\")>,\n",
       " <selenium.webdriver.remote.webelement.WebElement (session=\"f24a01dd6351a5d7c29889f1f5b40837\", element=\"11f3acee-2dd7-412d-9e7f-bea56f2022f1\")>,\n",
       " <selenium.webdriver.remote.webelement.WebElement (session=\"f24a01dd6351a5d7c29889f1f5b40837\", element=\"f7bed2c8-8a3e-4269-9f8e-52322b316d5b\")>,\n",
       " <selenium.webdriver.remote.webelement.WebElement (session=\"f24a01dd6351a5d7c29889f1f5b40837\", element=\"c4993106-f53d-4e74-b49d-1391faebe7b3\")>,\n",
       " <selenium.webdriver.remote.webelement.WebElement (session=\"f24a01dd6351a5d7c29889f1f5b40837\", element=\"97bca36c-2e33-4db4-bc56-fbde2ef8b39b\")>]"
      ]
     },
     "execution_count": 63,
     "metadata": {},
     "output_type": "execute_result"
    }
   ],
   "source": [
    "title_tags = driver.find_elements_by_xpath('//a[@class=\"title fw500 ellipsis\"]')\n",
    "title_tags"
   ]
  },
  {
   "cell_type": "code",
   "execution_count": 64,
   "id": "01532cd2",
   "metadata": {},
   "outputs": [
    {
     "data": {
      "text/plain": [
       "20"
      ]
     },
     "execution_count": 64,
     "metadata": {},
     "output_type": "execute_result"
    }
   ],
   "source": [
    "len(title_tags)"
   ]
  },
  {
   "cell_type": "code",
   "execution_count": 67,
   "id": "7aa751e5",
   "metadata": {},
   "outputs": [
    {
     "data": {
      "text/plain": [
       "20"
      ]
     },
     "execution_count": 67,
     "metadata": {},
     "output_type": "execute_result"
    }
   ],
   "source": [
    "job_titles = []\n",
    "\n",
    "for i in title_tags:\n",
    "    job_titles.append(i.text)\n",
    "    \n",
    "len(job_titles)"
   ]
  },
  {
   "cell_type": "code",
   "execution_count": 68,
   "id": "437b92af",
   "metadata": {},
   "outputs": [
    {
     "data": {
      "text/plain": [
       "['Data Scientist II',\n",
       " 'Opening For Data Scientist',\n",
       " 'Data & Applied Scientist',\n",
       " 'Data and applied Scientist',\n",
       " 'Data Scientist',\n",
       " 'Associate Data Scientist - Java/ Scala/ Apache Server',\n",
       " 'Data Scientist',\n",
       " 'Data Scientist',\n",
       " 'Data Scientist / Senior DS/ Team Lead',\n",
       " 'Data Scientist Internship',\n",
       " 'Data Scientist',\n",
       " 'Data Scientist (ML AI Engineer) / InfoObjects Inc.',\n",
       " 'Urgent Requirement || Data Scientist || Noida',\n",
       " 'Data Analyst / Data Scientist / Business Analytics / Fresher - MNC',\n",
       " 'Data Scientist',\n",
       " 'Senior Data Scientist',\n",
       " 'Lead Data Scientist - KYC/Fraud/Marketing',\n",
       " 'Data Scientist',\n",
       " 'Data Scientist',\n",
       " 'Data Scientist']"
      ]
     },
     "execution_count": 68,
     "metadata": {},
     "output_type": "execute_result"
    }
   ],
   "source": [
    "job_titles"
   ]
  },
  {
   "cell_type": "markdown",
   "id": "b7784a06",
   "metadata": {},
   "source": [
    "### Scraping Job Locations"
   ]
  },
  {
   "cell_type": "code",
   "execution_count": 69,
   "id": "2cdafd8c",
   "metadata": {},
   "outputs": [
    {
     "data": {
      "text/plain": [
       "20"
      ]
     },
     "execution_count": 69,
     "metadata": {},
     "output_type": "execute_result"
    }
   ],
   "source": [
    "loc_tags = driver.find_elements_by_xpath('//li[@class=\"fleft grey-text br2 placeHolderLi location\"]')\n",
    "len(loc_tags)"
   ]
  },
  {
   "cell_type": "code",
   "execution_count": 70,
   "id": "dbafdc3a",
   "metadata": {},
   "outputs": [
    {
     "data": {
      "text/plain": [
       "20"
      ]
     },
     "execution_count": 70,
     "metadata": {},
     "output_type": "execute_result"
    }
   ],
   "source": [
    "location = []\n",
    "\n",
    "for i in loc_tags:\n",
    "    location.append(i.text)\n",
    "    \n",
    "len(location)"
   ]
  },
  {
   "cell_type": "code",
   "execution_count": 71,
   "id": "a13a907f",
   "metadata": {},
   "outputs": [
    {
     "data": {
      "text/plain": [
       "['Delhi / NCR',\n",
       " 'Gurgaon/Gurugram',\n",
       " 'Noida, Hyderabad/Secunderabad, Bangalore/Bengaluru',\n",
       " 'Noida, Hyderabad/Secunderabad, Bangalore/Bengaluru',\n",
       " 'Noida',\n",
       " 'Noida',\n",
       " 'Gurgaon/Gurugram\\n(WFH during Covid)',\n",
       " 'New Delhi',\n",
       " 'Mumbai, Gurgaon/Gurugram(Cyber City +1)',\n",
       " 'New Delhi',\n",
       " 'New Delhi, Delhi / NCR, Mumbai (All Areas)',\n",
       " 'Indore, Jaipur, Delhi / NCR\\n(WFH during Covid)',\n",
       " 'Noida, Delhi / NCR',\n",
       " 'Noida, New Delhi, Delhi / NCR',\n",
       " 'New Delhi',\n",
       " 'Delhi',\n",
       " 'New Delhi',\n",
       " 'Gurgaon, Bengaluru',\n",
       " 'Bharuch, Jaipur, Bhopal, Mumbai, Jhansi, Nagpur, Ghaziabad, Jaunpur, Kanpur, Delhi, Lucknow, Agra, Gurgaon, Rajkot, Bengaluru',\n",
       " 'Delhi']"
      ]
     },
     "execution_count": 71,
     "metadata": {},
     "output_type": "execute_result"
    }
   ],
   "source": [
    "location"
   ]
  },
  {
   "cell_type": "markdown",
   "id": "baf56c42",
   "metadata": {},
   "source": [
    "### Scraping Company Name"
   ]
  },
  {
   "cell_type": "code",
   "execution_count": 72,
   "id": "1c2f4ae5",
   "metadata": {},
   "outputs": [
    {
     "data": {
      "text/plain": [
       "20"
      ]
     },
     "execution_count": 72,
     "metadata": {},
     "output_type": "execute_result"
    }
   ],
   "source": [
    "company_tags = driver.find_elements_by_xpath('//a[@class=\"subTitle ellipsis fleft\"]')\n",
    "len(company_tags)"
   ]
  },
  {
   "cell_type": "code",
   "execution_count": 73,
   "id": "a9e126a1",
   "metadata": {},
   "outputs": [
    {
     "data": {
      "text/plain": [
       "20"
      ]
     },
     "execution_count": 73,
     "metadata": {},
     "output_type": "execute_result"
    }
   ],
   "source": [
    "company_names = []\n",
    "\n",
    "for i in company_tags:\n",
    "    company_names.append(i.text)\n",
    "    \n",
    "len(company_names)"
   ]
  },
  {
   "cell_type": "code",
   "execution_count": 74,
   "id": "837d4173",
   "metadata": {},
   "outputs": [
    {
     "data": {
      "text/plain": [
       "['Chegg',\n",
       " 'Care Health Insurance',\n",
       " 'Microsoft',\n",
       " 'Microsoft',\n",
       " 'Stefanini',\n",
       " 'Smart work Consultants',\n",
       " 'Zekardo Automotive Solutions',\n",
       " 'Team Computers Pvt Ltd',\n",
       " 'NebulARC Technologies Private Limited',\n",
       " 'iHackers Inc',\n",
       " 'Cloudstrats Technologies Private Limited',\n",
       " 'INFOOBJECTS SOFTWARE ( INDIA) PRIVATE LIMITED',\n",
       " 'HCL',\n",
       " 'GABA Consultancy services',\n",
       " 'Boston Consulting Group',\n",
       " 'iNICU',\n",
       " 'Tide Software',\n",
       " 'BlackBuck',\n",
       " 'Country Veggie',\n",
       " 'Mahajan Imaging']"
      ]
     },
     "execution_count": 74,
     "metadata": {},
     "output_type": "execute_result"
    }
   ],
   "source": [
    "company_names"
   ]
  },
  {
   "cell_type": "markdown",
   "id": "637cbb91",
   "metadata": {},
   "source": [
    "### Scraping Experience Required"
   ]
  },
  {
   "cell_type": "code",
   "execution_count": 75,
   "id": "7355c3a1",
   "metadata": {},
   "outputs": [
    {
     "data": {
      "text/plain": [
       "20"
      ]
     },
     "execution_count": 75,
     "metadata": {},
     "output_type": "execute_result"
    }
   ],
   "source": [
    "exp_tags = driver.find_elements_by_xpath('//*[contains(@title,\"Yrs \")]')\n",
    "len(exp_tags)"
   ]
  },
  {
   "cell_type": "code",
   "execution_count": 76,
   "id": "f343db82",
   "metadata": {},
   "outputs": [
    {
     "data": {
      "text/plain": [
       "20"
      ]
     },
     "execution_count": 76,
     "metadata": {},
     "output_type": "execute_result"
    }
   ],
   "source": [
    "experience = []\n",
    "\n",
    "for i in exp_tags:\n",
    "    experience.append(i.text)\n",
    "    \n",
    "len(experience)"
   ]
  },
  {
   "cell_type": "code",
   "execution_count": 77,
   "id": "5df575e9",
   "metadata": {},
   "outputs": [
    {
     "data": {
      "text/plain": [
       "['2-6 Yrs',\n",
       " '1-5 Yrs',\n",
       " '3-7 Yrs',\n",
       " '3-7 Yrs',\n",
       " '3-8 Yrs',\n",
       " '1-4 Yrs',\n",
       " '5-8 Yrs',\n",
       " '2-6 Yrs',\n",
       " '0-4 Yrs',\n",
       " '0-1 Yrs',\n",
       " '3-5 Yrs',\n",
       " '3-7 Yrs',\n",
       " '3-8 Yrs',\n",
       " '0-0 Yrs',\n",
       " '2-5 Yrs',\n",
       " '1-5 Yrs',\n",
       " '1-6 Yrs',\n",
       " '3-7 Yrs',\n",
       " '1-3 Yrs',\n",
       " '2-6 Yrs']"
      ]
     },
     "execution_count": 77,
     "metadata": {},
     "output_type": "execute_result"
    }
   ],
   "source": [
    "experience"
   ]
  },
  {
   "cell_type": "markdown",
   "id": "8f410633",
   "metadata": {},
   "source": [
    "### Rechecking len"
   ]
  },
  {
   "cell_type": "code",
   "execution_count": 78,
   "id": "54c8cd08",
   "metadata": {},
   "outputs": [
    {
     "data": {
      "text/plain": [
       "(20, 20, 20, 20)"
      ]
     },
     "execution_count": 78,
     "metadata": {},
     "output_type": "execute_result"
    }
   ],
   "source": [
    "len(job_titles), len(location), len(company_names), len(experience)"
   ]
  },
  {
   "cell_type": "markdown",
   "id": "5d325cc7",
   "metadata": {},
   "source": [
    "### Creating DataFrame"
   ]
  },
  {
   "cell_type": "code",
   "execution_count": 79,
   "id": "55e533ef",
   "metadata": {},
   "outputs": [
    {
     "data": {
      "text/html": [
       "<div>\n",
       "<style scoped>\n",
       "    .dataframe tbody tr th:only-of-type {\n",
       "        vertical-align: middle;\n",
       "    }\n",
       "\n",
       "    .dataframe tbody tr th {\n",
       "        vertical-align: top;\n",
       "    }\n",
       "\n",
       "    .dataframe thead th {\n",
       "        text-align: right;\n",
       "    }\n",
       "</style>\n",
       "<table border=\"1\" class=\"dataframe\">\n",
       "  <thead>\n",
       "    <tr style=\"text-align: right;\">\n",
       "      <th></th>\n",
       "      <th>Job Title</th>\n",
       "      <th>Job Location</th>\n",
       "      <th>Company Name</th>\n",
       "      <th>Experience Required</th>\n",
       "    </tr>\n",
       "  </thead>\n",
       "  <tbody>\n",
       "    <tr>\n",
       "      <th>0</th>\n",
       "      <td>Data Scientist II</td>\n",
       "      <td>Delhi / NCR</td>\n",
       "      <td>Chegg</td>\n",
       "      <td>2-6 Yrs</td>\n",
       "    </tr>\n",
       "    <tr>\n",
       "      <th>1</th>\n",
       "      <td>Opening For Data Scientist</td>\n",
       "      <td>Gurgaon/Gurugram</td>\n",
       "      <td>Care Health Insurance</td>\n",
       "      <td>1-5 Yrs</td>\n",
       "    </tr>\n",
       "    <tr>\n",
       "      <th>2</th>\n",
       "      <td>Data &amp; Applied Scientist</td>\n",
       "      <td>Noida, Hyderabad/Secunderabad, Bangalore/Benga...</td>\n",
       "      <td>Microsoft</td>\n",
       "      <td>3-7 Yrs</td>\n",
       "    </tr>\n",
       "    <tr>\n",
       "      <th>3</th>\n",
       "      <td>Data and applied Scientist</td>\n",
       "      <td>Noida, Hyderabad/Secunderabad, Bangalore/Benga...</td>\n",
       "      <td>Microsoft</td>\n",
       "      <td>3-7 Yrs</td>\n",
       "    </tr>\n",
       "    <tr>\n",
       "      <th>4</th>\n",
       "      <td>Data Scientist</td>\n",
       "      <td>Noida</td>\n",
       "      <td>Stefanini</td>\n",
       "      <td>3-8 Yrs</td>\n",
       "    </tr>\n",
       "    <tr>\n",
       "      <th>5</th>\n",
       "      <td>Associate Data Scientist - Java/ Scala/ Apache...</td>\n",
       "      <td>Noida</td>\n",
       "      <td>Smart work Consultants</td>\n",
       "      <td>1-4 Yrs</td>\n",
       "    </tr>\n",
       "    <tr>\n",
       "      <th>6</th>\n",
       "      <td>Data Scientist</td>\n",
       "      <td>Gurgaon/Gurugram\\n(WFH during Covid)</td>\n",
       "      <td>Zekardo Automotive Solutions</td>\n",
       "      <td>5-8 Yrs</td>\n",
       "    </tr>\n",
       "    <tr>\n",
       "      <th>7</th>\n",
       "      <td>Data Scientist</td>\n",
       "      <td>New Delhi</td>\n",
       "      <td>Team Computers Pvt Ltd</td>\n",
       "      <td>2-6 Yrs</td>\n",
       "    </tr>\n",
       "    <tr>\n",
       "      <th>8</th>\n",
       "      <td>Data Scientist / Senior DS/ Team Lead</td>\n",
       "      <td>Mumbai, Gurgaon/Gurugram(Cyber City +1)</td>\n",
       "      <td>NebulARC Technologies Private Limited</td>\n",
       "      <td>0-4 Yrs</td>\n",
       "    </tr>\n",
       "    <tr>\n",
       "      <th>9</th>\n",
       "      <td>Data Scientist Internship</td>\n",
       "      <td>New Delhi</td>\n",
       "      <td>iHackers Inc</td>\n",
       "      <td>0-1 Yrs</td>\n",
       "    </tr>\n",
       "  </tbody>\n",
       "</table>\n",
       "</div>"
      ],
      "text/plain": [
       "                                           Job Title  \\\n",
       "0                                  Data Scientist II   \n",
       "1                         Opening For Data Scientist   \n",
       "2                           Data & Applied Scientist   \n",
       "3                         Data and applied Scientist   \n",
       "4                                     Data Scientist   \n",
       "5  Associate Data Scientist - Java/ Scala/ Apache...   \n",
       "6                                     Data Scientist   \n",
       "7                                     Data Scientist   \n",
       "8              Data Scientist / Senior DS/ Team Lead   \n",
       "9                          Data Scientist Internship   \n",
       "\n",
       "                                        Job Location  \\\n",
       "0                                        Delhi / NCR   \n",
       "1                                   Gurgaon/Gurugram   \n",
       "2  Noida, Hyderabad/Secunderabad, Bangalore/Benga...   \n",
       "3  Noida, Hyderabad/Secunderabad, Bangalore/Benga...   \n",
       "4                                              Noida   \n",
       "5                                              Noida   \n",
       "6               Gurgaon/Gurugram\\n(WFH during Covid)   \n",
       "7                                          New Delhi   \n",
       "8            Mumbai, Gurgaon/Gurugram(Cyber City +1)   \n",
       "9                                          New Delhi   \n",
       "\n",
       "                            Company Name Experience Required  \n",
       "0                                  Chegg             2-6 Yrs  \n",
       "1                  Care Health Insurance             1-5 Yrs  \n",
       "2                              Microsoft             3-7 Yrs  \n",
       "3                              Microsoft             3-7 Yrs  \n",
       "4                              Stefanini             3-8 Yrs  \n",
       "5                 Smart work Consultants             1-4 Yrs  \n",
       "6           Zekardo Automotive Solutions             5-8 Yrs  \n",
       "7                 Team Computers Pvt Ltd             2-6 Yrs  \n",
       "8  NebulARC Technologies Private Limited             0-4 Yrs  \n",
       "9                           iHackers Inc             0-1 Yrs  "
      ]
     },
     "execution_count": 79,
     "metadata": {},
     "output_type": "execute_result"
    }
   ],
   "source": [
    "jobs = pd.DataFrame()\n",
    "jobs['Job Title'] = job_titles[:10]\n",
    "jobs['Job Location'] = location[:10]\n",
    "jobs['Company Name'] = company_names[:10]\n",
    "jobs['Experience Required'] = experience[:10]\n",
    "jobs"
   ]
  },
  {
   "cell_type": "markdown",
   "id": "2d4ba5f2",
   "metadata": {},
   "source": [
    "### Saving to Excel"
   ]
  },
  {
   "cell_type": "code",
   "execution_count": 80,
   "id": "137b6496",
   "metadata": {},
   "outputs": [],
   "source": [
    "file_name = 'Data Scientist Jobs_DelhiNCR_3-6lacs.xlsx'"
   ]
  },
  {
   "cell_type": "code",
   "execution_count": 81,
   "id": "17f1bfa8",
   "metadata": {},
   "outputs": [
    {
     "name": "stdout",
     "output_type": "stream",
     "text": [
      "DataFrame is written to Excel File successfully.\n"
     ]
    }
   ],
   "source": [
    "jobs.to_excel(file_name)\n",
    "print('DataFrame is written to Excel File successfully.')"
   ]
  },
  {
   "cell_type": "markdown",
   "id": "3560e692",
   "metadata": {},
   "source": [
    "# Q4. Scrape data of first 100 sunglasses listings on flipkart.com. You have to scrape four attributes:\n",
    "1. Brand\n",
    "2. Product Description\n",
    "3. Price\n",
    "4. Discount\n",
    "<br>The attributes which you have to scrape is ticked marked in the below image"
   ]
  },
  {
   "cell_type": "code",
   "execution_count": 151,
   "id": "d7b1bc20",
   "metadata": {},
   "outputs": [],
   "source": [
    "# loading driver\n",
    "driver = webdriver.Chrome(r'C:\\Users\\Anuradha\\Downloads\\chromedriver.exe')"
   ]
  },
  {
   "cell_type": "code",
   "execution_count": 152,
   "id": "14b457c2",
   "metadata": {},
   "outputs": [],
   "source": [
    "# loading url\n",
    "url = 'https://www.flipkart.com/'\n",
    "driver.get(url)"
   ]
  },
  {
   "cell_type": "code",
   "execution_count": 153,
   "id": "c7ee15b7",
   "metadata": {},
   "outputs": [
    {
     "data": {
      "text/plain": [
       "<selenium.webdriver.remote.webelement.WebElement (session=\"c0c6bc87503c12b9ca02785d33d70da6\", element=\"f44a466e-02e5-4c7e-b0ee-ed018f4190f2\")>"
      ]
     },
     "execution_count": 153,
     "metadata": {},
     "output_type": "execute_result"
    }
   ],
   "source": [
    "# searching sunglasses in search bar\n",
    "search_item = driver.find_element_by_class_name('_3704LK')\n",
    "search_item"
   ]
  },
  {
   "cell_type": "code",
   "execution_count": 154,
   "id": "d1c83e7a",
   "metadata": {},
   "outputs": [],
   "source": [
    "search_item.send_keys(\"sunglasses\")"
   ]
  },
  {
   "cell_type": "code",
   "execution_count": 155,
   "id": "5f352218",
   "metadata": {},
   "outputs": [
    {
     "data": {
      "text/plain": [
       "<selenium.webdriver.remote.webelement.WebElement (session=\"c0c6bc87503c12b9ca02785d33d70da6\", element=\"5e8f4846-1adf-4b28-9def-21c641ad91fc\")>"
      ]
     },
     "execution_count": 155,
     "metadata": {},
     "output_type": "execute_result"
    }
   ],
   "source": [
    "# clicking on search button\n",
    "search_btn = driver.find_element_by_class_name('L0Z3Pu')\n",
    "search_btn"
   ]
  },
  {
   "cell_type": "code",
   "execution_count": 156,
   "id": "41564044",
   "metadata": {},
   "outputs": [],
   "source": [
    "search_btn.click()"
   ]
  },
  {
   "cell_type": "markdown",
   "id": "31aeda28",
   "metadata": {},
   "source": [
    "#### Making DataFrame of 1st 40 sunglasses from Page 1"
   ]
  },
  {
   "cell_type": "code",
   "execution_count": 157,
   "id": "6ef8b041",
   "metadata": {},
   "outputs": [
    {
     "data": {
      "text/plain": [
       "40"
      ]
     },
     "execution_count": 157,
     "metadata": {},
     "output_type": "execute_result"
    }
   ],
   "source": [
    "brand_tags = driver.find_elements_by_xpath('//div[@class=\"_2WkVRV\"]')\n",
    "\n",
    "brand_name = []\n",
    "\n",
    "for i in brand_tags:\n",
    "    brand_name.append(i.text)\n",
    "\n",
    "len(brand_name)"
   ]
  },
  {
   "cell_type": "code",
   "execution_count": 158,
   "id": "ff5d2786",
   "metadata": {},
   "outputs": [
    {
     "data": {
      "text/plain": [
       "40"
      ]
     },
     "execution_count": 158,
     "metadata": {},
     "output_type": "execute_result"
    }
   ],
   "source": [
    "product_tags = driver.find_elements_by_xpath('//a[@class=\"IRpwTa\"]')\n",
    "\n",
    "product_name = []\n",
    "\n",
    "for i in product_tags:\n",
    "    product_name.append(i.text)\n",
    "\n",
    "len(product_name)"
   ]
  },
  {
   "cell_type": "code",
   "execution_count": 159,
   "id": "8171585c",
   "metadata": {},
   "outputs": [
    {
     "data": {
      "text/plain": [
       "40"
      ]
     },
     "execution_count": 159,
     "metadata": {},
     "output_type": "execute_result"
    }
   ],
   "source": [
    "price_tags = driver.find_elements_by_xpath('//div[@class=\"_30jeq3\"]')\n",
    "\n",
    "price = []\n",
    "\n",
    "for i in price_tags:\n",
    "    price.append(i.text)\n",
    "\n",
    "len(price)"
   ]
  },
  {
   "cell_type": "code",
   "execution_count": 160,
   "id": "15ad49d5",
   "metadata": {},
   "outputs": [
    {
     "data": {
      "text/plain": [
       "40"
      ]
     },
     "execution_count": 160,
     "metadata": {},
     "output_type": "execute_result"
    }
   ],
   "source": [
    "discount_tags = driver.find_elements_by_xpath('//div[@class=\"_3Ay6Sb\"]')\n",
    "\n",
    "discount = []\n",
    "\n",
    "for i in discount_tags:\n",
    "    discount.append(i.text)\n",
    "\n",
    "len(discount)"
   ]
  },
  {
   "cell_type": "code",
   "execution_count": 161,
   "id": "3fee0be6",
   "metadata": {},
   "outputs": [
    {
     "data": {
      "text/html": [
       "<div>\n",
       "<style scoped>\n",
       "    .dataframe tbody tr th:only-of-type {\n",
       "        vertical-align: middle;\n",
       "    }\n",
       "\n",
       "    .dataframe tbody tr th {\n",
       "        vertical-align: top;\n",
       "    }\n",
       "\n",
       "    .dataframe thead th {\n",
       "        text-align: right;\n",
       "    }\n",
       "</style>\n",
       "<table border=\"1\" class=\"dataframe\">\n",
       "  <thead>\n",
       "    <tr style=\"text-align: right;\">\n",
       "      <th></th>\n",
       "      <th>Brand Name</th>\n",
       "      <th>Product Description</th>\n",
       "      <th>Price</th>\n",
       "      <th>Discount</th>\n",
       "    </tr>\n",
       "  </thead>\n",
       "  <tbody>\n",
       "    <tr>\n",
       "      <th>0</th>\n",
       "      <td>PIRASO</td>\n",
       "      <td>UV Protection Aviator Sunglasses (55)</td>\n",
       "      <td>₹250</td>\n",
       "      <td>84% off</td>\n",
       "    </tr>\n",
       "    <tr>\n",
       "      <th>1</th>\n",
       "      <td>VINCENT CHASE</td>\n",
       "      <td>by Lenskart Polarized, UV Protection Round Sun...</td>\n",
       "      <td>₹1,179</td>\n",
       "      <td>41% off</td>\n",
       "    </tr>\n",
       "    <tr>\n",
       "      <th>2</th>\n",
       "      <td>Elligator</td>\n",
       "      <td>UV Protection Round Sunglasses (54)</td>\n",
       "      <td>₹248</td>\n",
       "      <td>90% off</td>\n",
       "    </tr>\n",
       "    <tr>\n",
       "      <th>3</th>\n",
       "      <td>Fastrack</td>\n",
       "      <td>UV Protection Rectangular Sunglasses (Free Size)</td>\n",
       "      <td>₹639</td>\n",
       "      <td>20% off</td>\n",
       "    </tr>\n",
       "    <tr>\n",
       "      <th>4</th>\n",
       "      <td>SHAAH COLLECTIONS</td>\n",
       "      <td>UV Protection, Polarized, Mirrored Rectangular...</td>\n",
       "      <td>₹165</td>\n",
       "      <td>90% off</td>\n",
       "    </tr>\n",
       "    <tr>\n",
       "      <th>5</th>\n",
       "      <td>New Specs</td>\n",
       "      <td>UV Protection Rectangular Sunglasses (Free Size)</td>\n",
       "      <td>₹239</td>\n",
       "      <td>88% off</td>\n",
       "    </tr>\n",
       "    <tr>\n",
       "      <th>6</th>\n",
       "      <td>kingsunglasses</td>\n",
       "      <td>UV Protection Round Sunglasses (54)</td>\n",
       "      <td>₹178</td>\n",
       "      <td>82% off</td>\n",
       "    </tr>\n",
       "    <tr>\n",
       "      <th>7</th>\n",
       "      <td>elegante</td>\n",
       "      <td>UV Protection Oval Sunglasses (Free Size)</td>\n",
       "      <td>₹389</td>\n",
       "      <td>74% off</td>\n",
       "    </tr>\n",
       "    <tr>\n",
       "      <th>8</th>\n",
       "      <td>Fastrack</td>\n",
       "      <td>Gradient, UV Protection Wayfarer Sunglasses (F...</td>\n",
       "      <td>₹549</td>\n",
       "      <td>31% off</td>\n",
       "    </tr>\n",
       "    <tr>\n",
       "      <th>9</th>\n",
       "      <td>SUNBEE</td>\n",
       "      <td>UV Protection, Polarized Wayfarer Sunglasses (...</td>\n",
       "      <td>₹243</td>\n",
       "      <td>81% off</td>\n",
       "    </tr>\n",
       "    <tr>\n",
       "      <th>10</th>\n",
       "      <td>SUNBEE</td>\n",
       "      <td>UV Protection, Polarized, Mirrored Round Sungl...</td>\n",
       "      <td>₹271</td>\n",
       "      <td>84% off</td>\n",
       "    </tr>\n",
       "    <tr>\n",
       "      <th>11</th>\n",
       "      <td>Singco India</td>\n",
       "      <td>UV Protection, Riding Glasses, Others Aviator,...</td>\n",
       "      <td>₹203</td>\n",
       "      <td>70% off</td>\n",
       "    </tr>\n",
       "    <tr>\n",
       "      <th>12</th>\n",
       "      <td>SRPM</td>\n",
       "      <td>UV Protection Wayfarer Sunglasses (50)</td>\n",
       "      <td>₹188</td>\n",
       "      <td>85% off</td>\n",
       "    </tr>\n",
       "    <tr>\n",
       "      <th>13</th>\n",
       "      <td>ROZZETTA CRAFT</td>\n",
       "      <td>Polarized, Night Vision, Riding Glasses Sports...</td>\n",
       "      <td>₹474</td>\n",
       "      <td>76% off</td>\n",
       "    </tr>\n",
       "    <tr>\n",
       "      <th>14</th>\n",
       "      <td>PIRASO</td>\n",
       "      <td>UV Protection Aviator Sunglasses (54)</td>\n",
       "      <td>₹229</td>\n",
       "      <td>85% off</td>\n",
       "    </tr>\n",
       "    <tr>\n",
       "      <th>15</th>\n",
       "      <td>PIRASO</td>\n",
       "      <td>UV Protection Rectangular, Over-sized Sunglass...</td>\n",
       "      <td>₹325</td>\n",
       "      <td>89% off</td>\n",
       "    </tr>\n",
       "    <tr>\n",
       "      <th>16</th>\n",
       "      <td>PHENOMENAL</td>\n",
       "      <td>UV Protection, Mirrored Retro Square Sunglasse...</td>\n",
       "      <td>₹299</td>\n",
       "      <td>85% off</td>\n",
       "    </tr>\n",
       "    <tr>\n",
       "      <th>17</th>\n",
       "      <td>Elligator</td>\n",
       "      <td>UV Protection Round Sunglasses (53)</td>\n",
       "      <td>₹189</td>\n",
       "      <td>87% off</td>\n",
       "    </tr>\n",
       "    <tr>\n",
       "      <th>18</th>\n",
       "      <td>ROZZETTA CRAFT</td>\n",
       "      <td>UV Protection, Gradient Rectangular Sunglasses...</td>\n",
       "      <td>₹383</td>\n",
       "      <td>80% off</td>\n",
       "    </tr>\n",
       "    <tr>\n",
       "      <th>19</th>\n",
       "      <td>ROZZETTA CRAFT</td>\n",
       "      <td>UV Protection Aviator Sunglasses (Free Size)</td>\n",
       "      <td>₹616</td>\n",
       "      <td>75% off</td>\n",
       "    </tr>\n",
       "    <tr>\n",
       "      <th>20</th>\n",
       "      <td>PIRASO</td>\n",
       "      <td>UV Protection Wayfarer Sunglasses (32)</td>\n",
       "      <td>₹225</td>\n",
       "      <td>85% off</td>\n",
       "    </tr>\n",
       "    <tr>\n",
       "      <th>21</th>\n",
       "      <td>SHAAH COLLECTIONS</td>\n",
       "      <td>UV Protection, Polarized, Mirrored Rectangular...</td>\n",
       "      <td>₹181</td>\n",
       "      <td>81% off</td>\n",
       "    </tr>\n",
       "    <tr>\n",
       "      <th>22</th>\n",
       "      <td>PHENOMENAL</td>\n",
       "      <td>UV Protection, Mirrored Retro Square Sunglasse...</td>\n",
       "      <td>₹299</td>\n",
       "      <td>85% off</td>\n",
       "    </tr>\n",
       "    <tr>\n",
       "      <th>23</th>\n",
       "      <td>VINCENT CHASE</td>\n",
       "      <td>by Lenskart Polarized, UV Protection Wayfarer ...</td>\n",
       "      <td>₹1,533</td>\n",
       "      <td>38% off</td>\n",
       "    </tr>\n",
       "    <tr>\n",
       "      <th>24</th>\n",
       "      <td>GANSTA</td>\n",
       "      <td>UV Protection Aviator Sunglasses (57)</td>\n",
       "      <td>₹269</td>\n",
       "      <td>86% off</td>\n",
       "    </tr>\n",
       "    <tr>\n",
       "      <th>25</th>\n",
       "      <td>PHENOMENAL</td>\n",
       "      <td>UV Protection Retro Square Sunglasses (Free Size)</td>\n",
       "      <td>₹309</td>\n",
       "      <td>84% off</td>\n",
       "    </tr>\n",
       "    <tr>\n",
       "      <th>26</th>\n",
       "      <td>Fastrack</td>\n",
       "      <td>UV Protection Wayfarer Sunglasses (Free Size)</td>\n",
       "      <td>₹579</td>\n",
       "      <td>35% off</td>\n",
       "    </tr>\n",
       "    <tr>\n",
       "      <th>27</th>\n",
       "      <td>PIRASO</td>\n",
       "      <td>UV Protection Aviator Sunglasses (58)</td>\n",
       "      <td>₹299</td>\n",
       "      <td>88% off</td>\n",
       "    </tr>\n",
       "    <tr>\n",
       "      <th>28</th>\n",
       "      <td>kingsunglasses</td>\n",
       "      <td>UV Protection, Riding Glasses, Mirrored Wayfar...</td>\n",
       "      <td>₹179</td>\n",
       "      <td>85% off</td>\n",
       "    </tr>\n",
       "    <tr>\n",
       "      <th>29</th>\n",
       "      <td>agera</td>\n",
       "      <td>Gradient Aviator Sunglasses (55)</td>\n",
       "      <td>₹196</td>\n",
       "      <td>82% off</td>\n",
       "    </tr>\n",
       "    <tr>\n",
       "      <th>30</th>\n",
       "      <td>Fastrack</td>\n",
       "      <td>UV Protection Wayfarer Sunglasses (Free Size)</td>\n",
       "      <td>₹639</td>\n",
       "      <td>20% off</td>\n",
       "    </tr>\n",
       "    <tr>\n",
       "      <th>31</th>\n",
       "      <td>VINCENT CHASE</td>\n",
       "      <td>by Lenskart Polarized, UV Protection Wayfarer ...</td>\n",
       "      <td>₹1,533</td>\n",
       "      <td>38% off</td>\n",
       "    </tr>\n",
       "    <tr>\n",
       "      <th>32</th>\n",
       "      <td>kingsunglasses</td>\n",
       "      <td>UV Protection Round Sunglasses (Free Size)</td>\n",
       "      <td>₹274</td>\n",
       "      <td>82% off</td>\n",
       "    </tr>\n",
       "    <tr>\n",
       "      <th>33</th>\n",
       "      <td>Fastrack</td>\n",
       "      <td>UV Protection Round Sunglasses (52)</td>\n",
       "      <td>₹639</td>\n",
       "      <td>20% off</td>\n",
       "    </tr>\n",
       "    <tr>\n",
       "      <th>34</th>\n",
       "      <td>kingsunglasses</td>\n",
       "      <td>UV Protection Rectangular Sunglasses (Free Size)</td>\n",
       "      <td>₹172</td>\n",
       "      <td>84% off</td>\n",
       "    </tr>\n",
       "    <tr>\n",
       "      <th>35</th>\n",
       "      <td>VINCENT CHASE</td>\n",
       "      <td>by Lenskart Polarized, UV Protection Round Sun...</td>\n",
       "      <td>₹1,415</td>\n",
       "      <td>29% off</td>\n",
       "    </tr>\n",
       "    <tr>\n",
       "      <th>36</th>\n",
       "      <td>Fastrack</td>\n",
       "      <td>UV Protection Wayfarer Sunglasses (55)</td>\n",
       "      <td>₹521</td>\n",
       "      <td>34% off</td>\n",
       "    </tr>\n",
       "    <tr>\n",
       "      <th>37</th>\n",
       "      <td>Fastrack</td>\n",
       "      <td>UV Protection Aviator Sunglasses (58)</td>\n",
       "      <td>₹999</td>\n",
       "      <td>23% off</td>\n",
       "    </tr>\n",
       "    <tr>\n",
       "      <th>38</th>\n",
       "      <td>PHENOMENAL</td>\n",
       "      <td>UV Protection Retro Square Sunglasses (53)</td>\n",
       "      <td>₹265</td>\n",
       "      <td>73% off</td>\n",
       "    </tr>\n",
       "    <tr>\n",
       "      <th>39</th>\n",
       "      <td>GANSTA</td>\n",
       "      <td>UV Protection, Mirrored Wayfarer Sunglasses (53)</td>\n",
       "      <td>₹199</td>\n",
       "      <td>80% off</td>\n",
       "    </tr>\n",
       "  </tbody>\n",
       "</table>\n",
       "</div>"
      ],
      "text/plain": [
       "           Brand Name                                Product Description  \\\n",
       "0              PIRASO              UV Protection Aviator Sunglasses (55)   \n",
       "1       VINCENT CHASE  by Lenskart Polarized, UV Protection Round Sun...   \n",
       "2           Elligator                UV Protection Round Sunglasses (54)   \n",
       "3            Fastrack   UV Protection Rectangular Sunglasses (Free Size)   \n",
       "4   SHAAH COLLECTIONS  UV Protection, Polarized, Mirrored Rectangular...   \n",
       "5           New Specs   UV Protection Rectangular Sunglasses (Free Size)   \n",
       "6      kingsunglasses                UV Protection Round Sunglasses (54)   \n",
       "7            elegante          UV Protection Oval Sunglasses (Free Size)   \n",
       "8            Fastrack  Gradient, UV Protection Wayfarer Sunglasses (F...   \n",
       "9              SUNBEE  UV Protection, Polarized Wayfarer Sunglasses (...   \n",
       "10             SUNBEE  UV Protection, Polarized, Mirrored Round Sungl...   \n",
       "11       Singco India  UV Protection, Riding Glasses, Others Aviator,...   \n",
       "12               SRPM             UV Protection Wayfarer Sunglasses (50)   \n",
       "13     ROZZETTA CRAFT  Polarized, Night Vision, Riding Glasses Sports...   \n",
       "14             PIRASO              UV Protection Aviator Sunglasses (54)   \n",
       "15             PIRASO  UV Protection Rectangular, Over-sized Sunglass...   \n",
       "16         PHENOMENAL  UV Protection, Mirrored Retro Square Sunglasse...   \n",
       "17          Elligator                UV Protection Round Sunglasses (53)   \n",
       "18     ROZZETTA CRAFT  UV Protection, Gradient Rectangular Sunglasses...   \n",
       "19     ROZZETTA CRAFT       UV Protection Aviator Sunglasses (Free Size)   \n",
       "20             PIRASO             UV Protection Wayfarer Sunglasses (32)   \n",
       "21  SHAAH COLLECTIONS  UV Protection, Polarized, Mirrored Rectangular...   \n",
       "22         PHENOMENAL  UV Protection, Mirrored Retro Square Sunglasse...   \n",
       "23      VINCENT CHASE  by Lenskart Polarized, UV Protection Wayfarer ...   \n",
       "24             GANSTA              UV Protection Aviator Sunglasses (57)   \n",
       "25         PHENOMENAL  UV Protection Retro Square Sunglasses (Free Size)   \n",
       "26           Fastrack      UV Protection Wayfarer Sunglasses (Free Size)   \n",
       "27             PIRASO              UV Protection Aviator Sunglasses (58)   \n",
       "28     kingsunglasses  UV Protection, Riding Glasses, Mirrored Wayfar...   \n",
       "29              agera                   Gradient Aviator Sunglasses (55)   \n",
       "30           Fastrack      UV Protection Wayfarer Sunglasses (Free Size)   \n",
       "31      VINCENT CHASE  by Lenskart Polarized, UV Protection Wayfarer ...   \n",
       "32     kingsunglasses         UV Protection Round Sunglasses (Free Size)   \n",
       "33           Fastrack                UV Protection Round Sunglasses (52)   \n",
       "34     kingsunglasses   UV Protection Rectangular Sunglasses (Free Size)   \n",
       "35      VINCENT CHASE  by Lenskart Polarized, UV Protection Round Sun...   \n",
       "36           Fastrack             UV Protection Wayfarer Sunglasses (55)   \n",
       "37           Fastrack              UV Protection Aviator Sunglasses (58)   \n",
       "38         PHENOMENAL         UV Protection Retro Square Sunglasses (53)   \n",
       "39             GANSTA   UV Protection, Mirrored Wayfarer Sunglasses (53)   \n",
       "\n",
       "     Price Discount  \n",
       "0     ₹250  84% off  \n",
       "1   ₹1,179  41% off  \n",
       "2     ₹248  90% off  \n",
       "3     ₹639  20% off  \n",
       "4     ₹165  90% off  \n",
       "5     ₹239  88% off  \n",
       "6     ₹178  82% off  \n",
       "7     ₹389  74% off  \n",
       "8     ₹549  31% off  \n",
       "9     ₹243  81% off  \n",
       "10    ₹271  84% off  \n",
       "11    ₹203  70% off  \n",
       "12    ₹188  85% off  \n",
       "13    ₹474  76% off  \n",
       "14    ₹229  85% off  \n",
       "15    ₹325  89% off  \n",
       "16    ₹299  85% off  \n",
       "17    ₹189  87% off  \n",
       "18    ₹383  80% off  \n",
       "19    ₹616  75% off  \n",
       "20    ₹225  85% off  \n",
       "21    ₹181  81% off  \n",
       "22    ₹299  85% off  \n",
       "23  ₹1,533  38% off  \n",
       "24    ₹269  86% off  \n",
       "25    ₹309  84% off  \n",
       "26    ₹579  35% off  \n",
       "27    ₹299  88% off  \n",
       "28    ₹179  85% off  \n",
       "29    ₹196  82% off  \n",
       "30    ₹639  20% off  \n",
       "31  ₹1,533  38% off  \n",
       "32    ₹274  82% off  \n",
       "33    ₹639  20% off  \n",
       "34    ₹172  84% off  \n",
       "35  ₹1,415  29% off  \n",
       "36    ₹521  34% off  \n",
       "37    ₹999  23% off  \n",
       "38    ₹265  73% off  \n",
       "39    ₹199  80% off  "
      ]
     },
     "execution_count": 161,
     "metadata": {},
     "output_type": "execute_result"
    }
   ],
   "source": [
    "df1_40 = pd.DataFrame()\n",
    "df1_40['Brand Name'] = brand_name\n",
    "df1_40['Product Description'] = product_name\n",
    "df1_40['Price'] = price\n",
    "df1_40['Discount'] = discount\n",
    "\n",
    "df1_40"
   ]
  },
  {
   "cell_type": "code",
   "execution_count": 162,
   "id": "3ea3d056",
   "metadata": {},
   "outputs": [
    {
     "data": {
      "text/plain": [
       "<selenium.webdriver.remote.webelement.WebElement (session=\"c0c6bc87503c12b9ca02785d33d70da6\", element=\"c6a7b34b-1043-41db-9569-4cb2da15f816\")>"
      ]
     },
     "execution_count": 162,
     "metadata": {},
     "output_type": "execute_result"
    }
   ],
   "source": [
    "# clicking on next page button\n",
    "next_btn = driver.find_element_by_class_name('_1LKTO3')\n",
    "next_btn"
   ]
  },
  {
   "cell_type": "code",
   "execution_count": 163,
   "id": "1b6b4cd5",
   "metadata": {},
   "outputs": [],
   "source": [
    "next_btn.click()"
   ]
  },
  {
   "cell_type": "markdown",
   "id": "a5da5515",
   "metadata": {},
   "source": [
    "#### Making DataFrame of next 40 sunglasses from Page 2"
   ]
  },
  {
   "cell_type": "code",
   "execution_count": 164,
   "id": "11934b00",
   "metadata": {},
   "outputs": [
    {
     "data": {
      "text/plain": [
       "40"
      ]
     },
     "execution_count": 164,
     "metadata": {},
     "output_type": "execute_result"
    }
   ],
   "source": [
    "brand_tags = driver.find_elements_by_xpath('//div[@class=\"_2WkVRV\"]')\n",
    "\n",
    "brand_name = []\n",
    "\n",
    "for i in brand_tags:\n",
    "    brand_name.append(i.text)\n",
    "\n",
    "len(brand_name)"
   ]
  },
  {
   "cell_type": "code",
   "execution_count": 165,
   "id": "7080fd46",
   "metadata": {},
   "outputs": [
    {
     "data": {
      "text/plain": [
       "40"
      ]
     },
     "execution_count": 165,
     "metadata": {},
     "output_type": "execute_result"
    }
   ],
   "source": [
    "product_tags = driver.find_elements_by_xpath('//a[@class=\"IRpwTa\"]')\n",
    "\n",
    "product_name = []\n",
    "\n",
    "for i in product_tags:\n",
    "    product_name.append(i.text)\n",
    "\n",
    "len(product_name)"
   ]
  },
  {
   "cell_type": "code",
   "execution_count": 166,
   "id": "501fdc36",
   "metadata": {},
   "outputs": [
    {
     "data": {
      "text/plain": [
       "40"
      ]
     },
     "execution_count": 166,
     "metadata": {},
     "output_type": "execute_result"
    }
   ],
   "source": [
    "price_tags = driver.find_elements_by_xpath('//div[@class=\"_30jeq3\"]')\n",
    "\n",
    "price = []\n",
    "\n",
    "for i in price_tags:\n",
    "    price.append(i.text)\n",
    "\n",
    "len(price)"
   ]
  },
  {
   "cell_type": "code",
   "execution_count": 167,
   "id": "3fc2b312",
   "metadata": {},
   "outputs": [
    {
     "data": {
      "text/plain": [
       "40"
      ]
     },
     "execution_count": 167,
     "metadata": {},
     "output_type": "execute_result"
    }
   ],
   "source": [
    "discount_tags = driver.find_elements_by_xpath('//div[@class=\"_3Ay6Sb\"]')\n",
    "\n",
    "discount = []\n",
    "\n",
    "for i in discount_tags:\n",
    "    discount.append(i.text)\n",
    "\n",
    "len(discount)"
   ]
  },
  {
   "cell_type": "code",
   "execution_count": 168,
   "id": "ffeb874b",
   "metadata": {},
   "outputs": [
    {
     "data": {
      "text/html": [
       "<div>\n",
       "<style scoped>\n",
       "    .dataframe tbody tr th:only-of-type {\n",
       "        vertical-align: middle;\n",
       "    }\n",
       "\n",
       "    .dataframe tbody tr th {\n",
       "        vertical-align: top;\n",
       "    }\n",
       "\n",
       "    .dataframe thead th {\n",
       "        text-align: right;\n",
       "    }\n",
       "</style>\n",
       "<table border=\"1\" class=\"dataframe\">\n",
       "  <thead>\n",
       "    <tr style=\"text-align: right;\">\n",
       "      <th></th>\n",
       "      <th>Brand Name</th>\n",
       "      <th>Product Description</th>\n",
       "      <th>Price</th>\n",
       "      <th>Discount</th>\n",
       "    </tr>\n",
       "  </thead>\n",
       "  <tbody>\n",
       "    <tr>\n",
       "      <th>0</th>\n",
       "      <td>PHENOMENAL</td>\n",
       "      <td>UV Protection Retro Square Sunglasses (53)</td>\n",
       "      <td>₹265</td>\n",
       "      <td>73% off</td>\n",
       "    </tr>\n",
       "    <tr>\n",
       "      <th>1</th>\n",
       "      <td>Fastrack</td>\n",
       "      <td>UV Protection Wayfarer Sunglasses (Free Size)</td>\n",
       "      <td>₹579</td>\n",
       "      <td>35% off</td>\n",
       "    </tr>\n",
       "    <tr>\n",
       "      <th>2</th>\n",
       "      <td>ROYAL SON</td>\n",
       "      <td>UV Protection Rectangular Sunglasses (58)</td>\n",
       "      <td>₹449</td>\n",
       "      <td>70% off</td>\n",
       "    </tr>\n",
       "    <tr>\n",
       "      <th>3</th>\n",
       "      <td>ROZZETTA CRAFT</td>\n",
       "      <td>UV Protection Round Sunglasses (Free Size)</td>\n",
       "      <td>₹426</td>\n",
       "      <td>84% off</td>\n",
       "    </tr>\n",
       "    <tr>\n",
       "      <th>4</th>\n",
       "      <td>PIRASO</td>\n",
       "      <td>UV Protection Aviator Sunglasses (54)</td>\n",
       "      <td>₹225</td>\n",
       "      <td>85% off</td>\n",
       "    </tr>\n",
       "    <tr>\n",
       "      <th>5</th>\n",
       "      <td>Johaena</td>\n",
       "      <td>Riding Glasses, UV Protection Oval Sunglasses ...</td>\n",
       "      <td>₹146</td>\n",
       "      <td>87% off</td>\n",
       "    </tr>\n",
       "    <tr>\n",
       "      <th>6</th>\n",
       "      <td>maxa</td>\n",
       "      <td>UV Protection, Riding Glasses Rectangular, Way...</td>\n",
       "      <td>₹144</td>\n",
       "      <td>79% off</td>\n",
       "    </tr>\n",
       "    <tr>\n",
       "      <th>7</th>\n",
       "      <td>Elligator</td>\n",
       "      <td>UV Protection, Riding Glasses Rectangular, Ret...</td>\n",
       "      <td>₹276</td>\n",
       "      <td>81% off</td>\n",
       "    </tr>\n",
       "    <tr>\n",
       "      <th>8</th>\n",
       "      <td>SUNBEE</td>\n",
       "      <td>UV Protection, Polarized, Mirrored Retro Squar...</td>\n",
       "      <td>₹235</td>\n",
       "      <td>81% off</td>\n",
       "    </tr>\n",
       "    <tr>\n",
       "      <th>9</th>\n",
       "      <td>PIRASO</td>\n",
       "      <td>UV Protection Aviator Sunglasses (Free Size)</td>\n",
       "      <td>₹299</td>\n",
       "      <td>81% off</td>\n",
       "    </tr>\n",
       "    <tr>\n",
       "      <th>10</th>\n",
       "      <td>Fastrack</td>\n",
       "      <td>Polarized Retro Square Sunglasses (Free Size)</td>\n",
       "      <td>₹639</td>\n",
       "      <td>20% off</td>\n",
       "    </tr>\n",
       "    <tr>\n",
       "      <th>11</th>\n",
       "      <td>ROZZETTA CRAFT</td>\n",
       "      <td>UV Protection, Gradient Retro Square Sunglasse...</td>\n",
       "      <td>₹499</td>\n",
       "      <td>75% off</td>\n",
       "    </tr>\n",
       "    <tr>\n",
       "      <th>12</th>\n",
       "      <td>Lee Topper</td>\n",
       "      <td>UV Protection Rectangular Sunglasses (Free Size)</td>\n",
       "      <td>₹199</td>\n",
       "      <td>80% off</td>\n",
       "    </tr>\n",
       "    <tr>\n",
       "      <th>13</th>\n",
       "      <td>ROYAL SON</td>\n",
       "      <td>Mirrored Aviator Sunglasses (Free Size)</td>\n",
       "      <td>₹359</td>\n",
       "      <td>76% off</td>\n",
       "    </tr>\n",
       "    <tr>\n",
       "      <th>14</th>\n",
       "      <td>Rich Club</td>\n",
       "      <td>UV Protection Round Sunglasses (48)</td>\n",
       "      <td>₹220</td>\n",
       "      <td>72% off</td>\n",
       "    </tr>\n",
       "    <tr>\n",
       "      <th>15</th>\n",
       "      <td>Elligator</td>\n",
       "      <td>UV Protection Wayfarer Sunglasses (53)</td>\n",
       "      <td>₹247</td>\n",
       "      <td>87% off</td>\n",
       "    </tr>\n",
       "    <tr>\n",
       "      <th>16</th>\n",
       "      <td>Rich Club</td>\n",
       "      <td>Polarized Round Sunglasses (48)</td>\n",
       "      <td>₹165</td>\n",
       "      <td>66% off</td>\n",
       "    </tr>\n",
       "    <tr>\n",
       "      <th>17</th>\n",
       "      <td>PIRASO</td>\n",
       "      <td>UV Protection Aviator Sunglasses (58)</td>\n",
       "      <td>₹299</td>\n",
       "      <td>88% off</td>\n",
       "    </tr>\n",
       "    <tr>\n",
       "      <th>18</th>\n",
       "      <td>PHENOMENAL</td>\n",
       "      <td>UV Protection Clubmaster Sunglasses (Free Size)</td>\n",
       "      <td>₹289</td>\n",
       "      <td>85% off</td>\n",
       "    </tr>\n",
       "    <tr>\n",
       "      <th>19</th>\n",
       "      <td>ROZZETTA CRAFT</td>\n",
       "      <td>UV Protection, Riding Glasses Rectangular Sung...</td>\n",
       "      <td>₹426</td>\n",
       "      <td>80% off</td>\n",
       "    </tr>\n",
       "    <tr>\n",
       "      <th>20</th>\n",
       "      <td>Lee Topper</td>\n",
       "      <td>Riding Glasses Wrap-around Sunglasses (Free Size)</td>\n",
       "      <td>₹275</td>\n",
       "      <td>88% off</td>\n",
       "    </tr>\n",
       "    <tr>\n",
       "      <th>21</th>\n",
       "      <td>kingsunglasses</td>\n",
       "      <td>UV Protection, Others Round, Aviator Sunglasse...</td>\n",
       "      <td>₹174</td>\n",
       "      <td>82% off</td>\n",
       "    </tr>\n",
       "    <tr>\n",
       "      <th>22</th>\n",
       "      <td>Singco India</td>\n",
       "      <td>UV Protection, Riding Glasses, Others Aviator,...</td>\n",
       "      <td>₹203</td>\n",
       "      <td>70% off</td>\n",
       "    </tr>\n",
       "    <tr>\n",
       "      <th>23</th>\n",
       "      <td>PIRASO</td>\n",
       "      <td>UV Protection Butterfly Sunglasses (60)</td>\n",
       "      <td>₹349</td>\n",
       "      <td>86% off</td>\n",
       "    </tr>\n",
       "    <tr>\n",
       "      <th>24</th>\n",
       "      <td>Elligator</td>\n",
       "      <td>UV Protection, Gradient Aviator Sunglasses (50)</td>\n",
       "      <td>₹263</td>\n",
       "      <td>82% off</td>\n",
       "    </tr>\n",
       "    <tr>\n",
       "      <th>25</th>\n",
       "      <td>IDEE</td>\n",
       "      <td>UV Protection Cat-eye Sunglasses (17)</td>\n",
       "      <td>₹1,079</td>\n",
       "      <td>52% off</td>\n",
       "    </tr>\n",
       "    <tr>\n",
       "      <th>26</th>\n",
       "      <td>Johaena</td>\n",
       "      <td>Riding Glasses, UV Protection Oval Sunglasses ...</td>\n",
       "      <td>₹156</td>\n",
       "      <td>87% off</td>\n",
       "    </tr>\n",
       "    <tr>\n",
       "      <th>27</th>\n",
       "      <td>PIRASO</td>\n",
       "      <td>UV Protection Aviator Sunglasses (50)</td>\n",
       "      <td>₹299</td>\n",
       "      <td>81% off</td>\n",
       "    </tr>\n",
       "    <tr>\n",
       "      <th>28</th>\n",
       "      <td>hipe</td>\n",
       "      <td>Mirrored, UV Protection, Gradient Round Sungla...</td>\n",
       "      <td>₹189</td>\n",
       "      <td>87% off</td>\n",
       "    </tr>\n",
       "    <tr>\n",
       "      <th>29</th>\n",
       "      <td>SRPM</td>\n",
       "      <td>UV Protection Wayfarer Sunglasses (53)</td>\n",
       "      <td>₹207</td>\n",
       "      <td>79% off</td>\n",
       "    </tr>\n",
       "    <tr>\n",
       "      <th>30</th>\n",
       "      <td>kingsunglasses</td>\n",
       "      <td>UV Protection Round Sunglasses (Free Size)</td>\n",
       "      <td>₹170</td>\n",
       "      <td>86% off</td>\n",
       "    </tr>\n",
       "    <tr>\n",
       "      <th>31</th>\n",
       "      <td>VILLAIN</td>\n",
       "      <td>Others Wayfarer Sunglasses (Free Size)</td>\n",
       "      <td>₹522</td>\n",
       "      <td>47% off</td>\n",
       "    </tr>\n",
       "    <tr>\n",
       "      <th>32</th>\n",
       "      <td>Elligator</td>\n",
       "      <td>UV Protection Round Sunglasses (50)</td>\n",
       "      <td>₹230</td>\n",
       "      <td>88% off</td>\n",
       "    </tr>\n",
       "    <tr>\n",
       "      <th>33</th>\n",
       "      <td>Lee Topper</td>\n",
       "      <td>Riding Glasses, Night Vision Wrap-around Sungl...</td>\n",
       "      <td>₹276</td>\n",
       "      <td>88% off</td>\n",
       "    </tr>\n",
       "    <tr>\n",
       "      <th>34</th>\n",
       "      <td>Fastrack</td>\n",
       "      <td>UV Protection Shield Sunglasses (Free Size)</td>\n",
       "      <td>₹599</td>\n",
       "      <td>33% off</td>\n",
       "    </tr>\n",
       "    <tr>\n",
       "      <th>35</th>\n",
       "      <td>VINCENT CHASE</td>\n",
       "      <td>by Lenskart Polarized, UV Protection Wayfarer ...</td>\n",
       "      <td>₹1,179</td>\n",
       "      <td>41% off</td>\n",
       "    </tr>\n",
       "    <tr>\n",
       "      <th>36</th>\n",
       "      <td>PIRASO</td>\n",
       "      <td>UV Protection Butterfly Sunglasses (65)</td>\n",
       "      <td>₹349</td>\n",
       "      <td>86% off</td>\n",
       "    </tr>\n",
       "    <tr>\n",
       "      <th>37</th>\n",
       "      <td>Fastrack</td>\n",
       "      <td>UV Protection Aviator Sunglasses (Free Size)</td>\n",
       "      <td>₹619</td>\n",
       "      <td>31% off</td>\n",
       "    </tr>\n",
       "    <tr>\n",
       "      <th>38</th>\n",
       "      <td>Silver Kartz</td>\n",
       "      <td>UV Protection Aviator Sunglasses (88)</td>\n",
       "      <td>₹255</td>\n",
       "      <td>78% off</td>\n",
       "    </tr>\n",
       "    <tr>\n",
       "      <th>39</th>\n",
       "      <td>PIRASO</td>\n",
       "      <td>UV Protection Wayfarer Sunglasses (32)</td>\n",
       "      <td>₹225</td>\n",
       "      <td>85% off</td>\n",
       "    </tr>\n",
       "  </tbody>\n",
       "</table>\n",
       "</div>"
      ],
      "text/plain": [
       "        Brand Name                                Product Description   Price  \\\n",
       "0       PHENOMENAL         UV Protection Retro Square Sunglasses (53)    ₹265   \n",
       "1         Fastrack      UV Protection Wayfarer Sunglasses (Free Size)    ₹579   \n",
       "2        ROYAL SON          UV Protection Rectangular Sunglasses (58)    ₹449   \n",
       "3   ROZZETTA CRAFT         UV Protection Round Sunglasses (Free Size)    ₹426   \n",
       "4           PIRASO              UV Protection Aviator Sunglasses (54)    ₹225   \n",
       "5          Johaena  Riding Glasses, UV Protection Oval Sunglasses ...    ₹146   \n",
       "6             maxa  UV Protection, Riding Glasses Rectangular, Way...    ₹144   \n",
       "7        Elligator  UV Protection, Riding Glasses Rectangular, Ret...    ₹276   \n",
       "8           SUNBEE  UV Protection, Polarized, Mirrored Retro Squar...    ₹235   \n",
       "9           PIRASO       UV Protection Aviator Sunglasses (Free Size)    ₹299   \n",
       "10        Fastrack      Polarized Retro Square Sunglasses (Free Size)    ₹639   \n",
       "11  ROZZETTA CRAFT  UV Protection, Gradient Retro Square Sunglasse...    ₹499   \n",
       "12      Lee Topper   UV Protection Rectangular Sunglasses (Free Size)    ₹199   \n",
       "13       ROYAL SON            Mirrored Aviator Sunglasses (Free Size)    ₹359   \n",
       "14       Rich Club                UV Protection Round Sunglasses (48)    ₹220   \n",
       "15       Elligator             UV Protection Wayfarer Sunglasses (53)    ₹247   \n",
       "16       Rich Club                    Polarized Round Sunglasses (48)    ₹165   \n",
       "17          PIRASO              UV Protection Aviator Sunglasses (58)    ₹299   \n",
       "18      PHENOMENAL    UV Protection Clubmaster Sunglasses (Free Size)    ₹289   \n",
       "19  ROZZETTA CRAFT  UV Protection, Riding Glasses Rectangular Sung...    ₹426   \n",
       "20      Lee Topper  Riding Glasses Wrap-around Sunglasses (Free Size)    ₹275   \n",
       "21  kingsunglasses  UV Protection, Others Round, Aviator Sunglasse...    ₹174   \n",
       "22    Singco India  UV Protection, Riding Glasses, Others Aviator,...    ₹203   \n",
       "23          PIRASO            UV Protection Butterfly Sunglasses (60)    ₹349   \n",
       "24       Elligator    UV Protection, Gradient Aviator Sunglasses (50)    ₹263   \n",
       "25            IDEE              UV Protection Cat-eye Sunglasses (17)  ₹1,079   \n",
       "26         Johaena  Riding Glasses, UV Protection Oval Sunglasses ...    ₹156   \n",
       "27          PIRASO              UV Protection Aviator Sunglasses (50)    ₹299   \n",
       "28            hipe  Mirrored, UV Protection, Gradient Round Sungla...    ₹189   \n",
       "29            SRPM             UV Protection Wayfarer Sunglasses (53)    ₹207   \n",
       "30  kingsunglasses         UV Protection Round Sunglasses (Free Size)    ₹170   \n",
       "31         VILLAIN             Others Wayfarer Sunglasses (Free Size)    ₹522   \n",
       "32       Elligator                UV Protection Round Sunglasses (50)    ₹230   \n",
       "33      Lee Topper  Riding Glasses, Night Vision Wrap-around Sungl...    ₹276   \n",
       "34        Fastrack        UV Protection Shield Sunglasses (Free Size)    ₹599   \n",
       "35   VINCENT CHASE  by Lenskart Polarized, UV Protection Wayfarer ...  ₹1,179   \n",
       "36          PIRASO            UV Protection Butterfly Sunglasses (65)    ₹349   \n",
       "37        Fastrack       UV Protection Aviator Sunglasses (Free Size)    ₹619   \n",
       "38    Silver Kartz              UV Protection Aviator Sunglasses (88)    ₹255   \n",
       "39          PIRASO             UV Protection Wayfarer Sunglasses (32)    ₹225   \n",
       "\n",
       "   Discount  \n",
       "0   73% off  \n",
       "1   35% off  \n",
       "2   70% off  \n",
       "3   84% off  \n",
       "4   85% off  \n",
       "5   87% off  \n",
       "6   79% off  \n",
       "7   81% off  \n",
       "8   81% off  \n",
       "9   81% off  \n",
       "10  20% off  \n",
       "11  75% off  \n",
       "12  80% off  \n",
       "13  76% off  \n",
       "14  72% off  \n",
       "15  87% off  \n",
       "16  66% off  \n",
       "17  88% off  \n",
       "18  85% off  \n",
       "19  80% off  \n",
       "20  88% off  \n",
       "21  82% off  \n",
       "22  70% off  \n",
       "23  86% off  \n",
       "24  82% off  \n",
       "25  52% off  \n",
       "26  87% off  \n",
       "27  81% off  \n",
       "28  87% off  \n",
       "29  79% off  \n",
       "30  86% off  \n",
       "31  47% off  \n",
       "32  88% off  \n",
       "33  88% off  \n",
       "34  33% off  \n",
       "35  41% off  \n",
       "36  86% off  \n",
       "37  31% off  \n",
       "38  78% off  \n",
       "39  85% off  "
      ]
     },
     "execution_count": 168,
     "metadata": {},
     "output_type": "execute_result"
    }
   ],
   "source": [
    "df41_80 = pd.DataFrame()\n",
    "df41_80['Brand Name'] = brand_name\n",
    "df41_80['Product Description'] = product_name\n",
    "df41_80['Price'] = price\n",
    "df41_80['Discount'] = discount\n",
    "\n",
    "df41_80"
   ]
  },
  {
   "cell_type": "code",
   "execution_count": 169,
   "id": "f14eb932",
   "metadata": {},
   "outputs": [
    {
     "data": {
      "text/plain": [
       "<selenium.webdriver.remote.webelement.WebElement (session=\"c0c6bc87503c12b9ca02785d33d70da6\", element=\"c6a7b34b-1043-41db-9569-4cb2da15f816\")>"
      ]
     },
     "execution_count": 169,
     "metadata": {},
     "output_type": "execute_result"
    }
   ],
   "source": [
    "# clicking on next page button\n",
    "next_btn = driver.find_element_by_xpath('/html/body/div/div/div[3]/div[1]/div[2]/div[12]/div/div/nav/a[12]')\n",
    "next_btn"
   ]
  },
  {
   "cell_type": "code",
   "execution_count": 170,
   "id": "6960bf37",
   "metadata": {},
   "outputs": [],
   "source": [
    "next_btn.click()"
   ]
  },
  {
   "cell_type": "markdown",
   "id": "a289e8f0",
   "metadata": {},
   "source": [
    "#### Making DataFrame of next 20 sunglasses from Page 3"
   ]
  },
  {
   "cell_type": "code",
   "execution_count": 171,
   "id": "cb873013",
   "metadata": {},
   "outputs": [
    {
     "data": {
      "text/plain": [
       "20"
      ]
     },
     "execution_count": 171,
     "metadata": {},
     "output_type": "execute_result"
    }
   ],
   "source": [
    "brand_tags = driver.find_elements_by_xpath('//div[@class=\"_2WkVRV\"]')[0:20]\n",
    "\n",
    "brand_name = []\n",
    "\n",
    "for i in brand_tags:\n",
    "    brand_name.append(i.text)\n",
    "\n",
    "len(brand_name)"
   ]
  },
  {
   "cell_type": "code",
   "execution_count": 172,
   "id": "de0826de",
   "metadata": {},
   "outputs": [
    {
     "data": {
      "text/plain": [
       "20"
      ]
     },
     "execution_count": 172,
     "metadata": {},
     "output_type": "execute_result"
    }
   ],
   "source": [
    "product_tags = driver.find_elements_by_xpath('//a[@class=\"IRpwTa\"]')[0:20]\n",
    "\n",
    "product_name = []\n",
    "\n",
    "for i in product_tags:\n",
    "    product_name.append(i.text)\n",
    "\n",
    "len(product_name)"
   ]
  },
  {
   "cell_type": "code",
   "execution_count": 173,
   "id": "2eb0c303",
   "metadata": {},
   "outputs": [
    {
     "data": {
      "text/plain": [
       "20"
      ]
     },
     "execution_count": 173,
     "metadata": {},
     "output_type": "execute_result"
    }
   ],
   "source": [
    "price_tags = driver.find_elements_by_xpath('//div[@class=\"_30jeq3\"]')[0:20]\n",
    "\n",
    "price = []\n",
    "\n",
    "for i in price_tags:\n",
    "    price.append(i.text)\n",
    "\n",
    "len(price)"
   ]
  },
  {
   "cell_type": "code",
   "execution_count": 174,
   "id": "ae3438fd",
   "metadata": {},
   "outputs": [
    {
     "data": {
      "text/plain": [
       "20"
      ]
     },
     "execution_count": 174,
     "metadata": {},
     "output_type": "execute_result"
    }
   ],
   "source": [
    "discount_tags = driver.find_elements_by_xpath('//div[@class=\"_3Ay6Sb\"]')[0:20]\n",
    "\n",
    "discount = []\n",
    "\n",
    "for i in discount_tags:\n",
    "    discount.append(i.text)\n",
    "\n",
    "len(discount)"
   ]
  },
  {
   "cell_type": "code",
   "execution_count": 176,
   "id": "689c6ac8",
   "metadata": {},
   "outputs": [
    {
     "data": {
      "text/html": [
       "<div>\n",
       "<style scoped>\n",
       "    .dataframe tbody tr th:only-of-type {\n",
       "        vertical-align: middle;\n",
       "    }\n",
       "\n",
       "    .dataframe tbody tr th {\n",
       "        vertical-align: top;\n",
       "    }\n",
       "\n",
       "    .dataframe thead th {\n",
       "        text-align: right;\n",
       "    }\n",
       "</style>\n",
       "<table border=\"1\" class=\"dataframe\">\n",
       "  <thead>\n",
       "    <tr style=\"text-align: right;\">\n",
       "      <th></th>\n",
       "      <th>Brand Name</th>\n",
       "      <th>Product Description</th>\n",
       "      <th>Price</th>\n",
       "      <th>Discount</th>\n",
       "    </tr>\n",
       "  </thead>\n",
       "  <tbody>\n",
       "    <tr>\n",
       "      <th>0</th>\n",
       "      <td>New Specs</td>\n",
       "      <td>UV Protection Round Sunglasses (Free Size)</td>\n",
       "      <td>₹232</td>\n",
       "      <td>82% off</td>\n",
       "    </tr>\n",
       "    <tr>\n",
       "      <th>1</th>\n",
       "      <td>New Specs</td>\n",
       "      <td>Mirrored, UV Protection, Riding Glasses, Other...</td>\n",
       "      <td>₹259</td>\n",
       "      <td>81% off</td>\n",
       "    </tr>\n",
       "    <tr>\n",
       "      <th>2</th>\n",
       "      <td>Singco India</td>\n",
       "      <td>Riding Glasses, UV Protection, Others Aviator ...</td>\n",
       "      <td>₹249</td>\n",
       "      <td>83% off</td>\n",
       "    </tr>\n",
       "    <tr>\n",
       "      <th>3</th>\n",
       "      <td>chawla fashion</td>\n",
       "      <td>UV Protection Retro Square Sunglasses (Free Size)</td>\n",
       "      <td>₹185</td>\n",
       "      <td>81% off</td>\n",
       "    </tr>\n",
       "    <tr>\n",
       "      <th>4</th>\n",
       "      <td>ROZZETTA CRAFT</td>\n",
       "      <td>UV Protection, Mirrored Clubmaster Sunglasses ...</td>\n",
       "      <td>₹474</td>\n",
       "      <td>78% off</td>\n",
       "    </tr>\n",
       "    <tr>\n",
       "      <th>5</th>\n",
       "      <td>PHENOMENAL</td>\n",
       "      <td>UV Protection Wayfarer Sunglasses (53)</td>\n",
       "      <td>₹289</td>\n",
       "      <td>85% off</td>\n",
       "    </tr>\n",
       "    <tr>\n",
       "      <th>6</th>\n",
       "      <td>Elligator</td>\n",
       "      <td>UV Protection, Night Vision, Riding Glasses Av...</td>\n",
       "      <td>₹167</td>\n",
       "      <td>88% off</td>\n",
       "    </tr>\n",
       "    <tr>\n",
       "      <th>7</th>\n",
       "      <td>GANSTA</td>\n",
       "      <td>Night Vision, UV Protection Round Sunglasses (54)</td>\n",
       "      <td>₹264</td>\n",
       "      <td>86% off</td>\n",
       "    </tr>\n",
       "    <tr>\n",
       "      <th>8</th>\n",
       "      <td>SRPM</td>\n",
       "      <td>Mirrored, UV Protection Wayfarer Sunglasses (F...</td>\n",
       "      <td>₹199</td>\n",
       "      <td>80% off</td>\n",
       "    </tr>\n",
       "    <tr>\n",
       "      <th>9</th>\n",
       "      <td>kingsunglasses</td>\n",
       "      <td>UV Protection Rectangular Sunglasses (55)</td>\n",
       "      <td>₹229</td>\n",
       "      <td>88% off</td>\n",
       "    </tr>\n",
       "    <tr>\n",
       "      <th>10</th>\n",
       "      <td>kingsunglasses</td>\n",
       "      <td>UV Protection, Gradient Butterfly Sunglasses (60)</td>\n",
       "      <td>₹159</td>\n",
       "      <td>87% off</td>\n",
       "    </tr>\n",
       "    <tr>\n",
       "      <th>11</th>\n",
       "      <td>ROYAL SON</td>\n",
       "      <td>UV Protection, Gradient Butterfly, Retro Squar...</td>\n",
       "      <td>₹664</td>\n",
       "      <td>66% off</td>\n",
       "    </tr>\n",
       "    <tr>\n",
       "      <th>12</th>\n",
       "      <td>AISLIN</td>\n",
       "      <td>UV Protection Oval Sunglasses (56)</td>\n",
       "      <td>₹468</td>\n",
       "      <td>78% off</td>\n",
       "    </tr>\n",
       "    <tr>\n",
       "      <th>13</th>\n",
       "      <td>Silver Kartz</td>\n",
       "      <td>UV Protection Round Sunglasses (Free Size)</td>\n",
       "      <td>₹284</td>\n",
       "      <td>76% off</td>\n",
       "    </tr>\n",
       "    <tr>\n",
       "      <th>14</th>\n",
       "      <td>kingsunglasses</td>\n",
       "      <td>UV Protection Rectangular Sunglasses (54)</td>\n",
       "      <td>₹279</td>\n",
       "      <td>82% off</td>\n",
       "    </tr>\n",
       "    <tr>\n",
       "      <th>15</th>\n",
       "      <td>GANSTA</td>\n",
       "      <td>UV Protection Wayfarer Sunglasses (Free Size)</td>\n",
       "      <td>₹206</td>\n",
       "      <td>84% off</td>\n",
       "    </tr>\n",
       "    <tr>\n",
       "      <th>16</th>\n",
       "      <td>Poloport</td>\n",
       "      <td>Mirrored Aviator Sunglasses (55)</td>\n",
       "      <td>₹236</td>\n",
       "      <td>87% off</td>\n",
       "    </tr>\n",
       "    <tr>\n",
       "      <th>17</th>\n",
       "      <td>ROYAL SON</td>\n",
       "      <td>Gradient, Toughened Glass Lens, UV Protection ...</td>\n",
       "      <td>₹359</td>\n",
       "      <td>76% off</td>\n",
       "    </tr>\n",
       "    <tr>\n",
       "      <th>18</th>\n",
       "      <td>Singco India</td>\n",
       "      <td>UV Protection Retro Square, Round Sunglasses (54)</td>\n",
       "      <td>₹664</td>\n",
       "      <td>77% off</td>\n",
       "    </tr>\n",
       "    <tr>\n",
       "      <th>19</th>\n",
       "      <td>VILLAIN</td>\n",
       "      <td>UV Protection Rectangular Sunglasses (Free Size)</td>\n",
       "      <td>₹1,099</td>\n",
       "      <td>37% off</td>\n",
       "    </tr>\n",
       "  </tbody>\n",
       "</table>\n",
       "</div>"
      ],
      "text/plain": [
       "        Brand Name                                Product Description   Price  \\\n",
       "0        New Specs         UV Protection Round Sunglasses (Free Size)    ₹232   \n",
       "1        New Specs  Mirrored, UV Protection, Riding Glasses, Other...    ₹259   \n",
       "2     Singco India  Riding Glasses, UV Protection, Others Aviator ...    ₹249   \n",
       "3   chawla fashion  UV Protection Retro Square Sunglasses (Free Size)    ₹185   \n",
       "4   ROZZETTA CRAFT  UV Protection, Mirrored Clubmaster Sunglasses ...    ₹474   \n",
       "5       PHENOMENAL             UV Protection Wayfarer Sunglasses (53)    ₹289   \n",
       "6        Elligator  UV Protection, Night Vision, Riding Glasses Av...    ₹167   \n",
       "7           GANSTA  Night Vision, UV Protection Round Sunglasses (54)    ₹264   \n",
       "8             SRPM  Mirrored, UV Protection Wayfarer Sunglasses (F...    ₹199   \n",
       "9   kingsunglasses          UV Protection Rectangular Sunglasses (55)    ₹229   \n",
       "10  kingsunglasses  UV Protection, Gradient Butterfly Sunglasses (60)    ₹159   \n",
       "11       ROYAL SON  UV Protection, Gradient Butterfly, Retro Squar...    ₹664   \n",
       "12          AISLIN                 UV Protection Oval Sunglasses (56)    ₹468   \n",
       "13    Silver Kartz         UV Protection Round Sunglasses (Free Size)    ₹284   \n",
       "14  kingsunglasses          UV Protection Rectangular Sunglasses (54)    ₹279   \n",
       "15          GANSTA      UV Protection Wayfarer Sunglasses (Free Size)    ₹206   \n",
       "16        Poloport                   Mirrored Aviator Sunglasses (55)    ₹236   \n",
       "17       ROYAL SON  Gradient, Toughened Glass Lens, UV Protection ...    ₹359   \n",
       "18    Singco India  UV Protection Retro Square, Round Sunglasses (54)    ₹664   \n",
       "19         VILLAIN   UV Protection Rectangular Sunglasses (Free Size)  ₹1,099   \n",
       "\n",
       "   Discount  \n",
       "0   82% off  \n",
       "1   81% off  \n",
       "2   83% off  \n",
       "3   81% off  \n",
       "4   78% off  \n",
       "5   85% off  \n",
       "6   88% off  \n",
       "7   86% off  \n",
       "8   80% off  \n",
       "9   88% off  \n",
       "10  87% off  \n",
       "11  66% off  \n",
       "12  78% off  \n",
       "13  76% off  \n",
       "14  82% off  \n",
       "15  84% off  \n",
       "16  87% off  \n",
       "17  76% off  \n",
       "18  77% off  \n",
       "19  37% off  "
      ]
     },
     "execution_count": 176,
     "metadata": {},
     "output_type": "execute_result"
    }
   ],
   "source": [
    "df81_100 = pd.DataFrame()\n",
    "df81_100['Brand Name'] = brand_name\n",
    "df81_100['Product Description'] = product_name\n",
    "df81_100['Price'] = price\n",
    "df81_100['Discount'] = discount\n",
    "\n",
    "df81_100"
   ]
  },
  {
   "cell_type": "markdown",
   "id": "a8ca776d",
   "metadata": {},
   "source": [
    "### Merging the 3 DataFrames into a single combined DataFrame"
   ]
  },
  {
   "cell_type": "code",
   "execution_count": 178,
   "id": "fa46efd1",
   "metadata": {},
   "outputs": [
    {
     "data": {
      "text/html": [
       "<div>\n",
       "<style scoped>\n",
       "    .dataframe tbody tr th:only-of-type {\n",
       "        vertical-align: middle;\n",
       "    }\n",
       "\n",
       "    .dataframe tbody tr th {\n",
       "        vertical-align: top;\n",
       "    }\n",
       "\n",
       "    .dataframe thead th {\n",
       "        text-align: right;\n",
       "    }\n",
       "</style>\n",
       "<table border=\"1\" class=\"dataframe\">\n",
       "  <thead>\n",
       "    <tr style=\"text-align: right;\">\n",
       "      <th></th>\n",
       "      <th>Brand Name</th>\n",
       "      <th>Product Description</th>\n",
       "      <th>Price</th>\n",
       "      <th>Discount</th>\n",
       "    </tr>\n",
       "  </thead>\n",
       "  <tbody>\n",
       "    <tr>\n",
       "      <th>0</th>\n",
       "      <td>PIRASO</td>\n",
       "      <td>UV Protection Aviator Sunglasses (55)</td>\n",
       "      <td>₹250</td>\n",
       "      <td>84% off</td>\n",
       "    </tr>\n",
       "    <tr>\n",
       "      <th>1</th>\n",
       "      <td>VINCENT CHASE</td>\n",
       "      <td>by Lenskart Polarized, UV Protection Round Sun...</td>\n",
       "      <td>₹1,179</td>\n",
       "      <td>41% off</td>\n",
       "    </tr>\n",
       "    <tr>\n",
       "      <th>2</th>\n",
       "      <td>Elligator</td>\n",
       "      <td>UV Protection Round Sunglasses (54)</td>\n",
       "      <td>₹248</td>\n",
       "      <td>90% off</td>\n",
       "    </tr>\n",
       "    <tr>\n",
       "      <th>3</th>\n",
       "      <td>Fastrack</td>\n",
       "      <td>UV Protection Rectangular Sunglasses (Free Size)</td>\n",
       "      <td>₹639</td>\n",
       "      <td>20% off</td>\n",
       "    </tr>\n",
       "    <tr>\n",
       "      <th>4</th>\n",
       "      <td>SHAAH COLLECTIONS</td>\n",
       "      <td>UV Protection, Polarized, Mirrored Rectangular...</td>\n",
       "      <td>₹165</td>\n",
       "      <td>90% off</td>\n",
       "    </tr>\n",
       "    <tr>\n",
       "      <th>...</th>\n",
       "      <td>...</td>\n",
       "      <td>...</td>\n",
       "      <td>...</td>\n",
       "      <td>...</td>\n",
       "    </tr>\n",
       "    <tr>\n",
       "      <th>95</th>\n",
       "      <td>GANSTA</td>\n",
       "      <td>UV Protection Wayfarer Sunglasses (Free Size)</td>\n",
       "      <td>₹206</td>\n",
       "      <td>84% off</td>\n",
       "    </tr>\n",
       "    <tr>\n",
       "      <th>96</th>\n",
       "      <td>Poloport</td>\n",
       "      <td>Mirrored Aviator Sunglasses (55)</td>\n",
       "      <td>₹236</td>\n",
       "      <td>87% off</td>\n",
       "    </tr>\n",
       "    <tr>\n",
       "      <th>97</th>\n",
       "      <td>ROYAL SON</td>\n",
       "      <td>Gradient, Toughened Glass Lens, UV Protection ...</td>\n",
       "      <td>₹359</td>\n",
       "      <td>76% off</td>\n",
       "    </tr>\n",
       "    <tr>\n",
       "      <th>98</th>\n",
       "      <td>Singco India</td>\n",
       "      <td>UV Protection Retro Square, Round Sunglasses (54)</td>\n",
       "      <td>₹664</td>\n",
       "      <td>77% off</td>\n",
       "    </tr>\n",
       "    <tr>\n",
       "      <th>99</th>\n",
       "      <td>VILLAIN</td>\n",
       "      <td>UV Protection Rectangular Sunglasses (Free Size)</td>\n",
       "      <td>₹1,099</td>\n",
       "      <td>37% off</td>\n",
       "    </tr>\n",
       "  </tbody>\n",
       "</table>\n",
       "<p>100 rows × 4 columns</p>\n",
       "</div>"
      ],
      "text/plain": [
       "           Brand Name                                Product Description  \\\n",
       "0              PIRASO              UV Protection Aviator Sunglasses (55)   \n",
       "1       VINCENT CHASE  by Lenskart Polarized, UV Protection Round Sun...   \n",
       "2           Elligator                UV Protection Round Sunglasses (54)   \n",
       "3            Fastrack   UV Protection Rectangular Sunglasses (Free Size)   \n",
       "4   SHAAH COLLECTIONS  UV Protection, Polarized, Mirrored Rectangular...   \n",
       "..                ...                                                ...   \n",
       "95             GANSTA      UV Protection Wayfarer Sunglasses (Free Size)   \n",
       "96           Poloport                   Mirrored Aviator Sunglasses (55)   \n",
       "97          ROYAL SON  Gradient, Toughened Glass Lens, UV Protection ...   \n",
       "98       Singco India  UV Protection Retro Square, Round Sunglasses (54)   \n",
       "99            VILLAIN   UV Protection Rectangular Sunglasses (Free Size)   \n",
       "\n",
       "     Price Discount  \n",
       "0     ₹250  84% off  \n",
       "1   ₹1,179  41% off  \n",
       "2     ₹248  90% off  \n",
       "3     ₹639  20% off  \n",
       "4     ₹165  90% off  \n",
       "..     ...      ...  \n",
       "95    ₹206  84% off  \n",
       "96    ₹236  87% off  \n",
       "97    ₹359  76% off  \n",
       "98    ₹664  77% off  \n",
       "99  ₹1,099  37% off  \n",
       "\n",
       "[100 rows x 4 columns]"
      ]
     },
     "execution_count": 178,
     "metadata": {},
     "output_type": "execute_result"
    }
   ],
   "source": [
    "sunglasses = pd.concat([df1_40,df41_80,df81_100],ignore_index=True)\n",
    "sunglasses"
   ]
  },
  {
   "cell_type": "code",
   "execution_count": 179,
   "id": "7e0f3e81",
   "metadata": {},
   "outputs": [],
   "source": [
    "file_name = 'Database of 100 sunglasses from Flipkart.xlsx'"
   ]
  },
  {
   "cell_type": "code",
   "execution_count": 180,
   "id": "7f9adaf9",
   "metadata": {},
   "outputs": [
    {
     "name": "stdout",
     "output_type": "stream",
     "text": [
      "DataFrame is written to Excel File successfully.\n"
     ]
    }
   ],
   "source": [
    "sunglasses.to_excel(file_name)\n",
    "print('DataFrame is written to Excel File successfully.')"
   ]
  },
  {
   "cell_type": "markdown",
   "id": "2d3e8f52",
   "metadata": {},
   "source": [
    "# Q5 Scrape 100 reviews data from flipkart.com for iphone11 phone"
   ]
  },
  {
   "cell_type": "code",
   "execution_count": 5,
   "id": "cfcab93c",
   "metadata": {},
   "outputs": [],
   "source": [
    "driver = webdriver.Chrome(r'C:\\Users\\Anuradha\\Downloads\\chromedriver.exe')\n",
    "url = 'https://www.flipkart.com/apple-iphone-11-black-64-gb-includes-earpods-power-adapter/p/itm0f37c2240b217?pid=MOBFKCTSVZAXUHGR&lid=LSTMOBFKC' \n",
    "driver.get(url)"
   ]
  },
  {
   "cell_type": "code",
   "execution_count": 6,
   "id": "e987be4c",
   "metadata": {},
   "outputs": [],
   "source": [
    "viewall = driver.find_element_by_xpath('/html/body/div[1]/div/div[3]/div[1]/div[2]/div[9]/div/div/div[5]/div/a/div/span')\n",
    "viewall.click()"
   ]
  },
  {
   "cell_type": "code",
   "execution_count": 7,
   "id": "f2fcbe87",
   "metadata": {},
   "outputs": [],
   "source": [
    "rev_sum = []\n",
    "rating = []\n",
    "rev = []"
   ]
  },
  {
   "cell_type": "code",
   "execution_count": 8,
   "id": "8c450f1e",
   "metadata": {},
   "outputs": [],
   "source": [
    "    rev_sum_tag = driver.find_elements_by_xpath(\"//p[@class='_2-N8zT']\")\n",
    "    rating_tag = driver.find_elements_by_xpath(\"//div[@class='_3LWZlK _1BLPMq']\")\n",
    "    rev_tag = driver.find_elements_by_xpath(\"//div[@class='t-ZTKy']\")\n",
    "    \n",
    "\n",
    "    for r in rev_sum_tag:\n",
    "        rev_sum.append(r.text)\n",
    "    for j in rating_tag :\n",
    "        rating.append(j.text)\n",
    "    for k in rev_tag:\n",
    "        rev.append(k.text.replace(\"\\n\",\" \"))"
   ]
  },
  {
   "cell_type": "code",
   "execution_count": 9,
   "id": "877eb4f6",
   "metadata": {},
   "outputs": [],
   "source": [
    "import time "
   ]
  },
  {
   "cell_type": "code",
   "execution_count": 11,
   "id": "fbe7d66a",
   "metadata": {},
   "outputs": [],
   "source": [
    "i=0\n",
    "nextbtn = driver.find_element_by_class_name('_1LKTO3')\n",
    "while(i<10):\n",
    "    try:\n",
    "        nextbtn.click()\n",
    "    except:\n",
    "        pass\n",
    "    \n",
    "    time.sleep(3) #to allow the page to load completely before scraping.\n",
    "    rev_sum_tag = driver.find_elements_by_xpath(\"//p[@class='_2-N8zT']\")\n",
    "    rating_tag = driver.find_elements_by_xpath(\"//div[@class='_3LWZlK _1BLPMq']\")\n",
    "    rev_tag = driver.find_elements_by_xpath(\"//div[@class='t-ZTKy']\")\n",
    "    for r in rev_sum_tag:\n",
    "        try:\n",
    "            rev_sum.append(r.text)\n",
    "        except:\n",
    "            pass\n",
    "    for j in rating_tag :\n",
    "        try:\n",
    "            rating.append(j.text)\n",
    "        except:\n",
    "            pass\n",
    "    for k in rev_tag:\n",
    "        try:\n",
    "            rev.append(k.text.replace(\"\\n\",\" \"))\n",
    "        except:\n",
    "            pass\n",
    "\n",
    "    \n",
    "    \n",
    "    \n",
    "    i=i+1\n",
    "    "
   ]
  },
  {
   "cell_type": "code",
   "execution_count": 12,
   "id": "8c4c6b88",
   "metadata": {},
   "outputs": [
    {
     "data": {
      "text/plain": [
       "(100, 3)"
      ]
     },
     "execution_count": 12,
     "metadata": {},
     "output_type": "execute_result"
    }
   ],
   "source": [
    "iphoneDF = pd.DataFrame({\"Summary\":rev_sum[0:100],\"Full Review\":rev[0:100],\"Rating\":rating[0:100]})\n",
    "iphoneDF.reset_index(drop=True,inplace = True)\n",
    "iphoneDF.index+= 1\n",
    "iphoneDF.shape"
   ]
  },
  {
   "cell_type": "code",
   "execution_count": 13,
   "id": "cc4fe550",
   "metadata": {},
   "outputs": [
    {
     "data": {
      "text/html": [
       "<div>\n",
       "<style scoped>\n",
       "    .dataframe tbody tr th:only-of-type {\n",
       "        vertical-align: middle;\n",
       "    }\n",
       "\n",
       "    .dataframe tbody tr th {\n",
       "        vertical-align: top;\n",
       "    }\n",
       "\n",
       "    .dataframe thead th {\n",
       "        text-align: right;\n",
       "    }\n",
       "</style>\n",
       "<table border=\"1\" class=\"dataframe\">\n",
       "  <thead>\n",
       "    <tr style=\"text-align: right;\">\n",
       "      <th></th>\n",
       "      <th>Summary</th>\n",
       "      <th>Full Review</th>\n",
       "      <th>Rating</th>\n",
       "    </tr>\n",
       "  </thead>\n",
       "  <tbody>\n",
       "    <tr>\n",
       "      <th>1</th>\n",
       "      <td>Brilliant</td>\n",
       "      <td>The Best Phone for the Money  The iPhone 11 of...</td>\n",
       "      <td>5</td>\n",
       "    </tr>\n",
       "    <tr>\n",
       "      <th>2</th>\n",
       "      <td>Simply awesome</td>\n",
       "      <td>Really satisfied with the Product I received.....</td>\n",
       "      <td>5</td>\n",
       "    </tr>\n",
       "    <tr>\n",
       "      <th>3</th>\n",
       "      <td>Best in the market!</td>\n",
       "      <td>Great iPhone very snappy experience as apple k...</td>\n",
       "      <td>5</td>\n",
       "    </tr>\n",
       "    <tr>\n",
       "      <th>4</th>\n",
       "      <td>Perfect product!</td>\n",
       "      <td>Amazing phone with great cameras and better ba...</td>\n",
       "      <td>5</td>\n",
       "    </tr>\n",
       "    <tr>\n",
       "      <th>5</th>\n",
       "      <td>Fabulous!</td>\n",
       "      <td>This is my first iOS phone. I am very happy wi...</td>\n",
       "      <td>5</td>\n",
       "    </tr>\n",
       "    <tr>\n",
       "      <th>...</th>\n",
       "      <td>...</td>\n",
       "      <td>...</td>\n",
       "      <td>...</td>\n",
       "    </tr>\n",
       "    <tr>\n",
       "      <th>96</th>\n",
       "      <td>Worth every penny</td>\n",
       "      <td>Best budget Iphone till date ❤️ go for it guys...</td>\n",
       "      <td>5</td>\n",
       "    </tr>\n",
       "    <tr>\n",
       "      <th>97</th>\n",
       "      <td>Classy product</td>\n",
       "      <td>Totally in love with this ❤ the camera quality...</td>\n",
       "      <td>5</td>\n",
       "    </tr>\n",
       "    <tr>\n",
       "      <th>98</th>\n",
       "      <td>Worth every penny</td>\n",
       "      <td>Smooth like butter, camera like fantabulous, s...</td>\n",
       "      <td>5</td>\n",
       "    </tr>\n",
       "    <tr>\n",
       "      <th>99</th>\n",
       "      <td>Worth every penny</td>\n",
       "      <td>It’s been almost a month since I have been usi...</td>\n",
       "      <td>5</td>\n",
       "    </tr>\n",
       "    <tr>\n",
       "      <th>100</th>\n",
       "      <td>Nice product</td>\n",
       "      <td>Awesome Phone. Slightly high price but worth. ...</td>\n",
       "      <td>4</td>\n",
       "    </tr>\n",
       "  </tbody>\n",
       "</table>\n",
       "<p>100 rows × 3 columns</p>\n",
       "</div>"
      ],
      "text/plain": [
       "                 Summary                                        Full Review  \\\n",
       "1              Brilliant  The Best Phone for the Money  The iPhone 11 of...   \n",
       "2         Simply awesome  Really satisfied with the Product I received.....   \n",
       "3    Best in the market!  Great iPhone very snappy experience as apple k...   \n",
       "4       Perfect product!  Amazing phone with great cameras and better ba...   \n",
       "5              Fabulous!  This is my first iOS phone. I am very happy wi...   \n",
       "..                   ...                                                ...   \n",
       "96     Worth every penny  Best budget Iphone till date ❤️ go for it guys...   \n",
       "97        Classy product  Totally in love with this ❤ the camera quality...   \n",
       "98     Worth every penny  Smooth like butter, camera like fantabulous, s...   \n",
       "99     Worth every penny  It’s been almost a month since I have been usi...   \n",
       "100         Nice product  Awesome Phone. Slightly high price but worth. ...   \n",
       "\n",
       "    Rating  \n",
       "1        5  \n",
       "2        5  \n",
       "3        5  \n",
       "4        5  \n",
       "5        5  \n",
       "..     ...  \n",
       "96       5  \n",
       "97       5  \n",
       "98       5  \n",
       "99       5  \n",
       "100      4  \n",
       "\n",
       "[100 rows x 3 columns]"
      ]
     },
     "execution_count": 13,
     "metadata": {},
     "output_type": "execute_result"
    }
   ],
   "source": [
    "iphoneDF"
   ]
  },
  {
   "cell_type": "markdown",
   "id": "bbc273dc",
   "metadata": {},
   "source": [
    "# Scrape data for first 100 sneakers you find when you visit flipkart.com andsearch for “sneakers” in the search field.\n",
    "You have to scrape 4 attributes of each sneaker:\n",
    "1. Brand\n",
    "2. Product Description\n",
    "3. Price\n",
    "4. Discount"
   ]
  },
  {
   "cell_type": "code",
   "execution_count": 55,
   "id": "d45b319f",
   "metadata": {},
   "outputs": [],
   "source": [
    "driver = webdriver.Chrome(r'C:\\Users\\Anuradha\\Downloads\\chromedriver.exe')\n",
    "url = 'https://www.flipkart.com' \n",
    "driver.get(url)"
   ]
  },
  {
   "cell_type": "code",
   "execution_count": 56,
   "id": "dc4dc7cc",
   "metadata": {},
   "outputs": [],
   "source": [
    "Sneakerssearch = driver.find_element_by_xpath('/html/body/div[1]/div/div[1]/div[1]/div[2]/div[2]/form/div/div/input')\n",
    "Sneakerssearch.send_keys(\"Sneakers\")\n",
    "search = driver.find_element_by_class_name('L0Z3Pu')\n",
    "search.click()"
   ]
  },
  {
   "cell_type": "code",
   "execution_count": 57,
   "id": "250f445f",
   "metadata": {},
   "outputs": [],
   "source": [
    "brand = []\n",
    "desc = []\n",
    "price = []\n",
    "disc = []\n",
    "brand_tag = driver.find_elements_by_xpath(\"//div[@class='_2WkVRV']\")\n",
    "price_tag = driver.find_elements_by_xpath(\"//div[@class='_30jeq3']\")\n",
    "disc_tag = driver.find_elements_by_xpath(\"//div[@class='_3Ay6Sb']//span\")\n",
    "desc_tag = driver.find_elements_by_xpath(\"//a[@class='IRpwTa']\")\n",
    "for b in brand_tag:\n",
    "   brand.append(b.text)\n",
    "for d in desc_tag :\n",
    "   desc.append(d.text)\n",
    "for p in price_tag:\n",
    "   price.append(p.text)\n",
    "for c in disc_tag:\n",
    "   disc.append(c.text)"
   ]
  },
  {
   "cell_type": "code",
   "execution_count": 58,
   "id": "14845502",
   "metadata": {},
   "outputs": [],
   "source": [
    "import time \n",
    "\n",
    "\n",
    "i=0\n",
    "nextbtn = driver.find_element_by_class_name('_1LKTO3')\n",
    "while(i<2):\n",
    "    try:\n",
    "        nextbtn.click()\n",
    "    except:\n",
    "        pass\n",
    "    time.sleep(3) #to allow the page to load completely before scraping.\n",
    "    brand_tag = driver.find_elements_by_xpath(\"//div[@class='_2WkVRV']\")\n",
    "    price_tag = driver.find_elements_by_xpath(\"//div[@class='_30jeq3']\")\n",
    "    disc_tag = driver.find_elements_by_xpath(\"//div[@class='_3Ay6Sb']//span\")\n",
    "    \n",
    "    for b in brand_tag:\n",
    "        try:\n",
    "            brand.append(b.text)\n",
    "        except:\n",
    "            pass\n",
    "    \n",
    "    for d in desc_tag :\n",
    "        try:\n",
    "            desc.append(d.text)\n",
    "        except:\n",
    "            pass\n",
    "    \n",
    "    for p in price_tag:\n",
    "        try:\n",
    "            price.append(p.text)\n",
    "        except:\n",
    "            pass\n",
    "    for c in disc_tag:\n",
    "        try:\n",
    "            disc.append(c.text)\n",
    "        except:\n",
    "            pass\n",
    "\n",
    "    \n",
    "    if 'inactive' in nextbtn.get_attribute('class'):\n",
    "        break;\n",
    "    \n",
    "    i=i+1"
   ]
  },
  {
   "cell_type": "code",
   "execution_count": 63,
   "id": "9d5b7f06",
   "metadata": {},
   "outputs": [
    {
     "data": {
      "text/html": [
       "<div>\n",
       "<style scoped>\n",
       "    .dataframe tbody tr th:only-of-type {\n",
       "        vertical-align: middle;\n",
       "    }\n",
       "\n",
       "    .dataframe tbody tr th {\n",
       "        vertical-align: top;\n",
       "    }\n",
       "\n",
       "    .dataframe thead th {\n",
       "        text-align: right;\n",
       "    }\n",
       "</style>\n",
       "<table border=\"1\" class=\"dataframe\">\n",
       "  <thead>\n",
       "    <tr style=\"text-align: right;\">\n",
       "      <th></th>\n",
       "      <th>Brand Name</th>\n",
       "      <th>Price(₹)</th>\n",
       "      <th>Discount</th>\n",
       "    </tr>\n",
       "  </thead>\n",
       "  <tbody>\n",
       "    <tr>\n",
       "      <th>1</th>\n",
       "      <td>Chevit</td>\n",
       "      <td>₹299</td>\n",
       "      <td>70% off</td>\n",
       "    </tr>\n",
       "    <tr>\n",
       "      <th>2</th>\n",
       "      <td>BIRDE</td>\n",
       "      <td>₹259</td>\n",
       "      <td>74% off</td>\n",
       "    </tr>\n",
       "    <tr>\n",
       "      <th>3</th>\n",
       "      <td>Elevarse</td>\n",
       "      <td>₹349</td>\n",
       "      <td>65% off</td>\n",
       "    </tr>\n",
       "    <tr>\n",
       "      <th>4</th>\n",
       "      <td>World Wear Footwear</td>\n",
       "      <td>₹199</td>\n",
       "      <td>60% off</td>\n",
       "    </tr>\n",
       "    <tr>\n",
       "      <th>5</th>\n",
       "      <td>BRUTON</td>\n",
       "      <td>₹259</td>\n",
       "      <td>80% off</td>\n",
       "    </tr>\n",
       "    <tr>\n",
       "      <th>...</th>\n",
       "      <td>...</td>\n",
       "      <td>...</td>\n",
       "      <td>...</td>\n",
       "    </tr>\n",
       "    <tr>\n",
       "      <th>96</th>\n",
       "      <td>SWIGGY</td>\n",
       "      <td>₹259</td>\n",
       "      <td>59% off</td>\n",
       "    </tr>\n",
       "    <tr>\n",
       "      <th>97</th>\n",
       "      <td>India hub</td>\n",
       "      <td>₹404</td>\n",
       "      <td>50% off</td>\n",
       "    </tr>\n",
       "    <tr>\n",
       "      <th>98</th>\n",
       "      <td>PUMA</td>\n",
       "      <td>₹1,224</td>\n",
       "      <td>48% off</td>\n",
       "    </tr>\n",
       "    <tr>\n",
       "      <th>99</th>\n",
       "      <td>Kraasa</td>\n",
       "      <td>₹499</td>\n",
       "      <td>53% off</td>\n",
       "    </tr>\n",
       "    <tr>\n",
       "      <th>100</th>\n",
       "      <td>SWIGGY</td>\n",
       "      <td>₹259</td>\n",
       "      <td>55% off</td>\n",
       "    </tr>\n",
       "  </tbody>\n",
       "</table>\n",
       "<p>100 rows × 3 columns</p>\n",
       "</div>"
      ],
      "text/plain": [
       "              Brand Name Price(₹) Discount\n",
       "1                 Chevit     ₹299  70% off\n",
       "2                  BIRDE     ₹259  74% off\n",
       "3               Elevarse     ₹349  65% off\n",
       "4    World Wear Footwear     ₹199  60% off\n",
       "5                 BRUTON     ₹259  80% off\n",
       "..                   ...      ...      ...\n",
       "96                SWIGGY     ₹259  59% off\n",
       "97             India hub     ₹404  50% off\n",
       "98                  PUMA   ₹1,224  48% off\n",
       "99                Kraasa     ₹499  53% off\n",
       "100               SWIGGY     ₹259  55% off\n",
       "\n",
       "[100 rows x 3 columns]"
      ]
     },
     "execution_count": 63,
     "metadata": {},
     "output_type": "execute_result"
    }
   ],
   "source": [
    "SneakersDF = pd.DataFrame({\"Brand Name\":brand[0:100],\"Price(₹)\":price[0:100],\"Discount\":disc[0:100]})\n",
    "SneakersDF.reset_index(drop=True,inplace = True)\n",
    "SneakersDF.index+= 1\n",
    "SneakersDF.shape\n",
    "\n",
    "SneakersDF"
   ]
  },
  {
   "cell_type": "markdown",
   "id": "c082cbf8",
   "metadata": {},
   "source": [
    "# Q 7 scrape First 100 shoes data you get. The data should include “Brand” of the shoes , Short Shoe description, price of the shoe as shown in the below image."
   ]
  },
  {
   "cell_type": "code",
   "execution_count": 64,
   "id": "84165883",
   "metadata": {},
   "outputs": [],
   "source": [
    "driver = webdriver.Chrome(r'C:\\Users\\Anuradha\\Downloads\\chromedriver.exe')"
   ]
  },
  {
   "cell_type": "code",
   "execution_count": 65,
   "id": "94cd0f34",
   "metadata": {},
   "outputs": [],
   "source": [
    "url = 'https://www.myntra.com/shoes' \n",
    "driver.get(url)"
   ]
  },
  {
   "cell_type": "code",
   "execution_count": 66,
   "id": "b57b4b6e",
   "metadata": {},
   "outputs": [],
   "source": [
    "colour_filter = driver.find_element_by_xpath(\"/html/body/div[2]/div/div[1]/main/div[3]/div[1]/section/div/div[6]/ul/li[1]/label/div\")\n",
    "colour_filter.click()"
   ]
  },
  {
   "cell_type": "code",
   "execution_count": 67,
   "id": "e256a135",
   "metadata": {},
   "outputs": [],
   "source": [
    "price_filter = driver.find_element_by_xpath(\"/html/body/div[2]/div/div[1]/main/div[3]/div[1]/section/div/div[5]/ul/li[2]/label/div\")\n",
    "price_filter.click()"
   ]
  },
  {
   "cell_type": "code",
   "execution_count": 68,
   "id": "eab45d9b",
   "metadata": {},
   "outputs": [],
   "source": [
    "brand = []\n",
    "desc = []\n",
    "price = []\n",
    "price2 = []\n",
    "brand_tag = driver.find_elements_by_xpath(\"//h3[@class='product-brand']\")\n",
    "price_tag = driver.find_elements_by_xpath(\"//div[@class='product-price']//span[1]\")\n",
    "desc_tag = driver.find_elements_by_xpath(\"//h4[@class='product-product']\")"
   ]
  },
  {
   "cell_type": "code",
   "execution_count": 69,
   "id": "c127af1f",
   "metadata": {},
   "outputs": [],
   "source": [
    "for b in brand_tag:\n",
    "   brand.append(b.text)\n",
    "for d in desc_tag :\n",
    "   desc.append(d.text)\n",
    "for p in price_tag:\n",
    "   price.append(p.text)"
   ]
  },
  {
   "cell_type": "code",
   "execution_count": 70,
   "id": "930c8350",
   "metadata": {},
   "outputs": [],
   "source": [
    "import time \n",
    "\n",
    "\n",
    "i=0\n",
    "nextbtn = driver.find_element_by_class_name('pagination-next')\n",
    "while(i<1):\n",
    "    try:\n",
    "        nextbtn.click()\n",
    "    except:\n",
    "        pass\n",
    "    time.sleep(3) #to allow the page to load completely before scraping.\n",
    "    brand_tag = driver.find_elements_by_xpath(\"//h3[@class='product-brand']\")\n",
    "    price_tag = driver.find_elements_by_xpath(\"//div[@class='product-productMetaInfo']//span[1]\")\n",
    "    desc_tag = driver.find_elements_by_xpath(\"//h4[@class='product-product']\")\n",
    "\n",
    "    \n",
    "    for b in brand_tag:\n",
    "        try:\n",
    "            brand.append(b.text)\n",
    "        except:\n",
    "            pass\n",
    "    \n",
    "    for d in desc_tag :\n",
    "        try:\n",
    "            desc.append(d.text)\n",
    "        except:\n",
    "            pass\n",
    "    \n",
    "    for p in price_tag:\n",
    "        try:\n",
    "            price.append(p.text)\n",
    "        except:\n",
    "            pass\n",
    "    \n",
    "    \n",
    "    if 'inactive' in nextbtn.get_attribute('class'):\n",
    "        break;\n",
    "    \n",
    "    i=i+1"
   ]
  },
  {
   "cell_type": "code",
   "execution_count": 71,
   "id": "0143dbf9",
   "metadata": {
    "scrolled": true
   },
   "outputs": [
    {
     "data": {
      "text/plain": [
       "['Rs. 9770Rs. 11495',\n",
       " 'Rs. 9770',\n",
       " 'Rs. 9099Rs. 12999',\n",
       " 'Rs. 9099',\n",
       " 'Rs. 7495',\n",
       " 'Rs. 12999',\n",
       " 'Rs. 7999',\n",
       " 'Rs. 12999',\n",
       " 'Rs. 10499Rs. 14999',\n",
       " 'Rs. 10499',\n",
       " 'Rs. 7799Rs. 12999',\n",
       " 'Rs. 7799',\n",
       " 'Rs. 9999',\n",
       " 'Rs. 7999',\n",
       " 'Rs. 8999',\n",
       " 'Rs. 7999',\n",
       " 'Rs. 7999Rs. 9999',\n",
       " 'Rs. 7999',\n",
       " 'Rs. 7224Rs. 8499',\n",
       " 'Rs. 7224',\n",
       " 'Rs. 7999',\n",
       " 'Rs. 7999',\n",
       " 'Rs. 8990',\n",
       " 'Rs. 7999',\n",
       " 'Rs. 7999',\n",
       " 'Rs. 7999Rs. 9999',\n",
       " 'Rs. 7999',\n",
       " 'Rs. 7599',\n",
       " 'Rs. 7199Rs. 8999',\n",
       " 'Rs. 7199',\n",
       " 'Rs. 8799Rs. 10999',\n",
       " 'Rs. 8799',\n",
       " 'Rs. 9999',\n",
       " 'Rs. 9999',\n",
       " 'Rs. 7999',\n",
       " 'Rs. 7699',\n",
       " 'Rs. 7199Rs. 8999',\n",
       " 'Rs. 7199',\n",
       " 'Rs. 9999',\n",
       " 'Rs. 9265Rs. 10900',\n",
       " 'Rs. 9265',\n",
       " 'Rs. 7999',\n",
       " 'Rs. 7394Rs. 8499',\n",
       " 'Rs. 7394',\n",
       " 'Rs. 10500Rs. 10900',\n",
       " 'Rs. 10500',\n",
       " 'Rs. 8500',\n",
       " 'Rs. 8490',\n",
       " 'Rs. 8399Rs. 11999',\n",
       " 'Rs. 8399',\n",
       " 'Rs. 9999',\n",
       " 'Rs. 8990',\n",
       " 'Rs. 7219Rs. 7599',\n",
       " 'Rs. 7219',\n",
       " 'Rs. 8490',\n",
       " 'Rs. 11473Rs. 14900',\n",
       " 'Rs. 11473',\n",
       " 'Rs. 7999',\n",
       " 'Rs. 7999',\n",
       " 'Rs. 7869Rs. 12900',\n",
       " 'Rs. 7869',\n",
       " 'Rs. 7999',\n",
       " 'Rs. 7739Rs. 8599',\n",
       " 'Rs. 7739',\n",
       " 'Rs. 7799Rs. 12999',\n",
       " 'Rs. 7799',\n",
       " 'Rs. 12999',\n",
       " 'Rs. 9499',\n",
       " 'Rs. 11999',\n",
       " '',\n",
       " 'Rs. 11999',\n",
       " '',\n",
       " 'Rs. 9999',\n",
       " '',\n",
       " 'Rs. 7199Rs. 8999',\n",
       " 'Rs. 7199',\n",
       " '',\n",
       " 'Rs. 7990',\n",
       " '',\n",
       " 'Rs. 7999',\n",
       " '',\n",
       " 'Rs. 7499',\n",
       " '',\n",
       " 'Rs. 8990',\n",
       " '',\n",
       " 'Rs. 8415Rs. 9900',\n",
       " 'Rs. 8415',\n",
       " '',\n",
       " 'Rs. 7990',\n",
       " '',\n",
       " 'Rs. 9999',\n",
       " '',\n",
       " 'Rs. 8490',\n",
       " '',\n",
       " 'Rs. 7216Rs. 8200',\n",
       " 'Rs. 7216',\n",
       " '',\n",
       " 'Rs. 7490',\n",
       " '',\n",
       " 'Rs. 8999',\n",
       " '',\n",
       " 'Rs. 7999',\n",
       " '',\n",
       " 'Rs. 9599Rs. 11999',\n",
       " 'Rs. 9599',\n",
       " '',\n",
       " 'Rs. 7490',\n",
       " '',\n",
       " 'Rs. 10990',\n",
       " '',\n",
       " 'Rs. 9999',\n",
       " '',\n",
       " 'Rs. 8799Rs. 10999',\n",
       " 'Rs. 8799',\n",
       " '',\n",
       " 'Rs. 9999',\n",
       " '',\n",
       " 'Rs. 7990',\n",
       " '',\n",
       " 'Rs. 8990',\n",
       " '',\n",
       " 'Rs. 8990',\n",
       " '',\n",
       " 'Rs. 8990',\n",
       " '',\n",
       " 'Rs. 9990',\n",
       " '',\n",
       " 'Rs. 7499',\n",
       " '',\n",
       " 'Rs. 10710Rs. 11900',\n",
       " 'Rs. 10710',\n",
       " '',\n",
       " 'Rs. 7900',\n",
       " '',\n",
       " 'Rs. 9450Rs. 10500',\n",
       " 'Rs. 9450',\n",
       " '',\n",
       " 'Rs. 7799Rs. 12999',\n",
       " 'Rs. 7799',\n",
       " '',\n",
       " 'Rs. 8999',\n",
       " '',\n",
       " 'Rs. 9799Rs. 13999',\n",
       " 'Rs. 9799',\n",
       " '',\n",
       " 'Rs. 11999',\n",
       " '',\n",
       " 'Rs. 11899Rs. 16999',\n",
       " 'Rs. 11899',\n",
       " '',\n",
       " 'Rs. 12325Rs. 14500',\n",
       " 'Rs. 12325',\n",
       " '',\n",
       " 'Rs. 12325Rs. 14500',\n",
       " 'Rs. 12325',\n",
       " '',\n",
       " 'Rs. 14025Rs. 16500',\n",
       " 'Rs. 14025',\n",
       " '',\n",
       " 'Rs. 9999',\n",
       " '',\n",
       " 'Rs. 11815Rs. 13900',\n",
       " 'Rs. 11815',\n",
       " '',\n",
       " 'Rs. 8399Rs. 11999',\n",
       " 'Rs. 8399',\n",
       " '',\n",
       " 'Rs. 7999Rs. 9999',\n",
       " 'Rs. 7999',\n",
       " '',\n",
       " 'Rs. 12990',\n",
       " '',\n",
       " 'Rs. 9999',\n",
       " '',\n",
       " 'Rs. 13990',\n",
       " '',\n",
       " 'Rs. 12665Rs. 14900',\n",
       " 'Rs. 12665',\n",
       " '',\n",
       " 'Rs. 12999',\n",
       " '',\n",
       " 'Rs. 8415Rs. 9900',\n",
       " 'Rs. 8415',\n",
       " '',\n",
       " 'Rs. 9265Rs. 10900',\n",
       " 'Rs. 9265',\n",
       " '',\n",
       " 'Rs. 11815Rs. 13900',\n",
       " 'Rs. 11815']"
      ]
     },
     "execution_count": 71,
     "metadata": {},
     "output_type": "execute_result"
    }
   ],
   "source": [
    "price"
   ]
  },
  {
   "cell_type": "code",
   "execution_count": 72,
   "id": "22ca3d8f",
   "metadata": {},
   "outputs": [],
   "source": [
    "while(\"\" in price) :\n",
    "    price.remove(\"\")"
   ]
  },
  {
   "cell_type": "code",
   "execution_count": 73,
   "id": "460d2646",
   "metadata": {},
   "outputs": [
    {
     "data": {
      "text/plain": [
       "['Rs. 9770Rs. 11495',\n",
       " 'Rs. 9770',\n",
       " 'Rs. 9099Rs. 12999',\n",
       " 'Rs. 9099',\n",
       " 'Rs. 7495',\n",
       " 'Rs. 12999',\n",
       " 'Rs. 7999',\n",
       " 'Rs. 12999',\n",
       " 'Rs. 10499Rs. 14999',\n",
       " 'Rs. 10499',\n",
       " 'Rs. 7799Rs. 12999',\n",
       " 'Rs. 7799',\n",
       " 'Rs. 9999',\n",
       " 'Rs. 7999',\n",
       " 'Rs. 8999',\n",
       " 'Rs. 7999',\n",
       " 'Rs. 7999Rs. 9999',\n",
       " 'Rs. 7999',\n",
       " 'Rs. 7224Rs. 8499',\n",
       " 'Rs. 7224',\n",
       " 'Rs. 7999',\n",
       " 'Rs. 7999',\n",
       " 'Rs. 8990',\n",
       " 'Rs. 7999',\n",
       " 'Rs. 7999',\n",
       " 'Rs. 7999Rs. 9999',\n",
       " 'Rs. 7999',\n",
       " 'Rs. 7599',\n",
       " 'Rs. 7199Rs. 8999',\n",
       " 'Rs. 7199',\n",
       " 'Rs. 8799Rs. 10999',\n",
       " 'Rs. 8799',\n",
       " 'Rs. 9999',\n",
       " 'Rs. 9999',\n",
       " 'Rs. 7999',\n",
       " 'Rs. 7699',\n",
       " 'Rs. 7199Rs. 8999',\n",
       " 'Rs. 7199',\n",
       " 'Rs. 9999',\n",
       " 'Rs. 9265Rs. 10900',\n",
       " 'Rs. 9265',\n",
       " 'Rs. 7999',\n",
       " 'Rs. 7394Rs. 8499',\n",
       " 'Rs. 7394',\n",
       " 'Rs. 10500Rs. 10900',\n",
       " 'Rs. 10500',\n",
       " 'Rs. 8500',\n",
       " 'Rs. 8490',\n",
       " 'Rs. 8399Rs. 11999',\n",
       " 'Rs. 8399',\n",
       " 'Rs. 9999',\n",
       " 'Rs. 8990',\n",
       " 'Rs. 7219Rs. 7599',\n",
       " 'Rs. 7219',\n",
       " 'Rs. 8490',\n",
       " 'Rs. 11473Rs. 14900',\n",
       " 'Rs. 11473',\n",
       " 'Rs. 7999',\n",
       " 'Rs. 7999',\n",
       " 'Rs. 7869Rs. 12900',\n",
       " 'Rs. 7869',\n",
       " 'Rs. 7999',\n",
       " 'Rs. 7739Rs. 8599',\n",
       " 'Rs. 7739',\n",
       " 'Rs. 7799Rs. 12999',\n",
       " 'Rs. 7799',\n",
       " 'Rs. 12999',\n",
       " 'Rs. 9499',\n",
       " 'Rs. 11999',\n",
       " 'Rs. 11999',\n",
       " 'Rs. 9999',\n",
       " 'Rs. 7199Rs. 8999',\n",
       " 'Rs. 7199',\n",
       " 'Rs. 7990',\n",
       " 'Rs. 7999',\n",
       " 'Rs. 7499',\n",
       " 'Rs. 8990',\n",
       " 'Rs. 8415Rs. 9900',\n",
       " 'Rs. 8415',\n",
       " 'Rs. 7990',\n",
       " 'Rs. 9999',\n",
       " 'Rs. 8490',\n",
       " 'Rs. 7216Rs. 8200',\n",
       " 'Rs. 7216',\n",
       " 'Rs. 7490',\n",
       " 'Rs. 8999',\n",
       " 'Rs. 7999',\n",
       " 'Rs. 9599Rs. 11999',\n",
       " 'Rs. 9599',\n",
       " 'Rs. 7490',\n",
       " 'Rs. 10990',\n",
       " 'Rs. 9999',\n",
       " 'Rs. 8799Rs. 10999',\n",
       " 'Rs. 8799',\n",
       " 'Rs. 9999',\n",
       " 'Rs. 7990',\n",
       " 'Rs. 8990',\n",
       " 'Rs. 8990',\n",
       " 'Rs. 8990',\n",
       " 'Rs. 9990',\n",
       " 'Rs. 7499',\n",
       " 'Rs. 10710Rs. 11900',\n",
       " 'Rs. 10710',\n",
       " 'Rs. 7900',\n",
       " 'Rs. 9450Rs. 10500',\n",
       " 'Rs. 9450',\n",
       " 'Rs. 7799Rs. 12999',\n",
       " 'Rs. 7799',\n",
       " 'Rs. 8999',\n",
       " 'Rs. 9799Rs. 13999',\n",
       " 'Rs. 9799',\n",
       " 'Rs. 11999',\n",
       " 'Rs. 11899Rs. 16999',\n",
       " 'Rs. 11899',\n",
       " 'Rs. 12325Rs. 14500',\n",
       " 'Rs. 12325',\n",
       " 'Rs. 12325Rs. 14500',\n",
       " 'Rs. 12325',\n",
       " 'Rs. 14025Rs. 16500',\n",
       " 'Rs. 14025',\n",
       " 'Rs. 9999',\n",
       " 'Rs. 11815Rs. 13900',\n",
       " 'Rs. 11815',\n",
       " 'Rs. 8399Rs. 11999',\n",
       " 'Rs. 8399',\n",
       " 'Rs. 7999Rs. 9999',\n",
       " 'Rs. 7999',\n",
       " 'Rs. 12990',\n",
       " 'Rs. 9999',\n",
       " 'Rs. 13990',\n",
       " 'Rs. 12665Rs. 14900',\n",
       " 'Rs. 12665',\n",
       " 'Rs. 12999',\n",
       " 'Rs. 8415Rs. 9900',\n",
       " 'Rs. 8415',\n",
       " 'Rs. 9265Rs. 10900',\n",
       " 'Rs. 9265',\n",
       " 'Rs. 11815Rs. 13900',\n",
       " 'Rs. 11815']"
      ]
     },
     "execution_count": 73,
     "metadata": {},
     "output_type": "execute_result"
    }
   ],
   "source": [
    "price"
   ]
  },
  {
   "cell_type": "code",
   "execution_count": 74,
   "id": "199eead2",
   "metadata": {},
   "outputs": [],
   "source": [
    "j = 0\n",
    "for c in price:\n",
    "    if len(c) > 12:\n",
    "        del price[j]\n",
    "    j += 1"
   ]
  },
  {
   "cell_type": "code",
   "execution_count": 75,
   "id": "bdf53a06",
   "metadata": {},
   "outputs": [
    {
     "data": {
      "text/plain": [
       "['Rs. 9770',\n",
       " 'Rs. 9099',\n",
       " 'Rs. 7495',\n",
       " 'Rs. 12999',\n",
       " 'Rs. 7999',\n",
       " 'Rs. 12999',\n",
       " 'Rs. 10499',\n",
       " 'Rs. 7799',\n",
       " 'Rs. 9999',\n",
       " 'Rs. 7999',\n",
       " 'Rs. 8999',\n",
       " 'Rs. 7999',\n",
       " 'Rs. 7999',\n",
       " 'Rs. 7224',\n",
       " 'Rs. 7999',\n",
       " 'Rs. 7999',\n",
       " 'Rs. 8990',\n",
       " 'Rs. 7999',\n",
       " 'Rs. 7999',\n",
       " 'Rs. 7999',\n",
       " 'Rs. 7599',\n",
       " 'Rs. 7199',\n",
       " 'Rs. 8799',\n",
       " 'Rs. 9999',\n",
       " 'Rs. 9999',\n",
       " 'Rs. 7999',\n",
       " 'Rs. 7699',\n",
       " 'Rs. 7199',\n",
       " 'Rs. 9999',\n",
       " 'Rs. 9265',\n",
       " 'Rs. 7999',\n",
       " 'Rs. 7394',\n",
       " 'Rs. 10500',\n",
       " 'Rs. 8500',\n",
       " 'Rs. 8490',\n",
       " 'Rs. 8399',\n",
       " 'Rs. 9999',\n",
       " 'Rs. 8990',\n",
       " 'Rs. 7219',\n",
       " 'Rs. 8490',\n",
       " 'Rs. 11473',\n",
       " 'Rs. 7999',\n",
       " 'Rs. 7999',\n",
       " 'Rs. 7869',\n",
       " 'Rs. 7999',\n",
       " 'Rs. 7739',\n",
       " 'Rs. 7799',\n",
       " 'Rs. 12999',\n",
       " 'Rs. 9499',\n",
       " 'Rs. 11999',\n",
       " 'Rs. 11999',\n",
       " 'Rs. 9999',\n",
       " 'Rs. 7199',\n",
       " 'Rs. 7990',\n",
       " 'Rs. 7999',\n",
       " 'Rs. 7499',\n",
       " 'Rs. 8990',\n",
       " 'Rs. 8415',\n",
       " 'Rs. 7990',\n",
       " 'Rs. 9999',\n",
       " 'Rs. 8490',\n",
       " 'Rs. 7216',\n",
       " 'Rs. 7490',\n",
       " 'Rs. 8999',\n",
       " 'Rs. 7999',\n",
       " 'Rs. 9599',\n",
       " 'Rs. 7490',\n",
       " 'Rs. 10990',\n",
       " 'Rs. 9999',\n",
       " 'Rs. 8799',\n",
       " 'Rs. 9999',\n",
       " 'Rs. 7990',\n",
       " 'Rs. 8990',\n",
       " 'Rs. 8990',\n",
       " 'Rs. 8990',\n",
       " 'Rs. 9990',\n",
       " 'Rs. 7499',\n",
       " 'Rs. 10710',\n",
       " 'Rs. 7900',\n",
       " 'Rs. 9450',\n",
       " 'Rs. 7799',\n",
       " 'Rs. 8999',\n",
       " 'Rs. 9799',\n",
       " 'Rs. 11999',\n",
       " 'Rs. 11899',\n",
       " 'Rs. 12325',\n",
       " 'Rs. 12325',\n",
       " 'Rs. 14025',\n",
       " 'Rs. 9999',\n",
       " 'Rs. 11815',\n",
       " 'Rs. 8399',\n",
       " 'Rs. 7999',\n",
       " 'Rs. 12990',\n",
       " 'Rs. 9999',\n",
       " 'Rs. 13990',\n",
       " 'Rs. 12665',\n",
       " 'Rs. 12999',\n",
       " 'Rs. 8415',\n",
       " 'Rs. 9265',\n",
       " 'Rs. 11815']"
      ]
     },
     "execution_count": 75,
     "metadata": {},
     "output_type": "execute_result"
    }
   ],
   "source": [
    "price"
   ]
  },
  {
   "cell_type": "code",
   "execution_count": 76,
   "id": "cb8ed1c3",
   "metadata": {},
   "outputs": [
    {
     "data": {
      "text/html": [
       "<div>\n",
       "<style scoped>\n",
       "    .dataframe tbody tr th:only-of-type {\n",
       "        vertical-align: middle;\n",
       "    }\n",
       "\n",
       "    .dataframe tbody tr th {\n",
       "        vertical-align: top;\n",
       "    }\n",
       "\n",
       "    .dataframe thead th {\n",
       "        text-align: right;\n",
       "    }\n",
       "</style>\n",
       "<table border=\"1\" class=\"dataframe\">\n",
       "  <thead>\n",
       "    <tr style=\"text-align: right;\">\n",
       "      <th></th>\n",
       "      <th>Brand Name</th>\n",
       "      <th>Price(₹)</th>\n",
       "      <th>Description</th>\n",
       "    </tr>\n",
       "  </thead>\n",
       "  <tbody>\n",
       "    <tr>\n",
       "      <th>1</th>\n",
       "      <td>Nike</td>\n",
       "      <td>Rs. 9770</td>\n",
       "      <td>Men AIR ZOOM PEGASUS 38</td>\n",
       "    </tr>\n",
       "    <tr>\n",
       "      <th>2</th>\n",
       "      <td>ALDO</td>\n",
       "      <td>Rs. 9099</td>\n",
       "      <td>Men Printed Sneakers</td>\n",
       "    </tr>\n",
       "    <tr>\n",
       "      <th>3</th>\n",
       "      <td>Nike</td>\n",
       "      <td>Rs. 7495</td>\n",
       "      <td>Men Blazer Court Skateboarding</td>\n",
       "    </tr>\n",
       "    <tr>\n",
       "      <th>4</th>\n",
       "      <td>Puma</td>\n",
       "      <td>Rs. 12999</td>\n",
       "      <td>Men Jamming 2.0 Running Shoes</td>\n",
       "    </tr>\n",
       "    <tr>\n",
       "      <th>5</th>\n",
       "      <td>Tommy Hilfiger</td>\n",
       "      <td>Rs. 7999</td>\n",
       "      <td>Men Leather Sneakers</td>\n",
       "    </tr>\n",
       "    <tr>\n",
       "      <th>...</th>\n",
       "      <td>...</td>\n",
       "      <td>...</td>\n",
       "      <td>...</td>\n",
       "    </tr>\n",
       "    <tr>\n",
       "      <th>96</th>\n",
       "      <td>Saint G</td>\n",
       "      <td>Rs. 12665</td>\n",
       "      <td>Leather Wedge Heeled Boots with Buckles</td>\n",
       "    </tr>\n",
       "    <tr>\n",
       "      <th>97</th>\n",
       "      <td>ECCO</td>\n",
       "      <td>Rs. 12999</td>\n",
       "      <td>Leather Stiletto Pumps</td>\n",
       "    </tr>\n",
       "    <tr>\n",
       "      <th>98</th>\n",
       "      <td>Saint G</td>\n",
       "      <td>Rs. 8415</td>\n",
       "      <td>Leather Kitten Heeled Boots</td>\n",
       "    </tr>\n",
       "    <tr>\n",
       "      <th>99</th>\n",
       "      <td>Saint G</td>\n",
       "      <td>Rs. 9265</td>\n",
       "      <td>Leather Platform Heeled Boots</td>\n",
       "    </tr>\n",
       "    <tr>\n",
       "      <th>100</th>\n",
       "      <td>Saint G</td>\n",
       "      <td>Rs. 11815</td>\n",
       "      <td>Leather Block Heeled Boots with Bows</td>\n",
       "    </tr>\n",
       "  </tbody>\n",
       "</table>\n",
       "<p>100 rows × 3 columns</p>\n",
       "</div>"
      ],
      "text/plain": [
       "         Brand Name   Price(₹)                              Description\n",
       "1              Nike   Rs. 9770                  Men AIR ZOOM PEGASUS 38\n",
       "2              ALDO   Rs. 9099                     Men Printed Sneakers\n",
       "3              Nike   Rs. 7495           Men Blazer Court Skateboarding\n",
       "4              Puma  Rs. 12999            Men Jamming 2.0 Running Shoes\n",
       "5    Tommy Hilfiger   Rs. 7999                     Men Leather Sneakers\n",
       "..              ...        ...                                      ...\n",
       "96          Saint G  Rs. 12665  Leather Wedge Heeled Boots with Buckles\n",
       "97             ECCO  Rs. 12999                   Leather Stiletto Pumps\n",
       "98          Saint G   Rs. 8415              Leather Kitten Heeled Boots\n",
       "99          Saint G   Rs. 9265            Leather Platform Heeled Boots\n",
       "100         Saint G  Rs. 11815     Leather Block Heeled Boots with Bows\n",
       "\n",
       "[100 rows x 3 columns]"
      ]
     },
     "execution_count": 76,
     "metadata": {},
     "output_type": "execute_result"
    }
   ],
   "source": [
    "MyntraShoesDF = pd.DataFrame({\"Brand Name\":brand[0:100],\"Price(₹)\":price[0:100],\"Description\":desc[0:100],})\n",
    "MyntraShoesDF.reset_index(drop=True,inplace = True)\n",
    "MyntraShoesDF.index+= 1\n",
    "\n",
    "\n",
    "MyntraShoesDF"
   ]
  },
  {
   "cell_type": "markdown",
   "id": "4bac9d71",
   "metadata": {},
   "source": [
    "# Q8 Go to webpage https://www.amazon.in/\n",
    "Enter “Laptop” in the search field and then click the search icon.\n",
    "Then set CPU Type filter to “Intel Core i7” and “Intel Core i9”\n",
    "After setting the filters scrape first 10 laptops data. You have to scrape 3 attributesfor each laptop:\n",
    "1. Title\n",
    "2. Ratings\n",
    "3. Price"
   ]
  },
  {
   "cell_type": "code",
   "execution_count": 83,
   "id": "513a2172",
   "metadata": {},
   "outputs": [],
   "source": [
    "driver = webdriver.Chrome(r'C:\\Users\\Anuradha\\Downloads\\chromedriver.exe')"
   ]
  },
  {
   "cell_type": "code",
   "execution_count": 84,
   "id": "578ead3c",
   "metadata": {},
   "outputs": [],
   "source": [
    "url = 'https://www.amazon.in/'\n",
    "driver.get(url)"
   ]
  },
  {
   "cell_type": "code",
   "execution_count": 85,
   "id": "9204cd7e",
   "metadata": {},
   "outputs": [],
   "source": [
    "Laptopsearch = driver.find_element_by_xpath('/html/body/div[1]/header/div/div[1]/div[2]/div/form/div[2]/div[1]/input')\n",
    "Laptopsearch.send_keys(\"Laptop\")\n",
    "search = driver.find_element_by_xpath('/html/body/div[1]/header/div/div[1]/div[2]/div/form/div[3]/div/span/input')\n",
    "search.click()"
   ]
  },
  {
   "cell_type": "code",
   "execution_count": 86,
   "id": "0c49dacf",
   "metadata": {},
   "outputs": [],
   "source": [
    "i3_filter = driver.find_element_by_xpath(\"/html/body/div[1]/div[2]/div[1]/div[2]/div/div[3]/span/div/div/div/div[6]/ul[3]/li[9]/span/a/div/label/i\")\n",
    "i3_filter.click()"
   ]
  },
  {
   "cell_type": "code",
   "execution_count": 87,
   "id": "28dfbb5b",
   "metadata": {},
   "outputs": [],
   "source": [
    "title = []\n",
    "price = []\n",
    "Rating = []\n",
    "Rating_tag = driver.find_elements_by_xpath(\"//span[@class='a-icon-alt']\")\n",
    "title_tag = driver.find_elements_by_xpath(\"//span[@class='a-size-medium a-color-base a-text-normal']\")\n",
    "price_tag = driver.find_elements_by_xpath(\"//div[@class='sg-col-inner']//span[@class='a-price-whole']\")\n",
    "\n",
    "for i in title_tag:\n",
    "    title.append(i.text)\n",
    "    \n",
    "for r in Rating_tag :\n",
    "    Rating.append(r.get_attribute(\"innerHTML\"))\n",
    "    \n",
    "for p in price_tag:\n",
    "    price.append(p.text)"
   ]
  },
  {
   "cell_type": "code",
   "execution_count": 88,
   "id": "c419b9c9",
   "metadata": {},
   "outputs": [],
   "source": [
    "del title[8]"
   ]
  },
  {
   "cell_type": "code",
   "execution_count": 89,
   "id": "0cc51ac9",
   "metadata": {},
   "outputs": [
    {
     "data": {
      "text/plain": [
       "['4.2 out of 5 stars',\n",
       " '4.2 out of 5 stars',\n",
       " '3.9 out of 5 stars',\n",
       " '3.3 out of 5 stars',\n",
       " '3.9 out of 5 stars',\n",
       " '4.2 out of 5 stars',\n",
       " '3.4 out of 5 stars',\n",
       " '3.8 out of 5 stars',\n",
       " '4.1 out of 5 stars',\n",
       " '4.0 out of 5 stars',\n",
       " '3.3 out of 5 stars',\n",
       " '5.0 out of 5 stars',\n",
       " '4.2 out of 5 stars',\n",
       " '3.9 out of 5 stars',\n",
       " '4.3 out of 5 stars',\n",
       " '3.9 out of 5 stars',\n",
       " '4.7 out of 5 stars',\n",
       " '3.9 out of 5 stars',\n",
       " '5.0 out of 5 stars',\n",
       " '3.8 out of 5 stars',\n",
       " '4.3 out of 5 stars',\n",
       " '3.5 out of 5 stars',\n",
       " '5.0 out of 5 stars',\n",
       " '3.0 out of 5 stars',\n",
       " '3.0 out of 5 stars',\n",
       " '4.2 out of 5 stars',\n",
       " '4.1 out of 5 stars',\n",
       " '3.3 out of 5 stars',\n",
       " '3.3 out of 5 stars',\n",
       " '4.5 out of 5 stars',\n",
       " '4 Stars &amp; Up',\n",
       " '3 Stars &amp; Up',\n",
       " '2 Stars &amp; Up',\n",
       " '1 Star &amp; Up']"
      ]
     },
     "execution_count": 89,
     "metadata": {},
     "output_type": "execute_result"
    }
   ],
   "source": [
    "Rating"
   ]
  },
  {
   "cell_type": "code",
   "execution_count": 90,
   "id": "133e5292",
   "metadata": {},
   "outputs": [
    {
     "data": {
      "text/html": [
       "<div>\n",
       "<style scoped>\n",
       "    .dataframe tbody tr th:only-of-type {\n",
       "        vertical-align: middle;\n",
       "    }\n",
       "\n",
       "    .dataframe tbody tr th {\n",
       "        vertical-align: top;\n",
       "    }\n",
       "\n",
       "    .dataframe thead th {\n",
       "        text-align: right;\n",
       "    }\n",
       "</style>\n",
       "<table border=\"1\" class=\"dataframe\">\n",
       "  <thead>\n",
       "    <tr style=\"text-align: right;\">\n",
       "      <th></th>\n",
       "      <th>Laptop Name</th>\n",
       "      <th>Price(₹)</th>\n",
       "      <th>Rating</th>\n",
       "    </tr>\n",
       "  </thead>\n",
       "  <tbody>\n",
       "    <tr>\n",
       "      <th>1</th>\n",
       "      <td>HP 14s 11th Gen Intel Core i3- 8GB RAM/256GB S...</td>\n",
       "      <td>40,990</td>\n",
       "      <td>4.2 out of 5 stars</td>\n",
       "    </tr>\n",
       "    <tr>\n",
       "      <th>2</th>\n",
       "      <td>Lenovo IdeaPad Slim 3 10th Gen Intel Core i3 1...</td>\n",
       "      <td>38,990</td>\n",
       "      <td>4.2 out of 5 stars</td>\n",
       "    </tr>\n",
       "    <tr>\n",
       "      <th>3</th>\n",
       "      <td>Lenovo IdeaPad Slim 3 10th Gen Intel Core i3 1...</td>\n",
       "      <td>36,490</td>\n",
       "      <td>3.9 out of 5 stars</td>\n",
       "    </tr>\n",
       "    <tr>\n",
       "      <th>4</th>\n",
       "      <td>Dell New 15 Intel i3-1115G4 Laptop, 8GB, 256GB...</td>\n",
       "      <td>40,190</td>\n",
       "      <td>3.3 out of 5 stars</td>\n",
       "    </tr>\n",
       "    <tr>\n",
       "      <th>5</th>\n",
       "      <td>Lenovo IdeaPad 3 11th Gen Intel Core i3 35.56c...</td>\n",
       "      <td>40,990</td>\n",
       "      <td>3.9 out of 5 stars</td>\n",
       "    </tr>\n",
       "    <tr>\n",
       "      <th>6</th>\n",
       "      <td>HP 14s 11th Gen Intel Core i3- 8GB RAM/256GB S...</td>\n",
       "      <td>40,990</td>\n",
       "      <td>4.2 out of 5 stars</td>\n",
       "    </tr>\n",
       "    <tr>\n",
       "      <th>7</th>\n",
       "      <td>HP 11th Gen Intel Core i3 15.6 inches FHD Lapt...</td>\n",
       "      <td>39,490</td>\n",
       "      <td>3.4 out of 5 stars</td>\n",
       "    </tr>\n",
       "    <tr>\n",
       "      <th>8</th>\n",
       "      <td>ASUS VivoBook 14 (2021), Intel Core i3-1115G4 ...</td>\n",
       "      <td>37,990</td>\n",
       "      <td>3.8 out of 5 stars</td>\n",
       "    </tr>\n",
       "    <tr>\n",
       "      <th>9</th>\n",
       "      <td>HP 15s 11th Gen Intel Core i3- 8GB RAM/512GB S...</td>\n",
       "      <td>39,799</td>\n",
       "      <td>4.1 out of 5 stars</td>\n",
       "    </tr>\n",
       "    <tr>\n",
       "      <th>10</th>\n",
       "      <td>Lenovo IdeaPad 3 10th Gen Intel Core i3 15.6 F...</td>\n",
       "      <td>43,890</td>\n",
       "      <td>4.0 out of 5 stars</td>\n",
       "    </tr>\n",
       "  </tbody>\n",
       "</table>\n",
       "</div>"
      ],
      "text/plain": [
       "                                          Laptop Name Price(₹)  \\\n",
       "1   HP 14s 11th Gen Intel Core i3- 8GB RAM/256GB S...   40,990   \n",
       "2   Lenovo IdeaPad Slim 3 10th Gen Intel Core i3 1...   38,990   \n",
       "3   Lenovo IdeaPad Slim 3 10th Gen Intel Core i3 1...   36,490   \n",
       "4   Dell New 15 Intel i3-1115G4 Laptop, 8GB, 256GB...   40,190   \n",
       "5   Lenovo IdeaPad 3 11th Gen Intel Core i3 35.56c...   40,990   \n",
       "6   HP 14s 11th Gen Intel Core i3- 8GB RAM/256GB S...   40,990   \n",
       "7   HP 11th Gen Intel Core i3 15.6 inches FHD Lapt...   39,490   \n",
       "8   ASUS VivoBook 14 (2021), Intel Core i3-1115G4 ...   37,990   \n",
       "9   HP 15s 11th Gen Intel Core i3- 8GB RAM/512GB S...   39,799   \n",
       "10  Lenovo IdeaPad 3 10th Gen Intel Core i3 15.6 F...   43,890   \n",
       "\n",
       "                Rating  \n",
       "1   4.2 out of 5 stars  \n",
       "2   4.2 out of 5 stars  \n",
       "3   3.9 out of 5 stars  \n",
       "4   3.3 out of 5 stars  \n",
       "5   3.9 out of 5 stars  \n",
       "6   4.2 out of 5 stars  \n",
       "7   3.4 out of 5 stars  \n",
       "8   3.8 out of 5 stars  \n",
       "9   4.1 out of 5 stars  \n",
       "10  4.0 out of 5 stars  "
      ]
     },
     "execution_count": 90,
     "metadata": {},
     "output_type": "execute_result"
    }
   ],
   "source": [
    "LaptopDF = pd.DataFrame({\"Laptop Name\":title[0:10],\"Price(₹)\":price[0:10],\"Rating\":Rating[0:10]})\n",
    "LaptopDF.reset_index(drop=True,inplace = True)\n",
    "LaptopDF.index+= 1\n",
    "LaptopDF"
   ]
  },
  {
   "cell_type": "markdown",
   "id": "6249cc8f",
   "metadata": {},
   "source": [
    "# Q9 scrape the data for the first 10 jobs results based on the steps suggested"
   ]
  },
  {
   "cell_type": "code",
   "execution_count": 130,
   "id": "56045c91",
   "metadata": {},
   "outputs": [],
   "source": [
    "driver = webdriver.Chrome(r'C:\\Users\\Anuradha\\Downloads\\chromedriver.exe')"
   ]
  },
  {
   "cell_type": "code",
   "execution_count": 131,
   "id": "b384a3cf",
   "metadata": {},
   "outputs": [],
   "source": [
    "#Opening URL\n",
    "url = 'https://www.ambitionbox.com/'\n",
    "driver.get(url)"
   ]
  },
  {
   "cell_type": "code",
   "execution_count": 132,
   "id": "7050f950",
   "metadata": {},
   "outputs": [
    {
     "data": {
      "text/plain": [
       "<selenium.webdriver.remote.webelement.WebElement (session=\"01d406104e3d081bc14c1ce4db010fdb\", element=\"a2815307-191e-4a4d-a3e3-ed1e3abe145e\")>"
      ]
     },
     "execution_count": 132,
     "metadata": {},
     "output_type": "execute_result"
    }
   ],
   "source": [
    "# Find and CLick JOBS\n",
    "jobs_btn = driver.find_element_by_xpath('/html/body/div[1]/nav/nav/a[6]')\n",
    "jobs_btn"
   ]
  },
  {
   "cell_type": "code",
   "execution_count": 133,
   "id": "1676f217",
   "metadata": {},
   "outputs": [],
   "source": [
    "jobs_btn.click()"
   ]
  },
  {
   "cell_type": "code",
   "execution_count": 134,
   "id": "e510db90",
   "metadata": {},
   "outputs": [
    {
     "data": {
      "text/plain": [
       "<selenium.webdriver.remote.webelement.WebElement (session=\"01d406104e3d081bc14c1ce4db010fdb\", element=\"c1ae55da-5abf-4656-8fd4-3a59580d5619\")>"
      ]
     },
     "execution_count": 134,
     "metadata": {},
     "output_type": "execute_result"
    }
   ],
   "source": [
    "# Search Job\n",
    "search_job = driver.find_element_by_xpath('/html/body/div/div/div/div[2]/div[1]/div/div/div/div/span/input')\n",
    "search_job"
   ]
  },
  {
   "cell_type": "code",
   "execution_count": 135,
   "id": "311de710",
   "metadata": {},
   "outputs": [],
   "source": [
    "search_job.send_keys(\"Data Scientist\")"
   ]
  },
  {
   "cell_type": "code",
   "execution_count": 136,
   "id": "46e02738",
   "metadata": {},
   "outputs": [
    {
     "data": {
      "text/plain": [
       "<selenium.webdriver.remote.webelement.WebElement (session=\"01d406104e3d081bc14c1ce4db010fdb\", element=\"9ac616e3-4a78-4fa3-8a74-fe8a01124df8\")>"
      ]
     },
     "execution_count": 136,
     "metadata": {},
     "output_type": "execute_result"
    }
   ],
   "source": [
    "# Find and CLick Search\n",
    "search_btn = driver.find_element_by_xpath('/html/body/div/div/div/div[2]/div[1]/div/div/div/button/span')\n",
    "search_btn"
   ]
  },
  {
   "cell_type": "code",
   "execution_count": 137,
   "id": "e064ac44",
   "metadata": {},
   "outputs": [],
   "source": [
    "search_btn.click()"
   ]
  },
  {
   "cell_type": "code",
   "execution_count": 138,
   "id": "101dfd76",
   "metadata": {},
   "outputs": [
    {
     "data": {
      "text/plain": [
       "<selenium.webdriver.remote.webelement.WebElement (session=\"01d406104e3d081bc14c1ce4db010fdb\", element=\"07b04763-dcd3-4df7-b45b-49ebc0135690\")>"
      ]
     },
     "execution_count": 138,
     "metadata": {},
     "output_type": "execute_result"
    }
   ],
   "source": [
    "# Find and CLick Location\n",
    "loc_btn = driver.find_element_by_xpath('/html/body/div/div/div/div[2]/div[2]/div[1]/div/div/div/div[2]/div[1]/i')\n",
    "loc_btn"
   ]
  },
  {
   "cell_type": "code",
   "execution_count": 139,
   "id": "b6323c25",
   "metadata": {},
   "outputs": [],
   "source": [
    "loc_btn.click()"
   ]
  },
  {
   "cell_type": "code",
   "execution_count": 140,
   "id": "34565eb0",
   "metadata": {},
   "outputs": [
    {
     "data": {
      "text/plain": [
       "<selenium.webdriver.remote.webelement.WebElement (session=\"01d406104e3d081bc14c1ce4db010fdb\", element=\"9a7ba344-af7e-4648-8c8f-b37db360fa6d\")>"
      ]
     },
     "execution_count": 140,
     "metadata": {},
     "output_type": "execute_result"
    }
   ],
   "source": [
    "# Search Noida\n",
    "search_nda = driver.find_element_by_xpath('/html/body/div/div/div/div[2]/div[2]/div[1]/div/div/div/div[2]/div[2]/div/div[2]/input')\n",
    "search_nda"
   ]
  },
  {
   "cell_type": "code",
   "execution_count": 141,
   "id": "e60622fc",
   "metadata": {},
   "outputs": [],
   "source": [
    "search_nda.send_keys(\"Noida\")"
   ]
  },
  {
   "cell_type": "code",
   "execution_count": 143,
   "id": "38b5692e",
   "metadata": {},
   "outputs": [
    {
     "data": {
      "text/plain": [
       "<selenium.webdriver.remote.webelement.WebElement (session=\"01d406104e3d081bc14c1ce4db010fdb\", element=\"47f30237-9efe-42e2-af8b-fb1b32af1bab\")>"
      ]
     },
     "execution_count": 143,
     "metadata": {},
     "output_type": "execute_result"
    }
   ],
   "source": [
    "# Find and CLick Noida\n",
    "noida_search = driver.find_element_by_xpath('/html/body/div/div/div/div[2]/div[2]/div[1]/div/div/div/div[2]/div[2]/div/div[3]/div[1]/div[1]/div/input')\n",
    "noida_search"
   ]
  },
  {
   "cell_type": "code",
   "execution_count": 144,
   "id": "b76695ea",
   "metadata": {},
   "outputs": [],
   "source": [
    "noida_search.click()"
   ]
  },
  {
   "cell_type": "code",
   "execution_count": 145,
   "id": "657070e7",
   "metadata": {},
   "outputs": [
    {
     "data": {
      "text/plain": [
       "[<selenium.webdriver.remote.webelement.WebElement (session=\"01d406104e3d081bc14c1ce4db010fdb\", element=\"a8ff0760-81e1-437e-b53b-179de1ee1173\")>,\n",
       " <selenium.webdriver.remote.webelement.WebElement (session=\"01d406104e3d081bc14c1ce4db010fdb\", element=\"2fb4920d-ca10-4877-8656-56ad182b1ed8\")>,\n",
       " <selenium.webdriver.remote.webelement.WebElement (session=\"01d406104e3d081bc14c1ce4db010fdb\", element=\"6057c693-f140-419d-805b-4e702c616728\")>,\n",
       " <selenium.webdriver.remote.webelement.WebElement (session=\"01d406104e3d081bc14c1ce4db010fdb\", element=\"426f8098-a459-4fee-b018-49ca088bb507\")>,\n",
       " <selenium.webdriver.remote.webelement.WebElement (session=\"01d406104e3d081bc14c1ce4db010fdb\", element=\"8e23af24-a605-478d-8f63-4bd3b2d23698\")>,\n",
       " <selenium.webdriver.remote.webelement.WebElement (session=\"01d406104e3d081bc14c1ce4db010fdb\", element=\"dec8d18d-6167-4e2b-818f-f2564f81e4b2\")>,\n",
       " <selenium.webdriver.remote.webelement.WebElement (session=\"01d406104e3d081bc14c1ce4db010fdb\", element=\"a903d7dd-cf5b-4af1-af23-a67feb504bb3\")>,\n",
       " <selenium.webdriver.remote.webelement.WebElement (session=\"01d406104e3d081bc14c1ce4db010fdb\", element=\"5ef7e5a6-6efc-4c7d-9b81-3ed0faf1c9b8\")>,\n",
       " <selenium.webdriver.remote.webelement.WebElement (session=\"01d406104e3d081bc14c1ce4db010fdb\", element=\"76b26394-ccfb-4d82-8595-217308da087b\")>,\n",
       " <selenium.webdriver.remote.webelement.WebElement (session=\"01d406104e3d081bc14c1ce4db010fdb\", element=\"a925618e-90d2-498f-aa9c-3ab577881435\")>]"
      ]
     },
     "execution_count": 145,
     "metadata": {},
     "output_type": "execute_result"
    }
   ],
   "source": [
    "company_tags = driver.find_elements_by_xpath('//p[@class=\"company body-medium\"]')\n",
    "company_tags"
   ]
  },
  {
   "cell_type": "code",
   "execution_count": 146,
   "id": "cdc15f86",
   "metadata": {},
   "outputs": [
    {
     "data": {
      "text/plain": [
       "10"
      ]
     },
     "execution_count": 146,
     "metadata": {},
     "output_type": "execute_result"
    }
   ],
   "source": [
    "company_name = []\n",
    "\n",
    "for i in company_tags:\n",
    "    company_name.append(i.text)\n",
    "    \n",
    "len(company_name)"
   ]
  },
  {
   "cell_type": "code",
   "execution_count": 147,
   "id": "a73c2896",
   "metadata": {},
   "outputs": [
    {
     "data": {
      "text/plain": [
       "['Jubilant Foodworks Limited',\n",
       " 'HCL Technologies',\n",
       " 'EY GDS',\n",
       " 'Tavant Technologies India Pvt. Ltd.',\n",
       " 'Denave India Pvt Ltd.',\n",
       " 'EXL Service',\n",
       " 'CHT Sapiense',\n",
       " 'Pitney Bowes India Pvt ltd',\n",
       " 'Zyoin',\n",
       " 'Ameriprise Financial']"
      ]
     },
     "execution_count": 147,
     "metadata": {},
     "output_type": "execute_result"
    }
   ],
   "source": [
    "company_name"
   ]
  },
  {
   "cell_type": "code",
   "execution_count": 163,
   "id": "2d0bb6a5",
   "metadata": {},
   "outputs": [
    {
     "data": {
      "text/plain": [
       "20"
      ]
     },
     "execution_count": 163,
     "metadata": {},
     "output_type": "execute_result"
    }
   ],
   "source": [
    "daysold_tags = driver.find_elements_by_xpath('//span[@class=\"body-small-l\"]')\n",
    "len(daysold_tags)"
   ]
  },
  {
   "cell_type": "code",
   "execution_count": 164,
   "id": "20521291",
   "metadata": {},
   "outputs": [
    {
     "data": {
      "text/plain": [
       "[<selenium.webdriver.remote.webelement.WebElement (session=\"01d406104e3d081bc14c1ce4db010fdb\", element=\"2f9b0fa7-9fb6-4c34-99d8-22c750d39a73\")>,\n",
       " <selenium.webdriver.remote.webelement.WebElement (session=\"01d406104e3d081bc14c1ce4db010fdb\", element=\"87c771f5-5785-479a-8565-ce0b6b9a9e53\")>,\n",
       " <selenium.webdriver.remote.webelement.WebElement (session=\"01d406104e3d081bc14c1ce4db010fdb\", element=\"f918d155-a88b-4b25-bc62-6d246b4b3555\")>,\n",
       " <selenium.webdriver.remote.webelement.WebElement (session=\"01d406104e3d081bc14c1ce4db010fdb\", element=\"9dedd0ff-73b7-4336-b8d1-1d59438a2b9c\")>,\n",
       " <selenium.webdriver.remote.webelement.WebElement (session=\"01d406104e3d081bc14c1ce4db010fdb\", element=\"f65a6d7b-fd73-4412-8f9b-8a94836d0365\")>,\n",
       " <selenium.webdriver.remote.webelement.WebElement (session=\"01d406104e3d081bc14c1ce4db010fdb\", element=\"ec2b9ead-67f4-4b84-90d2-7e73dbb348b1\")>,\n",
       " <selenium.webdriver.remote.webelement.WebElement (session=\"01d406104e3d081bc14c1ce4db010fdb\", element=\"ba07e976-d303-4c86-8f97-b9ff9ebf073f\")>,\n",
       " <selenium.webdriver.remote.webelement.WebElement (session=\"01d406104e3d081bc14c1ce4db010fdb\", element=\"c6350183-b867-4d53-bfc4-d28c40653403\")>,\n",
       " <selenium.webdriver.remote.webelement.WebElement (session=\"01d406104e3d081bc14c1ce4db010fdb\", element=\"c48950b9-33da-413c-a30d-ec32fd7be015\")>,\n",
       " <selenium.webdriver.remote.webelement.WebElement (session=\"01d406104e3d081bc14c1ce4db010fdb\", element=\"1945d20d-fe69-450f-a0d9-676b11109fb4\")>,\n",
       " <selenium.webdriver.remote.webelement.WebElement (session=\"01d406104e3d081bc14c1ce4db010fdb\", element=\"8344278a-9a1b-45a3-acdc-c4a93c54f62c\")>,\n",
       " <selenium.webdriver.remote.webelement.WebElement (session=\"01d406104e3d081bc14c1ce4db010fdb\", element=\"33b3878c-10de-4e6a-b528-7037ce30d7a1\")>,\n",
       " <selenium.webdriver.remote.webelement.WebElement (session=\"01d406104e3d081bc14c1ce4db010fdb\", element=\"9d8f34d0-867d-431e-8623-9d7e9e884a98\")>,\n",
       " <selenium.webdriver.remote.webelement.WebElement (session=\"01d406104e3d081bc14c1ce4db010fdb\", element=\"9261d05b-75ae-4571-bcfc-c24de983ac46\")>,\n",
       " <selenium.webdriver.remote.webelement.WebElement (session=\"01d406104e3d081bc14c1ce4db010fdb\", element=\"01e0c1e0-851c-44c2-beaa-837840d55762\")>,\n",
       " <selenium.webdriver.remote.webelement.WebElement (session=\"01d406104e3d081bc14c1ce4db010fdb\", element=\"07f4f5db-8c52-4b7b-ac5c-1a325b01d86d\")>,\n",
       " <selenium.webdriver.remote.webelement.WebElement (session=\"01d406104e3d081bc14c1ce4db010fdb\", element=\"7f7c8d5a-6734-4a3b-9c20-4615560c759d\")>,\n",
       " <selenium.webdriver.remote.webelement.WebElement (session=\"01d406104e3d081bc14c1ce4db010fdb\", element=\"990ecdc3-c2e5-4606-9d1a-be4d390da450\")>,\n",
       " <selenium.webdriver.remote.webelement.WebElement (session=\"01d406104e3d081bc14c1ce4db010fdb\", element=\"47f47fff-598e-4448-b403-6adb9a5a98c0\")>,\n",
       " <selenium.webdriver.remote.webelement.WebElement (session=\"01d406104e3d081bc14c1ce4db010fdb\", element=\"02fb3550-2700-4569-aa90-47c7a9e02d05\")>]"
      ]
     },
     "execution_count": 164,
     "metadata": {},
     "output_type": "execute_result"
    }
   ],
   "source": [
    "daysold_tags"
   ]
  },
  {
   "cell_type": "code",
   "execution_count": 171,
   "id": "dd68e0ef",
   "metadata": {},
   "outputs": [
    {
     "data": {
      "text/plain": [
       "20"
      ]
     },
     "execution_count": 171,
     "metadata": {},
     "output_type": "execute_result"
    }
   ],
   "source": [
    "num_days_old = []\n",
    "\n",
    "for i in daysold_tags:\n",
    "    num_days_old.append(i.text)\n",
    "    \n",
    "len(num_days_old)"
   ]
  },
  {
   "cell_type": "code",
   "execution_count": 172,
   "id": "9552bc1b",
   "metadata": {},
   "outputs": [
    {
     "data": {
      "text/plain": [
       "['13d ago',\n",
       " 'via naukri.com',\n",
       " '27d ago',\n",
       " 'via naukri.com',\n",
       " '28d ago',\n",
       " 'via iimjobs.com',\n",
       " '8d ago',\n",
       " 'via naukri.com',\n",
       " '8d ago',\n",
       " 'via naukri.com',\n",
       " '21d ago',\n",
       " 'via naukri.com',\n",
       " '2d ago',\n",
       " 'via iimjobs.com',\n",
       " '28d ago',\n",
       " 'via naukri.com',\n",
       " '6d ago',\n",
       " 'via hirist.com',\n",
       " '1mon ago',\n",
       " 'via naukri.com']"
      ]
     },
     "execution_count": 172,
     "metadata": {},
     "output_type": "execute_result"
    }
   ],
   "source": [
    "num_days_old"
   ]
  },
  {
   "cell_type": "code",
   "execution_count": 173,
   "id": "8f7c0797",
   "metadata": {},
   "outputs": [
    {
     "data": {
      "text/plain": [
       "['13d ago',\n",
       " '27d ago',\n",
       " '28d ago',\n",
       " '8d ago',\n",
       " '8d ago',\n",
       " '21d ago',\n",
       " '2d ago',\n",
       " '28d ago',\n",
       " '6d ago',\n",
       " '1mon ago']"
      ]
     },
     "execution_count": 173,
     "metadata": {},
     "output_type": "execute_result"
    }
   ],
   "source": [
    "del num_days_old[1::2]\n",
    "num_days_old"
   ]
  },
  {
   "cell_type": "code",
   "execution_count": 174,
   "id": "75d21b86",
   "metadata": {},
   "outputs": [
    {
     "data": {
      "text/plain": [
       "10"
      ]
     },
     "execution_count": 174,
     "metadata": {},
     "output_type": "execute_result"
    }
   ],
   "source": [
    "rating_tags = driver.find_elements_by_xpath('//span[@class=\"body-small\"]')\n",
    "len(rating_tags)"
   ]
  },
  {
   "cell_type": "code",
   "execution_count": 175,
   "id": "22a0c8f4",
   "metadata": {},
   "outputs": [
    {
     "data": {
      "text/plain": [
       "10"
      ]
     },
     "execution_count": 175,
     "metadata": {},
     "output_type": "execute_result"
    }
   ],
   "source": [
    "rating = []\n",
    "\n",
    "for i in rating_tags:\n",
    "    rating.append(i.text)\n",
    "    \n",
    "len(rating)"
   ]
  },
  {
   "cell_type": "code",
   "execution_count": 176,
   "id": "e5812d06",
   "metadata": {},
   "outputs": [
    {
     "data": {
      "text/plain": [
       "['3.9', '3.8', '3.7', '4.0', '4.0', '3.8', '3.8', '4.2', '4.1', '4.0']"
      ]
     },
     "execution_count": 176,
     "metadata": {},
     "output_type": "execute_result"
    }
   ],
   "source": [
    "rating"
   ]
  },
  {
   "cell_type": "code",
   "execution_count": 177,
   "id": "51a6daff",
   "metadata": {},
   "outputs": [
    {
     "data": {
      "text/html": [
       "<div>\n",
       "<style scoped>\n",
       "    .dataframe tbody tr th:only-of-type {\n",
       "        vertical-align: middle;\n",
       "    }\n",
       "\n",
       "    .dataframe tbody tr th {\n",
       "        vertical-align: top;\n",
       "    }\n",
       "\n",
       "    .dataframe thead th {\n",
       "        text-align: right;\n",
       "    }\n",
       "</style>\n",
       "<table border=\"1\" class=\"dataframe\">\n",
       "  <thead>\n",
       "    <tr style=\"text-align: right;\">\n",
       "      <th></th>\n",
       "      <th>Company Name</th>\n",
       "      <th>Number of Days Ago Posted</th>\n",
       "      <th>Rating of Company</th>\n",
       "    </tr>\n",
       "  </thead>\n",
       "  <tbody>\n",
       "    <tr>\n",
       "      <th>0</th>\n",
       "      <td>Jubilant Foodworks Limited</td>\n",
       "      <td>13d ago</td>\n",
       "      <td>3.9</td>\n",
       "    </tr>\n",
       "    <tr>\n",
       "      <th>1</th>\n",
       "      <td>HCL Technologies</td>\n",
       "      <td>27d ago</td>\n",
       "      <td>3.8</td>\n",
       "    </tr>\n",
       "    <tr>\n",
       "      <th>2</th>\n",
       "      <td>EY GDS</td>\n",
       "      <td>28d ago</td>\n",
       "      <td>3.7</td>\n",
       "    </tr>\n",
       "    <tr>\n",
       "      <th>3</th>\n",
       "      <td>Tavant Technologies India Pvt. Ltd.</td>\n",
       "      <td>8d ago</td>\n",
       "      <td>4.0</td>\n",
       "    </tr>\n",
       "    <tr>\n",
       "      <th>4</th>\n",
       "      <td>Denave India Pvt Ltd.</td>\n",
       "      <td>8d ago</td>\n",
       "      <td>4.0</td>\n",
       "    </tr>\n",
       "    <tr>\n",
       "      <th>5</th>\n",
       "      <td>EXL Service</td>\n",
       "      <td>21d ago</td>\n",
       "      <td>3.8</td>\n",
       "    </tr>\n",
       "    <tr>\n",
       "      <th>6</th>\n",
       "      <td>CHT Sapiense</td>\n",
       "      <td>2d ago</td>\n",
       "      <td>3.8</td>\n",
       "    </tr>\n",
       "    <tr>\n",
       "      <th>7</th>\n",
       "      <td>Pitney Bowes India Pvt ltd</td>\n",
       "      <td>28d ago</td>\n",
       "      <td>4.2</td>\n",
       "    </tr>\n",
       "    <tr>\n",
       "      <th>8</th>\n",
       "      <td>Zyoin</td>\n",
       "      <td>6d ago</td>\n",
       "      <td>4.1</td>\n",
       "    </tr>\n",
       "    <tr>\n",
       "      <th>9</th>\n",
       "      <td>Ameriprise Financial</td>\n",
       "      <td>1mon ago</td>\n",
       "      <td>4.0</td>\n",
       "    </tr>\n",
       "  </tbody>\n",
       "</table>\n",
       "</div>"
      ],
      "text/plain": [
       "                          Company Name Number of Days Ago Posted  \\\n",
       "0           Jubilant Foodworks Limited                   13d ago   \n",
       "1                     HCL Technologies                   27d ago   \n",
       "2                               EY GDS                   28d ago   \n",
       "3  Tavant Technologies India Pvt. Ltd.                    8d ago   \n",
       "4                Denave India Pvt Ltd.                    8d ago   \n",
       "5                          EXL Service                   21d ago   \n",
       "6                         CHT Sapiense                    2d ago   \n",
       "7           Pitney Bowes India Pvt ltd                   28d ago   \n",
       "8                                Zyoin                    6d ago   \n",
       "9                 Ameriprise Financial                  1mon ago   \n",
       "\n",
       "  Rating of Company  \n",
       "0               3.9  \n",
       "1               3.8  \n",
       "2               3.7  \n",
       "3               4.0  \n",
       "4               4.0  \n",
       "5               3.8  \n",
       "6               3.8  \n",
       "7               4.2  \n",
       "8               4.1  \n",
       "9               4.0  "
      ]
     },
     "execution_count": 177,
     "metadata": {},
     "output_type": "execute_result"
    }
   ],
   "source": [
    "ds_jobs = pd.DataFrame()\n",
    "ds_jobs['Company Name'] = company_name\n",
    "ds_jobs['Number of Days Ago Posted'] = num_days_old\n",
    "ds_jobs['Rating of Company'] = rating\n",
    "ds_jobs"
   ]
  },
  {
   "cell_type": "markdown",
   "id": "d59f62a0",
   "metadata": {},
   "source": [
    "# Q10 Write a python code to scrape the salary data for Data Scientist Designation"
   ]
  },
  {
   "cell_type": "code",
   "execution_count": 178,
   "id": "bd501190",
   "metadata": {},
   "outputs": [],
   "source": [
    "driver = webdriver.Chrome(r'C:\\Users\\Anuradha\\Downloads\\chromedriver.exe')"
   ]
  },
  {
   "cell_type": "code",
   "execution_count": 179,
   "id": "7d672e9c",
   "metadata": {},
   "outputs": [],
   "source": [
    "#Opening URL\n",
    "url = 'https://www.ambitionbox.com/'\n",
    "driver.get(url)"
   ]
  },
  {
   "cell_type": "code",
   "execution_count": 180,
   "id": "4b2c22f6",
   "metadata": {},
   "outputs": [
    {
     "data": {
      "text/plain": [
       "<selenium.webdriver.remote.webelement.WebElement (session=\"072af9f9254616733e7e91f2df51d3e2\", element=\"0c7c5004-28b4-4de8-aa22-8368aa1ee28e\")>"
      ]
     },
     "execution_count": 180,
     "metadata": {},
     "output_type": "execute_result"
    }
   ],
   "source": [
    "# Find and Click salaries\n",
    "sal_btn = driver.find_element_by_xpath('/html/body/div[1]/nav/nav/a[4]')\n",
    "sal_btn"
   ]
  },
  {
   "cell_type": "code",
   "execution_count": 181,
   "id": "0eccc2f6",
   "metadata": {},
   "outputs": [],
   "source": [
    "sal_btn.click()"
   ]
  },
  {
   "cell_type": "code",
   "execution_count": 183,
   "id": "a32702ac",
   "metadata": {},
   "outputs": [
    {
     "data": {
      "text/plain": [
       "<selenium.webdriver.remote.webelement.WebElement (session=\"072af9f9254616733e7e91f2df51d3e2\", element=\"3fc16e7c-1d66-41c9-97ad-a5794668f6a1\")>"
      ]
     },
     "execution_count": 183,
     "metadata": {},
     "output_type": "execute_result"
    }
   ],
   "source": [
    "# searching job profile\n",
    "search_jp = driver.find_element_by_xpath('/html/body/div/div/div/main/section[1]/div[2]/div[1]/span/input')\n",
    "search_jp"
   ]
  },
  {
   "cell_type": "code",
   "execution_count": 184,
   "id": "6260fc0f",
   "metadata": {},
   "outputs": [],
   "source": [
    "search_jp.send_keys(\"Data Scientist\")"
   ]
  },
  {
   "cell_type": "code",
   "execution_count": 185,
   "id": "7b83b472",
   "metadata": {},
   "outputs": [
    {
     "data": {
      "text/plain": [
       "<selenium.webdriver.remote.webelement.WebElement (session=\"072af9f9254616733e7e91f2df51d3e2\", element=\"61f8e6c5-ceee-4337-8974-b393edaec42d\")>"
      ]
     },
     "execution_count": 185,
     "metadata": {},
     "output_type": "execute_result"
    }
   ],
   "source": [
    "# Find and Click Data Scientist\n",
    "sal_ds = driver.find_element_by_xpath('/html/body/div/div/div/main/section[1]/div[2]/div[1]/span/div/div/div[1]/div/div/p')\n",
    "sal_ds"
   ]
  },
  {
   "cell_type": "code",
   "execution_count": 186,
   "id": "7ad534c9",
   "metadata": {},
   "outputs": [],
   "source": [
    "sal_ds.click()"
   ]
  },
  {
   "cell_type": "code",
   "execution_count": 187,
   "id": "467cd55f",
   "metadata": {},
   "outputs": [
    {
     "data": {
      "text/plain": [
       "[<selenium.webdriver.remote.webelement.WebElement (session=\"072af9f9254616733e7e91f2df51d3e2\", element=\"f9db6ea4-46e0-4faf-af96-117ee8f69328\")>,\n",
       " <selenium.webdriver.remote.webelement.WebElement (session=\"072af9f9254616733e7e91f2df51d3e2\", element=\"e16820ee-dabd-4ed1-8776-e57719ae1fda\")>,\n",
       " <selenium.webdriver.remote.webelement.WebElement (session=\"072af9f9254616733e7e91f2df51d3e2\", element=\"5cb385e5-6fdf-4745-be2e-3552fe6c1f22\")>,\n",
       " <selenium.webdriver.remote.webelement.WebElement (session=\"072af9f9254616733e7e91f2df51d3e2\", element=\"fff5e0b8-b2a0-4bf1-8b6b-39b3bebfc992\")>,\n",
       " <selenium.webdriver.remote.webelement.WebElement (session=\"072af9f9254616733e7e91f2df51d3e2\", element=\"8ce1d963-716a-4494-833c-faefa6f3810b\")>,\n",
       " <selenium.webdriver.remote.webelement.WebElement (session=\"072af9f9254616733e7e91f2df51d3e2\", element=\"216c965a-2788-4fd7-8dd7-f95c591347f2\")>,\n",
       " <selenium.webdriver.remote.webelement.WebElement (session=\"072af9f9254616733e7e91f2df51d3e2\", element=\"8149ce4a-8d54-4a1c-a989-52724e5d9a9e\")>,\n",
       " <selenium.webdriver.remote.webelement.WebElement (session=\"072af9f9254616733e7e91f2df51d3e2\", element=\"75f6e401-121f-439b-b7f4-6086165be79a\")>,\n",
       " <selenium.webdriver.remote.webelement.WebElement (session=\"072af9f9254616733e7e91f2df51d3e2\", element=\"64225eab-e9fd-40a0-bdbc-06c8bacc5ffe\")>,\n",
       " <selenium.webdriver.remote.webelement.WebElement (session=\"072af9f9254616733e7e91f2df51d3e2\", element=\"ade653b8-004a-49a1-8ac1-b1657cd9ccf4\")>]"
      ]
     },
     "execution_count": 187,
     "metadata": {},
     "output_type": "execute_result"
    }
   ],
   "source": [
    "name_tags = driver.find_elements_by_xpath('//div[@class=\"name\"]')\n",
    "name_tags"
   ]
  },
  {
   "cell_type": "code",
   "execution_count": 188,
   "id": "e28d485c",
   "metadata": {},
   "outputs": [
    {
     "data": {
      "text/plain": [
       "['Walmart\\nbased on 10 salaries',\n",
       " 'Ab Inbev\\nbased on 25 salaries',\n",
       " 'ZS\\nbased on 13 salaries',\n",
       " 'Optum\\nbased on 25 salaries',\n",
       " 'Fractal Analytics\\nbased on 75 salaries',\n",
       " 'Tiger Analytics\\nbased on 30 salaries',\n",
       " 'UnitedHealth\\nbased on 51 salaries',\n",
       " 'Verizon\\nbased on 14 salaries',\n",
       " 'Ganit Business Solutions\\nbased on 13 salaries',\n",
       " 'Ericsson\\nbased on 43 salaries']"
      ]
     },
     "execution_count": 188,
     "metadata": {},
     "output_type": "execute_result"
    }
   ],
   "source": [
    "company_name = []\n",
    "\n",
    "for i in name_tags:\n",
    "    company_name.append(i.text)\n",
    "    \n",
    "company_name"
   ]
  },
  {
   "cell_type": "code",
   "execution_count": 189,
   "id": "01d1f010",
   "metadata": {},
   "outputs": [],
   "source": [
    "company_name1 = []\n",
    "for i in company_name:\n",
    "    c = i.split('\\nbased')\n",
    "    company_name1.append(c[0])"
   ]
  },
  {
   "cell_type": "code",
   "execution_count": 190,
   "id": "e45d382c",
   "metadata": {},
   "outputs": [
    {
     "data": {
      "text/plain": [
       "['Walmart',\n",
       " 'Ab Inbev',\n",
       " 'ZS',\n",
       " 'Optum',\n",
       " 'Fractal Analytics',\n",
       " 'Tiger Analytics',\n",
       " 'UnitedHealth',\n",
       " 'Verizon',\n",
       " 'Ganit Business Solutions',\n",
       " 'Ericsson']"
      ]
     },
     "execution_count": 190,
     "metadata": {},
     "output_type": "execute_result"
    }
   ],
   "source": [
    "company_name1"
   ]
  },
  {
   "cell_type": "code",
   "execution_count": 193,
   "id": "fe5ea7ea",
   "metadata": {},
   "outputs": [],
   "source": [
    "totalsalaryrecord = []\n",
    "for i in company_name:\n",
    "    c = i.split('\\n')\n",
    "    totalsalaryrecord.append(c[1])"
   ]
  },
  {
   "cell_type": "code",
   "execution_count": 194,
   "id": "a2d6619a",
   "metadata": {},
   "outputs": [
    {
     "data": {
      "text/plain": [
       "['based on 10 salaries',\n",
       " 'based on 25 salaries',\n",
       " 'based on 13 salaries',\n",
       " 'based on 25 salaries',\n",
       " 'based on 75 salaries',\n",
       " 'based on 30 salaries',\n",
       " 'based on 51 salaries',\n",
       " 'based on 14 salaries',\n",
       " 'based on 13 salaries',\n",
       " 'based on 43 salaries']"
      ]
     },
     "execution_count": 194,
     "metadata": {},
     "output_type": "execute_result"
    }
   ],
   "source": [
    "totalsalaryrecord"
   ]
  },
  {
   "cell_type": "code",
   "execution_count": 195,
   "id": "5b48cedd",
   "metadata": {},
   "outputs": [
    {
     "data": {
      "text/plain": [
       "[<selenium.webdriver.remote.webelement.WebElement (session=\"072af9f9254616733e7e91f2df51d3e2\", element=\"5e0e3065-0817-482f-8d92-9eaba81a4d0c\")>,\n",
       " <selenium.webdriver.remote.webelement.WebElement (session=\"072af9f9254616733e7e91f2df51d3e2\", element=\"b2ecf30c-64b9-4bec-b519-58bb8ac7767f\")>,\n",
       " <selenium.webdriver.remote.webelement.WebElement (session=\"072af9f9254616733e7e91f2df51d3e2\", element=\"899226b7-3fb8-47a8-b5c7-0da0abb5d561\")>,\n",
       " <selenium.webdriver.remote.webelement.WebElement (session=\"072af9f9254616733e7e91f2df51d3e2\", element=\"71ae1eae-f786-45dc-a8d8-ec78caa84c84\")>,\n",
       " <selenium.webdriver.remote.webelement.WebElement (session=\"072af9f9254616733e7e91f2df51d3e2\", element=\"0513028f-a15a-48b3-be53-18facdd8fcd6\")>,\n",
       " <selenium.webdriver.remote.webelement.WebElement (session=\"072af9f9254616733e7e91f2df51d3e2\", element=\"09afde98-3fab-470e-b762-c3a3fc02c7c1\")>,\n",
       " <selenium.webdriver.remote.webelement.WebElement (session=\"072af9f9254616733e7e91f2df51d3e2\", element=\"bd2182bb-17b7-4cb1-9a5f-1ee3bb2bd73e\")>,\n",
       " <selenium.webdriver.remote.webelement.WebElement (session=\"072af9f9254616733e7e91f2df51d3e2\", element=\"e6c41c16-2c4b-4e5e-803b-121d54e37842\")>,\n",
       " <selenium.webdriver.remote.webelement.WebElement (session=\"072af9f9254616733e7e91f2df51d3e2\", element=\"bc6ab136-a223-4d73-b2d8-447d1081d61d\")>,\n",
       " <selenium.webdriver.remote.webelement.WebElement (session=\"072af9f9254616733e7e91f2df51d3e2\", element=\"fd92a33a-56d0-4b6e-90bf-a45de9e78bd5\")>]"
      ]
     },
     "execution_count": 195,
     "metadata": {},
     "output_type": "execute_result"
    }
   ],
   "source": [
    "exp_tags = driver.find_elements_by_xpath('//div[@class=\"salaries sbold-list-header\"]')\n",
    "exp_tags"
   ]
  },
  {
   "cell_type": "code",
   "execution_count": 196,
   "id": "3c20ee53",
   "metadata": {},
   "outputs": [
    {
     "data": {
      "text/plain": [
       "['Data Scientist\\n . \\n3 yrs exp',\n",
       " 'Data Scientist\\n . \\n3-4 yrs exp',\n",
       " 'Data Scientist\\n . \\n2 yrs exp',\n",
       " 'Data Scientist\\n . \\n3-4 yrs exp',\n",
       " 'Data Scientist\\n . \\n2-4 yrs exp',\n",
       " 'Data Scientist\\n . \\n3-4 yrs exp',\n",
       " 'Data Scientist\\n . \\n2-4 yrs exp',\n",
       " 'Data Scientist\\n . \\n4 yrs exp',\n",
       " 'Data Scientist\\n . \\n4 yrs exp',\n",
       " 'Data Scientist\\n . \\n3-4 yrs exp']"
      ]
     },
     "execution_count": 196,
     "metadata": {},
     "output_type": "execute_result"
    }
   ],
   "source": [
    "exp = []\n",
    "\n",
    "for i in exp_tags:\n",
    "    exp.append(i.text)\n",
    "    \n",
    "exp"
   ]
  },
  {
   "cell_type": "code",
   "execution_count": 204,
   "id": "26ec776a",
   "metadata": {},
   "outputs": [
    {
     "data": {
      "text/plain": [
       "['3 yrs exp',\n",
       " '3-4 yrs exp',\n",
       " '2 yrs exp',\n",
       " '3-4 yrs exp',\n",
       " '2-4 yrs exp',\n",
       " '3-4 yrs exp',\n",
       " '2-4 yrs exp',\n",
       " '4 yrs exp',\n",
       " '4 yrs exp',\n",
       " '3-4 yrs exp']"
      ]
     },
     "execution_count": 204,
     "metadata": {},
     "output_type": "execute_result"
    }
   ],
   "source": [
    "exp1 = []\n",
    "for i in exp:\n",
    "    g = i[19:]\n",
    "    exp1.append(g)\n",
    "    \n",
    "exp1"
   ]
  },
  {
   "cell_type": "code",
   "execution_count": 221,
   "id": "8f51f3c9",
   "metadata": {},
   "outputs": [
    {
     "data": {
      "text/plain": [
       "[<selenium.webdriver.remote.webelement.WebElement (session=\"072af9f9254616733e7e91f2df51d3e2\", element=\"684f5c45-cff6-442c-a0c4-cf5d818956e8\")>,\n",
       " <selenium.webdriver.remote.webelement.WebElement (session=\"072af9f9254616733e7e91f2df51d3e2\", element=\"4c506263-d965-43c1-b7b7-38a43ffce263\")>,\n",
       " <selenium.webdriver.remote.webelement.WebElement (session=\"072af9f9254616733e7e91f2df51d3e2\", element=\"4099ae22-ad2f-4731-b1e7-9f2646cf3630\")>,\n",
       " <selenium.webdriver.remote.webelement.WebElement (session=\"072af9f9254616733e7e91f2df51d3e2\", element=\"3fb8f32f-cbe4-44da-8c13-978fb4578131\")>,\n",
       " <selenium.webdriver.remote.webelement.WebElement (session=\"072af9f9254616733e7e91f2df51d3e2\", element=\"89f53286-f375-4e2d-bbf1-a606286d1de5\")>,\n",
       " <selenium.webdriver.remote.webelement.WebElement (session=\"072af9f9254616733e7e91f2df51d3e2\", element=\"015c1c77-ae53-4f6d-a8de-d59142f1be3e\")>,\n",
       " <selenium.webdriver.remote.webelement.WebElement (session=\"072af9f9254616733e7e91f2df51d3e2\", element=\"3ffec23d-6fbc-4445-bee0-a939a3d6747a\")>,\n",
       " <selenium.webdriver.remote.webelement.WebElement (session=\"072af9f9254616733e7e91f2df51d3e2\", element=\"54dc6d56-ac7c-4d3e-a071-c9ee40f884b8\")>,\n",
       " <selenium.webdriver.remote.webelement.WebElement (session=\"072af9f9254616733e7e91f2df51d3e2\", element=\"0cf02fc5-0f73-4dd8-a819-3921b279b20c\")>,\n",
       " <selenium.webdriver.remote.webelement.WebElement (session=\"072af9f9254616733e7e91f2df51d3e2\", element=\"af7ed630-0418-48ea-b6d5-c68eec4ebd16\")>,\n",
       " <selenium.webdriver.remote.webelement.WebElement (session=\"072af9f9254616733e7e91f2df51d3e2\", element=\"e57522ef-fc08-45a4-910d-8100dc0b0b3c\")>,\n",
       " <selenium.webdriver.remote.webelement.WebElement (session=\"072af9f9254616733e7e91f2df51d3e2\", element=\"3a94463b-b77f-4fba-885c-4aa0940024d0\")>,\n",
       " <selenium.webdriver.remote.webelement.WebElement (session=\"072af9f9254616733e7e91f2df51d3e2\", element=\"3ad64a96-7a53-4637-a50d-4b0023bf8a09\")>,\n",
       " <selenium.webdriver.remote.webelement.WebElement (session=\"072af9f9254616733e7e91f2df51d3e2\", element=\"5fd0e22d-8154-423d-a408-b5e3c3e370bb\")>,\n",
       " <selenium.webdriver.remote.webelement.WebElement (session=\"072af9f9254616733e7e91f2df51d3e2\", element=\"d850d305-20ac-45d4-ba91-07338d9caf91\")>,\n",
       " <selenium.webdriver.remote.webelement.WebElement (session=\"072af9f9254616733e7e91f2df51d3e2\", element=\"b9937308-50b1-4c8f-8835-5e8f7b7915f5\")>,\n",
       " <selenium.webdriver.remote.webelement.WebElement (session=\"072af9f9254616733e7e91f2df51d3e2\", element=\"e7dc30a5-783f-4258-a4e8-47b098aff2a9\")>,\n",
       " <selenium.webdriver.remote.webelement.WebElement (session=\"072af9f9254616733e7e91f2df51d3e2\", element=\"add86ce7-d3e8-41ef-b5c9-43d01adfb96f\")>,\n",
       " <selenium.webdriver.remote.webelement.WebElement (session=\"072af9f9254616733e7e91f2df51d3e2\", element=\"217811dd-e4b6-4ab7-9c9b-5610c29f5a64\")>,\n",
       " <selenium.webdriver.remote.webelement.WebElement (session=\"072af9f9254616733e7e91f2df51d3e2\", element=\"e30f358b-89c7-4e1b-afb4-2416f9b98941\")>]"
      ]
     },
     "execution_count": 221,
     "metadata": {},
     "output_type": "execute_result"
    }
   ],
   "source": [
    "minmax_tags = driver.find_elements_by_xpath('//div[@class=\"value body-medium\"]')\n",
    "minmax_tags"
   ]
  },
  {
   "cell_type": "code",
   "execution_count": 226,
   "id": "f7f45a37",
   "metadata": {},
   "outputs": [
    {
     "data": {
      "text/plain": [
       "['₹ 17.7L',\n",
       " '₹ 35.0L',\n",
       " '₹ 15.0L',\n",
       " '₹ 25.5L',\n",
       " '₹ 9.8L',\n",
       " '₹ 20.0L',\n",
       " '₹ 11.0L',\n",
       " '₹ 21.3L',\n",
       " '₹ 9.5L',\n",
       " '₹ 22.0L',\n",
       " '₹ 9.0L',\n",
       " '₹ 18.5L',\n",
       " '₹ 8.3L',\n",
       " '₹ 20.5L',\n",
       " '₹ 10.0L',\n",
       " '₹ 21.0L',\n",
       " '₹ 8.5L',\n",
       " '₹ 15.0L',\n",
       " '₹ 5.8L',\n",
       " '₹ 24.0L']"
      ]
     },
     "execution_count": 226,
     "metadata": {},
     "output_type": "execute_result"
    }
   ],
   "source": [
    "minmax_sal = []\n",
    "\n",
    "for i in minmax_tags:\n",
    "    minmax_sal.append(i.text)\n",
    "    \n",
    "minmax_sal"
   ]
  },
  {
   "cell_type": "code",
   "execution_count": 231,
   "id": "353722ae",
   "metadata": {},
   "outputs": [
    {
     "data": {
      "text/plain": [
       "['₹ 35.0L',\n",
       " '₹ 25.5L',\n",
       " '₹ 20.0L',\n",
       " '₹ 21.3L',\n",
       " '₹ 22.0L',\n",
       " '₹ 18.5L',\n",
       " '₹ 20.5L',\n",
       " '₹ 21.0L',\n",
       " '₹ 15.0L',\n",
       " '₹ 24.0L']"
      ]
     },
     "execution_count": 231,
     "metadata": {},
     "output_type": "execute_result"
    }
   ],
   "source": [
    "max_sal = minmax_sal[1::2]\n",
    "max_sal"
   ]
  },
  {
   "cell_type": "code",
   "execution_count": 232,
   "id": "01223b7c",
   "metadata": {},
   "outputs": [
    {
     "data": {
      "text/plain": [
       "['₹ 17.7L',\n",
       " '₹ 15.0L',\n",
       " '₹ 9.8L',\n",
       " '₹ 11.0L',\n",
       " '₹ 9.5L',\n",
       " '₹ 9.0L',\n",
       " '₹ 8.3L',\n",
       " '₹ 10.0L',\n",
       " '₹ 8.5L',\n",
       " '₹ 5.8L']"
      ]
     },
     "execution_count": 232,
     "metadata": {},
     "output_type": "execute_result"
    }
   ],
   "source": [
    "min_sal = minmax_sal[::2]\n",
    "min_sal"
   ]
  },
  {
   "cell_type": "code",
   "execution_count": 233,
   "id": "2a2c1360",
   "metadata": {},
   "outputs": [
    {
     "data": {
      "text/plain": [
       "[<selenium.webdriver.remote.webelement.WebElement (session=\"072af9f9254616733e7e91f2df51d3e2\", element=\"9775071f-41c4-4941-a0ff-b70fffe8174d\")>,\n",
       " <selenium.webdriver.remote.webelement.WebElement (session=\"072af9f9254616733e7e91f2df51d3e2\", element=\"e73bd4db-b813-44c5-bbbc-9d6947730252\")>,\n",
       " <selenium.webdriver.remote.webelement.WebElement (session=\"072af9f9254616733e7e91f2df51d3e2\", element=\"3934f4dc-b0bd-46fa-b4b9-d673128a337e\")>,\n",
       " <selenium.webdriver.remote.webelement.WebElement (session=\"072af9f9254616733e7e91f2df51d3e2\", element=\"18162899-96d0-433b-b757-cb16d3532a89\")>,\n",
       " <selenium.webdriver.remote.webelement.WebElement (session=\"072af9f9254616733e7e91f2df51d3e2\", element=\"bc53b3ce-98db-4a89-9aec-2a21913d7b50\")>,\n",
       " <selenium.webdriver.remote.webelement.WebElement (session=\"072af9f9254616733e7e91f2df51d3e2\", element=\"1f1869ec-05c8-4bca-8a9e-4a9a56456457\")>,\n",
       " <selenium.webdriver.remote.webelement.WebElement (session=\"072af9f9254616733e7e91f2df51d3e2\", element=\"0ab2b975-fafa-4475-9675-6771e62007c3\")>,\n",
       " <selenium.webdriver.remote.webelement.WebElement (session=\"072af9f9254616733e7e91f2df51d3e2\", element=\"2922fb92-0b6d-46c2-9779-9b33fb53eb66\")>,\n",
       " <selenium.webdriver.remote.webelement.WebElement (session=\"072af9f9254616733e7e91f2df51d3e2\", element=\"7ca51b5c-b2a5-4f30-b847-ce6a52c985ec\")>,\n",
       " <selenium.webdriver.remote.webelement.WebElement (session=\"072af9f9254616733e7e91f2df51d3e2\", element=\"e5c9b50e-0749-4f50-a87b-41aa00f5463f\")>]"
      ]
     },
     "execution_count": 233,
     "metadata": {},
     "output_type": "execute_result"
    }
   ],
   "source": [
    "avgsal_tags = driver.find_elements_by_xpath('//p[@class=\"averageCtc\"]')\n",
    "avgsal_tags"
   ]
  },
  {
   "cell_type": "code",
   "execution_count": 234,
   "id": "0410b284",
   "metadata": {},
   "outputs": [
    {
     "data": {
      "text/plain": [
       "['₹ 28.7L',\n",
       " '₹ 20.2L',\n",
       " '₹ 15.5L',\n",
       " '₹ 15.1L',\n",
       " '₹ 15.1L',\n",
       " '₹ 14.2L',\n",
       " '₹ 13.8L',\n",
       " '₹ 12.7L',\n",
       " '₹ 12.4L',\n",
       " '₹ 11.9L']"
      ]
     },
     "execution_count": 234,
     "metadata": {},
     "output_type": "execute_result"
    }
   ],
   "source": [
    "avg_sal = []\n",
    "\n",
    "for i in avgsal_tags:\n",
    "    avg_sal.append(i.text)\n",
    "    \n",
    "avg_sal"
   ]
  },
  {
   "cell_type": "code",
   "execution_count": 235,
   "id": "2e8b9264",
   "metadata": {},
   "outputs": [
    {
     "data": {
      "text/html": [
       "<div>\n",
       "<style scoped>\n",
       "    .dataframe tbody tr th:only-of-type {\n",
       "        vertical-align: middle;\n",
       "    }\n",
       "\n",
       "    .dataframe tbody tr th {\n",
       "        vertical-align: top;\n",
       "    }\n",
       "\n",
       "    .dataframe thead th {\n",
       "        text-align: right;\n",
       "    }\n",
       "</style>\n",
       "<table border=\"1\" class=\"dataframe\">\n",
       "  <thead>\n",
       "    <tr style=\"text-align: right;\">\n",
       "      <th></th>\n",
       "      <th>Company Name</th>\n",
       "      <th>Total Salary Record</th>\n",
       "      <th>Average Salary</th>\n",
       "      <th>Maximum Salary</th>\n",
       "      <th>Minimum Salary</th>\n",
       "      <th>Experience Required</th>\n",
       "    </tr>\n",
       "  </thead>\n",
       "  <tbody>\n",
       "    <tr>\n",
       "      <th>0</th>\n",
       "      <td>Walmart</td>\n",
       "      <td>based on 10 salaries</td>\n",
       "      <td>₹ 28.7L</td>\n",
       "      <td>₹ 35.0L</td>\n",
       "      <td>₹ 17.7L</td>\n",
       "      <td>3 yrs exp</td>\n",
       "    </tr>\n",
       "    <tr>\n",
       "      <th>1</th>\n",
       "      <td>Ab Inbev</td>\n",
       "      <td>based on 25 salaries</td>\n",
       "      <td>₹ 20.2L</td>\n",
       "      <td>₹ 25.5L</td>\n",
       "      <td>₹ 15.0L</td>\n",
       "      <td>3-4 yrs exp</td>\n",
       "    </tr>\n",
       "    <tr>\n",
       "      <th>2</th>\n",
       "      <td>ZS</td>\n",
       "      <td>based on 13 salaries</td>\n",
       "      <td>₹ 15.5L</td>\n",
       "      <td>₹ 20.0L</td>\n",
       "      <td>₹ 9.8L</td>\n",
       "      <td>2 yrs exp</td>\n",
       "    </tr>\n",
       "    <tr>\n",
       "      <th>3</th>\n",
       "      <td>Optum</td>\n",
       "      <td>based on 25 salaries</td>\n",
       "      <td>₹ 15.1L</td>\n",
       "      <td>₹ 21.3L</td>\n",
       "      <td>₹ 11.0L</td>\n",
       "      <td>3-4 yrs exp</td>\n",
       "    </tr>\n",
       "    <tr>\n",
       "      <th>4</th>\n",
       "      <td>Fractal Analytics</td>\n",
       "      <td>based on 75 salaries</td>\n",
       "      <td>₹ 15.1L</td>\n",
       "      <td>₹ 22.0L</td>\n",
       "      <td>₹ 9.5L</td>\n",
       "      <td>2-4 yrs exp</td>\n",
       "    </tr>\n",
       "    <tr>\n",
       "      <th>5</th>\n",
       "      <td>Tiger Analytics</td>\n",
       "      <td>based on 30 salaries</td>\n",
       "      <td>₹ 14.2L</td>\n",
       "      <td>₹ 18.5L</td>\n",
       "      <td>₹ 9.0L</td>\n",
       "      <td>3-4 yrs exp</td>\n",
       "    </tr>\n",
       "    <tr>\n",
       "      <th>6</th>\n",
       "      <td>UnitedHealth</td>\n",
       "      <td>based on 51 salaries</td>\n",
       "      <td>₹ 13.8L</td>\n",
       "      <td>₹ 20.5L</td>\n",
       "      <td>₹ 8.3L</td>\n",
       "      <td>2-4 yrs exp</td>\n",
       "    </tr>\n",
       "    <tr>\n",
       "      <th>7</th>\n",
       "      <td>Verizon</td>\n",
       "      <td>based on 14 salaries</td>\n",
       "      <td>₹ 12.7L</td>\n",
       "      <td>₹ 21.0L</td>\n",
       "      <td>₹ 10.0L</td>\n",
       "      <td>4 yrs exp</td>\n",
       "    </tr>\n",
       "    <tr>\n",
       "      <th>8</th>\n",
       "      <td>Ganit Business Solutions</td>\n",
       "      <td>based on 13 salaries</td>\n",
       "      <td>₹ 12.4L</td>\n",
       "      <td>₹ 15.0L</td>\n",
       "      <td>₹ 8.5L</td>\n",
       "      <td>4 yrs exp</td>\n",
       "    </tr>\n",
       "    <tr>\n",
       "      <th>9</th>\n",
       "      <td>Ericsson</td>\n",
       "      <td>based on 43 salaries</td>\n",
       "      <td>₹ 11.9L</td>\n",
       "      <td>₹ 24.0L</td>\n",
       "      <td>₹ 5.8L</td>\n",
       "      <td>3-4 yrs exp</td>\n",
       "    </tr>\n",
       "  </tbody>\n",
       "</table>\n",
       "</div>"
      ],
      "text/plain": [
       "               Company Name   Total Salary Record Average Salary  \\\n",
       "0                   Walmart  based on 10 salaries        ₹ 28.7L   \n",
       "1                  Ab Inbev  based on 25 salaries        ₹ 20.2L   \n",
       "2                        ZS  based on 13 salaries        ₹ 15.5L   \n",
       "3                     Optum  based on 25 salaries        ₹ 15.1L   \n",
       "4         Fractal Analytics  based on 75 salaries        ₹ 15.1L   \n",
       "5           Tiger Analytics  based on 30 salaries        ₹ 14.2L   \n",
       "6              UnitedHealth  based on 51 salaries        ₹ 13.8L   \n",
       "7                   Verizon  based on 14 salaries        ₹ 12.7L   \n",
       "8  Ganit Business Solutions  based on 13 salaries        ₹ 12.4L   \n",
       "9                  Ericsson  based on 43 salaries        ₹ 11.9L   \n",
       "\n",
       "  Maximum Salary Minimum Salary Experience Required  \n",
       "0        ₹ 35.0L        ₹ 17.7L           3 yrs exp  \n",
       "1        ₹ 25.5L        ₹ 15.0L         3-4 yrs exp  \n",
       "2        ₹ 20.0L         ₹ 9.8L           2 yrs exp  \n",
       "3        ₹ 21.3L        ₹ 11.0L         3-4 yrs exp  \n",
       "4        ₹ 22.0L         ₹ 9.5L         2-4 yrs exp  \n",
       "5        ₹ 18.5L         ₹ 9.0L         3-4 yrs exp  \n",
       "6        ₹ 20.5L         ₹ 8.3L         2-4 yrs exp  \n",
       "7        ₹ 21.0L        ₹ 10.0L           4 yrs exp  \n",
       "8        ₹ 15.0L         ₹ 8.5L           4 yrs exp  \n",
       "9        ₹ 24.0L         ₹ 5.8L         3-4 yrs exp  "
      ]
     },
     "execution_count": 235,
     "metadata": {},
     "output_type": "execute_result"
    }
   ],
   "source": [
    "sal = pd.DataFrame()\n",
    "sal['Company Name'] = company_name1\n",
    "sal['Total Salary Record'] = totalsalaryrecord\n",
    "sal['Average Salary'] = avg_sal\n",
    "sal['Maximum Salary'] = max_sal\n",
    "sal['Minimum Salary'] = min_sal\n",
    "sal['Experience Required'] = exp1\n",
    "sal"
   ]
  },
  {
   "cell_type": "markdown",
   "id": "1fab3f89",
   "metadata": {},
   "source": [
    "# `END`"
   ]
  }
 ],
 "metadata": {
  "kernelspec": {
   "display_name": "Python 3 (ipykernel)",
   "language": "python",
   "name": "python3"
  },
  "language_info": {
   "codemirror_mode": {
    "name": "ipython",
    "version": 3
   },
   "file_extension": ".py",
   "mimetype": "text/x-python",
   "name": "python",
   "nbconvert_exporter": "python",
   "pygments_lexer": "ipython3",
   "version": "3.9.7"
  }
 },
 "nbformat": 4,
 "nbformat_minor": 5
}
