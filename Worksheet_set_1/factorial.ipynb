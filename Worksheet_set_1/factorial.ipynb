{
 "cells": [
  {
   "cell_type": "code",
   "execution_count": 16,
   "id": "61f6087c",
   "metadata": {},
   "outputs": [
    {
     "name": "stdout",
     "output_type": "stream",
     "text": [
      "Enter the number:7\n",
      "Factorial of  7 is  5040\n"
     ]
    }
   ],
   "source": [
    "num=int(input('Enter the number:'))\n",
    "fact=1\n",
    "if num<0:\n",
    "    print('Factorial do not exits for negative numbers')\n",
    "elif num==0:\n",
    "    print('Factorial of 0 is 1')\n",
    "else :\n",
    "    for i in range(1,num+1):\n",
    "        fact=fact*i\n",
    "    print('Factorial of ',num,'is ',fact)"
   ]
  },
  {
   "cell_type": "code",
   "execution_count": 14,
   "id": "9f585525",
   "metadata": {},
   "outputs": [
    {
     "name": "stdout",
     "output_type": "stream",
     "text": [
      "Enter the number to find its factorial :7\n",
      "Factorial of  7  is  5040\n"
     ]
    }
   ],
   "source": [
    "import math\n",
    "def fact(n):\n",
    "    fact=math.factorial(n)\n",
    "    return fact\n",
    "    \n",
    "num=int(input('Enter the number to find its factorial :'))\n",
    "\n",
    "fac=fact(num)\n",
    "print('Factorial of ',num,' is ',fac)\n",
    "\n",
    "    "
   ]
  },
  {
   "cell_type": "code",
   "execution_count": null,
   "id": "1801c463",
   "metadata": {},
   "outputs": [],
   "source": []
  }
 ],
 "metadata": {
  "kernelspec": {
   "display_name": "Python 3 (ipykernel)",
   "language": "python",
   "name": "python3"
  },
  "language_info": {
   "codemirror_mode": {
    "name": "ipython",
    "version": 3
   },
   "file_extension": ".py",
   "mimetype": "text/x-python",
   "name": "python",
   "nbconvert_exporter": "python",
   "pygments_lexer": "ipython3",
   "version": "3.9.7"
  }
 },
 "nbformat": 4,
 "nbformat_minor": 5
}
