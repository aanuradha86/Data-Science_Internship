{
 "cells": [
  {
   "cell_type": "code",
   "execution_count": 8,
   "id": "c22f579a",
   "metadata": {},
   "outputs": [
    {
     "name": "stdout",
     "output_type": "stream",
     "text": [
      "Enter the number0\n",
      "0  is not prime\n"
     ]
    }
   ],
   "source": [
    "num=int(input('Enter the number'))\n",
    "flag=0\n",
    "if num==0 or num==1:\n",
    "    print(num,' is not prime')\n",
    "else:\n",
    "    for i in range(2,int(num/2+1)):\n",
    "        if (num%i)==0:\n",
    "            flag=1\n",
    "            print(num,' is composite number')\n",
    "            break;\n",
    "    if flag==0:\n",
    "        print(num,' is prime number')\n",
    "    "
   ]
  },
  {
   "cell_type": "code",
   "execution_count": null,
   "id": "e34caf59",
   "metadata": {},
   "outputs": [],
   "source": []
  },
  {
   "cell_type": "code",
   "execution_count": null,
   "id": "597d275e",
   "metadata": {},
   "outputs": [],
   "source": [
    "17\n"
   ]
  }
 ],
 "metadata": {
  "kernelspec": {
   "display_name": "Python 3 (ipykernel)",
   "language": "python",
   "name": "python3"
  },
  "language_info": {
   "codemirror_mode": {
    "name": "ipython",
    "version": 3
   },
   "file_extension": ".py",
   "mimetype": "text/x-python",
   "name": "python",
   "nbconvert_exporter": "python",
   "pygments_lexer": "ipython3",
   "version": "3.9.7"
  }
 },
 "nbformat": 4,
 "nbformat_minor": 5
}
