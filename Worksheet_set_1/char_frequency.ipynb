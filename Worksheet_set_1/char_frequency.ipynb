{
 "cells": [
  {
   "cell_type": "code",
   "execution_count": 7,
   "id": "d0c8b879",
   "metadata": {},
   "outputs": [
    {
     "name": "stdout",
     "output_type": "stream",
     "text": [
      "Enter the string i am a girls\n",
      "Frequency of characters in given string is : {'i': 2, ' ': 3, 'a': 2, 'm': 1, 'g': 1, 'r': 1, 'l': 1, 's': 1}\n"
     ]
    }
   ],
   "source": [
    "str1=str(input('Enter the string '))\n",
    "freq_dict={}\n",
    "for i in str1:\n",
    "    if i in freq_dict:\n",
    "        freq_dict[i]=freq_dict[i]+1\n",
    "    else :\n",
    "        freq_dict[i]=1\n",
    "\n",
    "print('Frequency of characters in given string is :',str(freq_dict))\n",
    "    "
   ]
  },
  {
   "cell_type": "code",
   "execution_count": null,
   "id": "b8d79e62",
   "metadata": {},
   "outputs": [],
   "source": []
  }
 ],
 "metadata": {
  "kernelspec": {
   "display_name": "Python 3 (ipykernel)",
   "language": "python",
   "name": "python3"
  },
  "language_info": {
   "codemirror_mode": {
    "name": "ipython",
    "version": 3
   },
   "file_extension": ".py",
   "mimetype": "text/x-python",
   "name": "python",
   "nbconvert_exporter": "python",
   "pygments_lexer": "ipython3",
   "version": "3.9.7"
  }
 },
 "nbformat": 4,
 "nbformat_minor": 5
}
