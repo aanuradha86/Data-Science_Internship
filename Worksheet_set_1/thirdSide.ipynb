{
 "cells": [
  {
   "cell_type": "code",
   "execution_count": 21,
   "id": "6ca6e19e",
   "metadata": {},
   "outputs": [
    {
     "name": "stdout",
     "output_type": "stream",
     "text": [
      "Enter the 1st side of Right angle triangle: 10\n",
      "Enter the 2nd side of the Right angle triangle: 8\n",
      "The hypotenuse of the trinangle is : 12.806248474865697\n"
     ]
    }
   ],
   "source": [
    "from math import sqrt\n",
    "def findSide( side1, side2,  hypotenuse):\n",
    "    hypotenuse=sqrt(side1**2+side2**2)\n",
    "    print('The hypotenuse of the trinangle is :',hypotenuse) \n",
    "    \n",
    "\n",
    "side1=int(input('Enter the 1st side of Right angle triangle: '))\n",
    "side2=int(input('Enter the 2nd side of the Right angle triangle: '))\n",
    "\n",
    "findSide(side1,side2,'x')\n",
    "\n"
   ]
  },
  {
   "cell_type": "code",
   "execution_count": null,
   "id": "80265be9",
   "metadata": {},
   "outputs": [],
   "source": []
  }
 ],
 "metadata": {
  "kernelspec": {
   "display_name": "Python 3 (ipykernel)",
   "language": "python",
   "name": "python3"
  },
  "language_info": {
   "codemirror_mode": {
    "name": "ipython",
    "version": 3
   },
   "file_extension": ".py",
   "mimetype": "text/x-python",
   "name": "python",
   "nbconvert_exporter": "python",
   "pygments_lexer": "ipython3",
   "version": "3.9.7"
  }
 },
 "nbformat": 4,
 "nbformat_minor": 5
}
